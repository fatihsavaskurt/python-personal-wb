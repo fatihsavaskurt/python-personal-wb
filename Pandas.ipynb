{
 "cells": [
  {
   "cell_type": "markdown",
   "id": "1900ba70",
   "metadata": {},
   "source": [
    "<h1>Pandas</h1>"
   ]
  },
  {
   "cell_type": "code",
   "execution_count": null,
   "id": "6a18c88e",
   "metadata": {},
   "outputs": [],
   "source": [
    "-Pandas tabular datadan oluşan bir dataframeden türetilir. Pandasın kullanıldığı\n",
    "data, row ve columndan oluşur. Datayı keşfetme, temizleme ve işlemeye yarar."
   ]
  },
  {
   "cell_type": "markdown",
   "id": "d77e7ab8",
   "metadata": {},
   "source": [
    "-Bir veri setini incelemenin birkaç yolu var. <br>\n",
    " -table_name.head(): Bu fonksiyon, ilgili tablonun ilk birkaç satırını döndürmeye yarar.<br>\n",
    " -table_name.info(): sütun adlarını, içerdiği veri türlerini ve eksik değerleri olup olmadığını belirtir.<br>\n",
    " -table_name.shape: dataframe'in satır ve sütun sayısını tutan bir tiuple içerir.<br>\n",
    " -table_name.describe(): sayısal sütunlar için, ortalama ve medyan gibi özet istatistikleri içerir.<br>\n",
    " -table_name.values: veri değerlerinin tamamını array olarak alma.<br>\n",
    " -table_name.columns: dataframedeki tüm sütunları çıktı olarak alma.<br>"
   ]
  },
  {
   "cell_type": "code",
   "execution_count": 1,
   "id": "d5d4fd45",
   "metadata": {},
   "outputs": [],
   "source": [
    "import pandas as pd ##Pandası import ettik.\n",
    "import numpy as np"
   ]
  },
  {
   "cell_type": "code",
   "execution_count": null,
   "id": "cd9cb109",
   "metadata": {
    "scrolled": true
   },
   "outputs": [],
   "source": [
    "columns = ['Student ID', 'Course ID', 'Marks']\n",
    "data = [(103, 201, 67), (103, 203, 67), (103, 204, 89)]\n",
    "df = pd.DataFrame(data, columns=columns)\n",
    "df.at['Total marks', 'Marks'] = df['Marks'].sum()\n",
    "\n",
    "print(df)"
   ]
  },
  {
   "cell_type": "code",
   "execution_count": null,
   "id": "83ae4506",
   "metadata": {},
   "outputs": [],
   "source": [
    "dates = pd.date_range(\"20240101\", periods=20)b\n",
    "df = pd.DataFrame(np.random.randn(20, 4), index=dates, columns=list(\"ABCD\"))\n",
    "print(df)"
   ]
  },
  {
   "cell_type": "code",
   "execution_count": null,
   "id": "3845dd6a",
   "metadata": {},
   "outputs": [],
   "source": [
    "df.head() ##ilk birkaç satırını veriyor."
   ]
  },
  {
   "cell_type": "code",
   "execution_count": null,
   "id": "2fe70343",
   "metadata": {},
   "outputs": [],
   "source": [
    "df.info ##tablo ile alaklı bilgi veriyor."
   ]
  },
  {
   "cell_type": "code",
   "execution_count": null,
   "id": "c331790f",
   "metadata": {},
   "outputs": [],
   "source": [
    "df.shape ##satır ve sütun sayısını veriyor."
   ]
  },
  {
   "cell_type": "code",
   "execution_count": null,
   "id": "acefbef7",
   "metadata": {},
   "outputs": [],
   "source": [
    "df.describe()"
   ]
  },
  {
   "cell_type": "code",
   "execution_count": null,
   "id": "53db7356",
   "metadata": {
    "scrolled": false
   },
   "outputs": [],
   "source": [
    "df.values"
   ]
  },
  {
   "cell_type": "code",
   "execution_count": null,
   "id": "80e86724",
   "metadata": {
    "scrolled": true
   },
   "outputs": [],
   "source": [
    "df.columns"
   ]
  },
  {
   "cell_type": "code",
   "execution_count": null,
   "id": "c15c1fee",
   "metadata": {},
   "outputs": [],
   "source": [
    "dates = pd.date_range(start = \"01/01/2024\", periods = 12, freq = 'M') #ay bazlı"
   ]
  },
  {
   "cell_type": "code",
   "execution_count": null,
   "id": "1b43923f",
   "metadata": {},
   "outputs": [],
   "source": [
    "print(dates)"
   ]
  },
  {
   "cell_type": "markdown",
   "id": "9aabfa07",
   "metadata": {},
   "source": [
    "-table_name.sort_values(\"sortlanmak istenen column\") <br>\n",
    "-bu metod ile veriyi <b>küçükten büyüğe</b>  sıralayabiliriz. <br>\n",
    "-table_name.sort_values(\"sortlanmak istenen column\", ascending=False) <br>\n",
    "-bu metod ile <b>büyükten küçüğe</b> sıralama yapabiliriz. <br>\n",
    "-table_name.sort_values(\"sortlanmak istenen column\", \"sortlanmak istenen diğer column\") <br>\n"
   ]
  },
  {
   "cell_type": "code",
   "execution_count": null,
   "id": "76a0b25b",
   "metadata": {
    "scrolled": false
   },
   "outputs": [],
   "source": [
    "df.sort_values(\"A\", b)"
   ]
  },
  {
   "cell_type": "markdown",
   "id": "ad40a61e",
   "metadata": {},
   "source": [
    "-table_name[\"column_name\"], ilgili dataframein tek bir satırını almak için kullanılır<br>\n",
    "-birden fazla satır almak için, table_name[[\"column_name1\",\"column_name2\"]]<br>\n",
    "-yukarıdaki işlemde, dış parantezler ilgili data frame'in alt kümesini almaya yarıyorken, iç parantezler almak istediğimiz kısmın columnlarını içeriyor."
   ]
  },
  {
   "cell_type": "code",
   "execution_count": null,
   "id": "56f63222",
   "metadata": {},
   "outputs": [],
   "source": [
    "half_df = df[[\"A\",\"B\"]]"
   ]
  },
  {
   "cell_type": "code",
   "execution_count": null,
   "id": "fdd562cf",
   "metadata": {},
   "outputs": [],
   "source": [
    "print(half_df)"
   ]
  },
  {
   "cell_type": "markdown",
   "id": "d4cd3b16",
   "metadata": {},
   "source": [
    "-dogs[dogs[\"height_cm\"] > 50] --> Bu kod bloğu, boyu 50 cm'den yüksek olan köpeklerin filtrelenmesine yaramaktadır. <br>\n",
    "-dogs[dogs[\"tür\"] == \"Labrador\"] --> Bu kod bloğu, labrador cinsi köpeklerin filtrelenmesine yarıyor. <br>\n",
    "-dogs[dogs[\"date_of_birth\"] < \"2015-01-01\"] --> bu kod bloğu, tarihsel olarak 2015 yılından önce doğan tüm köpeklerin filtrelenmesine yarıyor.\n",
    "-is_height = dogs[dogs[\"height_cm\"] > 50] <br>\n",
    "-is_breed = dogs[dogs[\"tür\"] == \"Labrador\"] <br>\n",
    "-dogs[is_height & is_breed] --> iki filtrenin birleştirilmesi <br>\n",
    "-birleştirmenin tek satır hali --> dogs[(dogs[\"height_cm\"] > 50) & (dogs[\"tür\"] == \"Labrador\")] <br>\n",
    "-is_black_or_brown = dogs[\"color\"].isin([\"Black\",\"Brown\"]) --> isin metodu ile birden fazla filtreleme değeri atabiliyoruz.\n"
   ]
  },
  {
   "cell_type": "code",
   "execution_count": null,
   "id": "adde6650",
   "metadata": {},
   "outputs": [],
   "source": [
    "data = [(103, 201, 67,'fatih'), (103, 203, 67), (103, 204, 89), (13, 24, 81)]\n",
    "df = pd.DataFrame(data, columns = ['Student ID', 'Course ID', 'Marks','AUM'])\n",
    "\n",
    "\n",
    "print(df)"
   ]
  },
  {
   "cell_type": "code",
   "execution_count": null,
   "id": "5c3c1391",
   "metadata": {},
   "outputs": [],
   "source": [
    "mdata = [(123,'fatih','türkiye',3000),\n",
    "        (345,'tuğçe','makedonya',4000),\n",
    "        (678,'gökmen','ısparta',5000),\n",
    "        (91011,'ayşegül','kapaklı',6000),\n",
    "       (121314,'mehmet','sütçüler',7000),\n",
    "       (151617,'fatma','belen',9000),\n",
    "       (181920,'ahmet','beylikdüzü',10000)]"
   ]
  },
  {
   "cell_type": "code",
   "execution_count": null,
   "id": "4f30a65b",
   "metadata": {},
   "outputs": [],
   "source": [
    "mdf = pd.DataFrame(mdata,columns=['Cust ID','Full NM','Country','AUM'])\n",
    "print(mdf)"
   ]
  },
  {
   "cell_type": "code",
   "execution_count": null,
   "id": "66f4abff",
   "metadata": {},
   "outputs": [],
   "source": [
    "mdf.head() ##ilk birkaç satırı aldım."
   ]
  },
  {
   "cell_type": "code",
   "execution_count": null,
   "id": "1ae8d09c",
   "metadata": {},
   "outputs": [],
   "source": [
    "mdf.describe ##tabloyu tanımladım."
   ]
  },
  {
   "cell_type": "code",
   "execution_count": null,
   "id": "a5fd7e07",
   "metadata": {},
   "outputs": [],
   "source": [
    "mdf.columns ##kolonlara baktık"
   ]
  },
  {
   "cell_type": "code",
   "execution_count": null,
   "id": "db978893",
   "metadata": {},
   "outputs": [],
   "source": [
    "mdf.shape ##satır ve sütun sayılarına baktık"
   ]
  },
  {
   "cell_type": "code",
   "execution_count": null,
   "id": "32571049",
   "metadata": {},
   "outputs": [],
   "source": [
    "mdf.describe() ##sayısal sütunları özetledik."
   ]
  },
  {
   "cell_type": "code",
   "execution_count": null,
   "id": "b43cf7d0",
   "metadata": {},
   "outputs": [],
   "source": [
    "mdf.sort_values(\"AUM\") ##smallest to largest sort"
   ]
  },
  {
   "cell_type": "code",
   "execution_count": null,
   "id": "c25292bc",
   "metadata": {},
   "outputs": [],
   "source": [
    "mdf.sort_values(\"AUM\", ascending = False)"
   ]
  },
  {
   "cell_type": "code",
   "execution_count": null,
   "id": "10127544",
   "metadata": {},
   "outputs": [],
   "source": [
    "mdata = [(123,'fatih','makedonya',23,3000),\n",
    "        (345,'tuğçe','tekirdağ',22,4000),\n",
    "        (678,'gökmen','manastır',53,5000),\n",
    "        (91011,'ayşegül','ısparta',51,6000),\n",
    "       (121314,'mehmet','sütçüler',81,7000),\n",
    "       (151617,'tito','çukurbostan',64,9000),\n",
    "       (181920,'toto','çukurbostan',62,10000)]"
   ]
  },
  {
   "cell_type": "code",
   "execution_count": null,
   "id": "9f989881",
   "metadata": {},
   "outputs": [],
   "source": [
    "import pandas as pd"
   ]
  },
  {
   "cell_type": "code",
   "execution_count": null,
   "id": "237a707f",
   "metadata": {},
   "outputs": [],
   "source": [
    "mdf = pd.DataFrame(mdata,columns=['Cust ID','Full NM','Country','Age','AUM'])\n",
    "print(mdf)"
   ]
  },
  {
   "cell_type": "code",
   "execution_count": null,
   "id": "85b88257",
   "metadata": {},
   "outputs": [],
   "source": [
    "mdf.sort_values(\"AUM\", ascending=False)"
   ]
  },
  {
   "cell_type": "code",
   "execution_count": null,
   "id": "1b07b137",
   "metadata": {},
   "outputs": [],
   "source": [
    "mdf.sort_values([\"AUM\",\"Age\"],ascending=[True,False])"
   ]
  },
  {
   "cell_type": "code",
   "execution_count": null,
   "id": "cac1b514",
   "metadata": {},
   "outputs": [],
   "source": [
    "mdf[mdf[\"AUM\"]>=4000]"
   ]
  },
  {
   "cell_type": "code",
   "execution_count": null,
   "id": "4259fbe2",
   "metadata": {},
   "outputs": [],
   "source": [
    "mdf[mdf[\"Country\"]==\"çukurbostan\"]"
   ]
  },
  {
   "cell_type": "code",
   "execution_count": null,
   "id": "3f8ec328",
   "metadata": {},
   "outputs": [],
   "source": [
    "mdf[(mdf[\"Country\"]==\"sütçüler\")&(mdf[\"Age\"]==81)] ##ikili filtre"
   ]
  },
  {
   "cell_type": "code",
   "execution_count": null,
   "id": "832e56e3",
   "metadata": {},
   "outputs": [],
   "source": [
    "mdf"
   ]
  },
  {
   "cell_type": "code",
   "execution_count": null,
   "id": "bf3ffae8",
   "metadata": {},
   "outputs": [],
   "source": [
    "count = mdf.shape[0]"
   ]
  },
  {
   "cell_type": "code",
   "execution_count": null,
   "id": "816d9dcb",
   "metadata": {},
   "outputs": [],
   "source": [
    "mdf[\"AUM_AVE\"] = mdf[\"AUM\"]/count #yeni satır ekleme"
   ]
  },
  {
   "cell_type": "code",
   "execution_count": null,
   "id": "337fdeab",
   "metadata": {},
   "outputs": [],
   "source": [
    "mdf"
   ]
  },
  {
   "cell_type": "code",
   "execution_count": null,
   "id": "d928eef4",
   "metadata": {
    "scrolled": true
   },
   "outputs": [],
   "source": [
    "mdf"
   ]
  },
  {
   "cell_type": "code",
   "execution_count": null,
   "id": "6ad059b0",
   "metadata": {},
   "outputs": [],
   "source": [
    "mdf[\"AUM\"].mean()"
   ]
  },
  {
   "cell_type": "code",
   "execution_count": null,
   "id": "f54f974e",
   "metadata": {},
   "outputs": [],
   "source": [
    "mdf[\"AUM\"].median()"
   ]
  },
  {
   "cell_type": "code",
   "execution_count": null,
   "id": "478a8ad9",
   "metadata": {},
   "outputs": [],
   "source": [
    "mdf[\"AUM\"].mode()"
   ]
  },
  {
   "cell_type": "code",
   "execution_count": null,
   "id": "48f81dc6",
   "metadata": {},
   "outputs": [],
   "source": [
    "mdf[\"AUM\"].sum()"
   ]
  },
  {
   "cell_type": "code",
   "execution_count": null,
   "id": "5019d17f",
   "metadata": {},
   "outputs": [],
   "source": [
    "# Print the head of the sales DataFrame\n",
    "print(mdf.head())\n",
    "\n",
    "# Print the info about the sales DataFrame\n",
    "print(mdf.info())\n",
    "\n",
    "# Print the mean of weekly_sales\n",
    "print(mdf[\"AUM\"].mean())\n",
    "\n",
    "# Print the median of weekly_sales\n",
    "print(mdf[\"AUM\"].median())"
   ]
  },
  {
   "cell_type": "raw",
   "id": "d9481b89",
   "metadata": {},
   "source": [
    "*Duplicate valueları silmek\n",
    "-tekrar eden aynı değerleri silmek için kullanılan metod.\n",
    "--unique_dogs = vet_visits.drop_duplicates(subset=\"name\") --> bu kod ile, birden fazla kez veterinere gitmiş olan name kolonundaki köpekleri sileceğiz ve tek değere düşüreceğiz.\n",
    "--birden fazla kolona duplicate atmak için, alt küme oluşturuyoruz.\n",
    "--unique_dogs = vet_visits.drop_duplicates(subset = [\"name\", \"breed\"])\n",
    "--bu değerleri saydırmak için --> unique_dogs[\"breed\"].value_counts() eğer sortlamak istiyorsak, value_counts metodunun içinde sort yazarsak output istediğimiz türden sıralı hale gelecek.\n",
    "--eğer oran bazında bakmak istersek, value_counts(normalize=True)"
   ]
  },
  {
   "cell_type": "code",
   "execution_count": null,
   "id": "2233d05a",
   "metadata": {},
   "outputs": [],
   "source": [
    "# Count the number of stores of each type\n",
    "store_counts = store_types[\"type\"].value_counts()\n",
    "print(store_counts)\n",
    "\n",
    "# Get the proportion of stores of each type\n",
    "store_props = store_types[\"type\"].value_counts(normalize = True)\n",
    "print(store_props)\n",
    "\n",
    "# Count the number of stores for each department and sort\n",
    "dept_counts_sorted = store_depts[\"department\"].value_counts(sort = True )\n",
    "print(dept_counts_sorted)\n",
    "\n",
    "# Get the proportion of stores in each department and sort\n",
    "dept_props_sorted = store_depts[\"department\"].value_counts(sort= True, normalize= True)\n",
    "print(dept_props_sorted)"
   ]
  },
  {
   "cell_type": "raw",
   "id": "034a40e1",
   "metadata": {},
   "source": [
    "--Grouped Summary Statistic\n",
    "-SQL'deki GROUP BY metodu ile aynı mantık. \n",
    "-Örneğin bir köpek dataseti var. Çeşitli renkleri ve ırkları olsun. \n",
    "Burda köpeklerin renklerine göre almak istediğimiz zaman aşağıdakki kodu yazacaktık:\n",
    "dogs[dogs[\"color\"] == \"Black\"][\"weight_kg\"].mean()\n",
    "dogs[dogs[\"color\"] == \"Yellow\"][\"weight_kg\"].mean()\n",
    "dogs[dogs[\"color\"] == \"White\"][\"weight_kg\"].mean()\n",
    "-Group metodu ile aşağıdaki şekilde kodu kısaltabiliyoruz;\n",
    "dogs.groupby(\"gruplamak istenilen column\")[\"hangi kolona göre gruplamak istediğimiz).mean()\n",
    "-Örneğin, köpeklerin renklerine göre kilolarını gruplamak istediğimizde:\n",
    "dogs.groupby(\"colors\")[\"weight\"].mean()\n",
    "-Birden fazla istatistiki değeri elde etmek için:\n",
    "dogs.groupby(\"colors\")[\"weight\"].agg([min,max,sum])\n",
    "-Örneğin, birden fazla sütunda gruplamak istediğimizde;\n",
    "dogs.groupby([\"colors\",\"breed\"])[\"weight\"].mean()"
   ]
  },
  {
   "cell_type": "code",
   "execution_count": null,
   "id": "19e8c9cc",
   "metadata": {},
   "outputs": [],
   "source": [
    "# Calc total weekly sales\n",
    "sales_all = sales[\"weekly_sales\"].sum()\n",
    "\n",
    "# Subset for type A stores, calc total weekly sales\n",
    "sales_A = sales[sales[\"type\"] == \"A\"][\"weekly_sales\"].sum()\n",
    "\n",
    "# Subset for type B stores, calc total weekly sales\n",
    "sales_B = sales[sales[\"type\"] == \"B\"][\"weekly_sales\"].sum()\n",
    "\n",
    "# Subset for type C stores, calc total weekly sales\n",
    "sales_C = sales[sales[\"type\"] == \"C\"][\"weekly_sales\"].sum()\n",
    "\n",
    "# Get proportion for each type\n",
    "sales_propn_by_type = [sales_A, sales_B, sales_C] / sales_all\n",
    "print(sales_propn_by_type)"
   ]
  },
  {
   "cell_type": "code",
   "execution_count": null,
   "id": "b29c3d2b",
   "metadata": {},
   "outputs": [],
   "source": [
    "# From previous step\n",
    "sales_by_type = sales.groupby(\"type\")[\"weekly_sales\"].sum()\n",
    "\n",
    "# Group by type and is_holiday; calc total weekly sales\n",
    "sales_by_type_is_holiday = sales.groupby([\"type\",\"is_holiday\"])[\"weekly_sales\"].sum()\n",
    "print(sales_by_type_is_holiday)"
   ]
  },
  {
   "cell_type": "code",
   "execution_count": null,
   "id": "32555c0a",
   "metadata": {},
   "outputs": [],
   "source": [
    "# Import numpy with the alias np\n",
    "import numpy as np\n",
    "\n",
    "# For each store type, aggregate weekly_sales: get min, max, mean, and median\n",
    "sales_stats = sales.groupby(\"type\")[\"weekly_sales\"].agg([np.min, np.max, np.mean, np.median])\n",
    "\n",
    "\n",
    "# Print sales_stats\n",
    "print(sales_stats)\n",
    "\n",
    "# For each store type, aggregate unemployment and fuel_price_usd_per_l: get min, max, mean, and median\n",
    "unemp_fuel_stats = sales.groupby(\"type\")[[\"unemployment\", \"fuel_price_usd_per_l\"]].agg([min, max, np.mean, np.median])\n",
    "\n",
    "# Print unemp_fuel_stats\n",
    "print(unemp_fuel_stats)"
   ]
  },
  {
   "cell_type": "raw",
   "id": "77687d32",
   "metadata": {},
   "source": [
    "**Pivot Table\n",
    "*tablo_adı.pivot_table(values = \"değerleri alınacak kolon\", index = \"pivotlanacak kolon, yani ilk kolon\", aggfunc=[np.mean, np.median], fill_value=0 (eğer pivotta null değer var ise 0 yapmak için)"
   ]
  },
  {
   "cell_type": "code",
   "execution_count": null,
   "id": "c0163941",
   "metadata": {
    "scrolled": true
   },
   "outputs": [],
   "source": [
    "mdf.pivot_table(values = \"AUM\", index = \"Country\", aggfunc=[np.mean,np.median])"
   ]
  },
  {
   "cell_type": "code",
   "execution_count": null,
   "id": "1d20fb42",
   "metadata": {},
   "outputs": [],
   "source": [
    "# Pivot for mean weekly_sales by store type and holiday \n",
    "mean_sales_by_type_holiday = sales.pivot_table(values = \"weekly_sales\", index = \"type\", columns= \"is_holiday\")\n",
    "\n",
    "# Print mean_sales_by_type_holiday\n",
    "print(mean_sales_by_type_holiday)"
   ]
  },
  {
   "cell_type": "code",
   "execution_count": null,
   "id": "2290c79a",
   "metadata": {},
   "outputs": [],
   "source": [
    "# Print the mean weekly_sales by department and type; fill missing values with 0s; sum all rows and cols\n",
    "print(sales.pivot_table(values=\"weekly_sales\", index=\"department\", columns=\"type\", margins= True))"
   ]
  },
  {
   "cell_type": "code",
   "execution_count": 12,
   "id": "b7a8a460",
   "metadata": {},
   "outputs": [
    {
     "name": "stdout",
     "output_type": "stream",
     "text": [
      "            Satış Müşteri\n",
      "Tarih                    \n",
      "2024-01-01    100       A\n",
      "2024-01-02    200       B\n",
      "2024-01-03    150       C\n"
     ]
    }
   ],
   "source": [
    "data = {\n",
    "    'Tarih': ['2024-01-01', '2024-01-02', '2024-01-03'],\n",
    "    'Satış': [100, 200, 150],\n",
    "    'Müşteri': ['A', 'B', 'C']\n",
    "}\n",
    "\n",
    "df = df.set_index('Tarih')\n",
    "\n",
    "print(df)"
   ]
  },
  {
   "cell_type": "code",
   "execution_count": 39,
   "id": "31559a65",
   "metadata": {},
   "outputs": [
    {
     "name": "stdout",
     "output_type": "stream",
     "text": [
      "            Satış Müşteri\n",
      "Tarih                    \n",
      "2024-01-02    200       B\n"
     ]
    }
   ],
   "source": [
    "print(df.iloc[1:2])"
   ]
  },
  {
   "cell_type": "code",
   "execution_count": 42,
   "id": "d5f190bc",
   "metadata": {},
   "outputs": [
    {
     "data": {
      "text/html": [
       "<div>\n",
       "<style scoped>\n",
       "    .dataframe tbody tr th:only-of-type {\n",
       "        vertical-align: middle;\n",
       "    }\n",
       "\n",
       "    .dataframe tbody tr th {\n",
       "        vertical-align: top;\n",
       "    }\n",
       "\n",
       "    .dataframe thead th {\n",
       "        text-align: right;\n",
       "    }\n",
       "</style>\n",
       "<table border=\"1\" class=\"dataframe\">\n",
       "  <thead>\n",
       "    <tr style=\"text-align: right;\">\n",
       "      <th></th>\n",
       "      <th>Tarih</th>\n",
       "      <th>Satış</th>\n",
       "      <th>Müşteri</th>\n",
       "    </tr>\n",
       "  </thead>\n",
       "  <tbody>\n",
       "    <tr>\n",
       "      <th>0</th>\n",
       "      <td>2024-01-01</td>\n",
       "      <td>100</td>\n",
       "      <td>A</td>\n",
       "    </tr>\n",
       "    <tr>\n",
       "      <th>1</th>\n",
       "      <td>2024-01-02</td>\n",
       "      <td>200</td>\n",
       "      <td>B</td>\n",
       "    </tr>\n",
       "    <tr>\n",
       "      <th>2</th>\n",
       "      <td>2024-01-03</td>\n",
       "      <td>150</td>\n",
       "      <td>C</td>\n",
       "    </tr>\n",
       "  </tbody>\n",
       "</table>\n",
       "</div>"
      ],
      "text/plain": [
       "        Tarih  Satış Müşteri\n",
       "0  2024-01-01    100       A\n",
       "1  2024-01-02    200       B\n",
       "2  2024-01-03    150       C"
      ]
     },
     "execution_count": 42,
     "metadata": {},
     "output_type": "execute_result"
    }
   ],
   "source": [
    "df.reset_index()"
   ]
  },
  {
   "cell_type": "code",
   "execution_count": 43,
   "id": "bc67633f",
   "metadata": {},
   "outputs": [
    {
     "data": {
      "text/html": [
       "<div>\n",
       "<style scoped>\n",
       "    .dataframe tbody tr th:only-of-type {\n",
       "        vertical-align: middle;\n",
       "    }\n",
       "\n",
       "    .dataframe tbody tr th {\n",
       "        vertical-align: top;\n",
       "    }\n",
       "\n",
       "    .dataframe thead th {\n",
       "        text-align: right;\n",
       "    }\n",
       "</style>\n",
       "<table border=\"1\" class=\"dataframe\">\n",
       "  <thead>\n",
       "    <tr style=\"text-align: right;\">\n",
       "      <th></th>\n",
       "      <th>Satış</th>\n",
       "      <th>Müşteri</th>\n",
       "    </tr>\n",
       "    <tr>\n",
       "      <th>Tarih</th>\n",
       "      <th></th>\n",
       "      <th></th>\n",
       "    </tr>\n",
       "  </thead>\n",
       "  <tbody>\n",
       "    <tr>\n",
       "      <th>2024-01-01</th>\n",
       "      <td>100</td>\n",
       "      <td>A</td>\n",
       "    </tr>\n",
       "    <tr>\n",
       "      <th>2024-01-02</th>\n",
       "      <td>200</td>\n",
       "      <td>B</td>\n",
       "    </tr>\n",
       "    <tr>\n",
       "      <th>2024-01-03</th>\n",
       "      <td>150</td>\n",
       "      <td>C</td>\n",
       "    </tr>\n",
       "  </tbody>\n",
       "</table>\n",
       "</div>"
      ],
      "text/plain": [
       "            Satış Müşteri\n",
       "Tarih                    \n",
       "2024-01-01    100       A\n",
       "2024-01-02    200       B\n",
       "2024-01-03    150       C"
      ]
     },
     "execution_count": 43,
     "metadata": {},
     "output_type": "execute_result"
    }
   ],
   "source": [
    "df"
   ]
  },
  {
   "cell_type": "code",
   "execution_count": null,
   "id": "5c72ff56",
   "metadata": {},
   "outputs": [],
   "source": [
    "# Look at temperatures\n",
    "print(temperatures)\n",
    "\n",
    "# Set the index of temperatures to city\n",
    "temperatures_ind = temperatures.set_index(\"city\")\n",
    "\n",
    "# Look at temperatures_ind\n",
    "print(temperatures_ind)\n",
    "\n",
    "# Reset the temperatures_ind index, keeping its contents\n",
    "print(temperatures_ind.reset_index())\n",
    "\n",
    "# Reset the temperatures_ind index, dropping its contents\n",
    "print(temperatures_ind.reset_index(drop=True))"
   ]
  },
  {
   "cell_type": "code",
   "execution_count": null,
   "id": "0afad744",
   "metadata": {},
   "outputs": [],
   "source": [
    "# Make a list of cities to subset on\n",
    "cities = [\"Moscow\", \"Saint Petersburg\"]\n",
    "\n",
    "# Subset temperatures using square brackets\n",
    "print(temperatures[temperatures[\"city\"].isin(cities)])\n",
    "\n",
    "# Subset temperatures_ind using .loc[]\n",
    "print(temperatures_ind.loc[cities])\n"
   ]
  },
  {
   "cell_type": "code",
   "execution_count": null,
   "id": "6bd4b262",
   "metadata": {},
   "outputs": [],
   "source": [
    "# Index temperatures by country & city\n",
    "temperatures_ind = temperatures.set_index([\"country\", \"city\"])\n",
    "\n",
    "# List of tuples: Brazil, Rio De Janeiro & Pakistan, Lahore\n",
    "rows_to_keep = [(\"Brazil\", \"Rio De Janeiro\"), (\"Pakistan\", \"Lahore\")]\n",
    "\n",
    "# Subset for rows to keep\n",
    "print(temperatures_ind.loc[rows_to_keep])"
   ]
  },
  {
   "cell_type": "code",
   "execution_count": null,
   "id": "a7501777",
   "metadata": {},
   "outputs": [],
   "source": [
    "# Sort temperatures_ind by index values\n",
    "print(temperatures_ind.sort_index())\n",
    "\n",
    "# Sort temperatures_ind by index values at the city level\n",
    "print(temperatures_ind.sort_index(level=\"city\"))\n",
    "\n",
    "# Sort temperatures_ind by country then descending city\n",
    "print(temperatures_ind.sort_index(level=[\"country\", \"city\"], ascending=[True, False]))"
   ]
  }
 ],
 "metadata": {
  "kernelspec": {
   "display_name": "Python 3 (ipykernel)",
   "language": "python",
   "name": "python3"
  },
  "language_info": {
   "codemirror_mode": {
    "name": "ipython",
    "version": 3
   },
   "file_extension": ".py",
   "mimetype": "text/x-python",
   "name": "python",
   "nbconvert_exporter": "python",
   "pygments_lexer": "ipython3",
   "version": "3.9.7"
  }
 },
 "nbformat": 4,
 "nbformat_minor": 5
}
