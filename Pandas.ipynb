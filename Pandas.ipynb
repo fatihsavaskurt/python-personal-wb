{
 "cells": [
  {
   "cell_type": "markdown",
   "id": "1900ba70",
   "metadata": {},
   "source": [
    "<h1>Pandas</h1>"
   ]
  },
  {
   "cell_type": "code",
   "execution_count": null,
   "id": "6a18c88e",
   "metadata": {},
   "outputs": [],
   "source": [
    "-Pandas tabular datadan oluşan bir dataframeden türetilir. Pandasın kullanıldığı\n",
    "data, row ve columndan oluşur. Datayı keşfetme, temizleme ve işlemeye yarar."
   ]
  },
  {
   "cell_type": "markdown",
   "id": "d77e7ab8",
   "metadata": {},
   "source": [
    "-Bir veri setini incelemenin birkaç yolu var. <br>\n",
    " -table_name.head(): Bu fonksiyon, ilgili tablonun ilk birkaç satırını döndürmeye yarar.<br>\n",
    " -table_name.info(): sütun adlarını, içerdiği veri türlerini ve eksik değerleri olup olmadığını belirtir.<br>\n",
    " -table_name.shape: dataframe'in satır ve sütun sayısını tutan bir tiuple içerir.<br>\n",
    " -table_name.describe(): sayısal sütunlar için, ortalama ve medyan gibi özet istatistikleri içerir.<br>\n",
    " -table_name.values: veri değerlerinin tamamını array olarak alma.<br>\n",
    " -table_name.columns: dataframedeki tüm sütunları çıktı olarak alma.<br>"
   ]
  },
  {
   "cell_type": "code",
   "execution_count": 5,
   "id": "d5d4fd45",
   "metadata": {},
   "outputs": [],
   "source": [
    "import pandas as pd ##Pandası import ettik.\n",
    "import numpy as np"
   ]
  },
  {
   "cell_type": "code",
   "execution_count": 6,
   "id": "cd9cb109",
   "metadata": {
    "scrolled": true
   },
   "outputs": [
    {
     "name": "stdout",
     "output_type": "stream",
     "text": [
      "             Student ID  Course ID  Marks\n",
      "0                 103.0      201.0   67.0\n",
      "1                 103.0      203.0   67.0\n",
      "2                 103.0      204.0   89.0\n",
      "Total marks         NaN        NaN  223.0\n"
     ]
    }
   ],
   "source": [
    "columns = ['Student ID', 'Course ID', 'Marks']\n",
    "data = [(103, 201, 67), (103, 203, 67), (103, 204, 89)]\n",
    "df = pd.DataFrame(data, columns=columns)\n",
    "df.at['Total marks', 'Marks'] = df['Marks'].sum()\n",
    "\n",
    "print(df)"
   ]
  },
  {
   "cell_type": "code",
   "execution_count": 25,
   "id": "83ae4506",
   "metadata": {},
   "outputs": [
    {
     "name": "stdout",
     "output_type": "stream",
     "text": [
      "                   A         B         C         D\n",
      "2024-01-01 -0.506442  1.646989  0.005751  1.693598\n",
      "2024-01-02  1.130911 -0.273436 -0.392463 -0.876651\n",
      "2024-01-03  1.372611 -0.620330  0.186472  1.732989\n",
      "2024-01-04  1.271317  2.105170 -1.717091  0.851536\n",
      "2024-01-05 -0.574182 -0.222342  0.531456  0.504468\n",
      "2024-01-06  0.338162 -1.753595  0.437520 -0.905221\n",
      "2024-01-07  0.591405 -1.517755 -0.142085  0.529244\n",
      "2024-01-08  0.149237  0.380452 -0.065960  0.140827\n",
      "2024-01-09 -0.145122  0.977379  0.111483 -1.316002\n",
      "2024-01-10  0.203301  1.831420  0.194537 -0.001698\n",
      "2024-01-11 -1.412488 -1.017399 -1.419120  0.679401\n",
      "2024-01-12  0.424670  0.505506  1.614453  0.633303\n",
      "2024-01-13 -1.288865 -1.158552  0.119063  0.833258\n",
      "2024-01-14 -0.326605  2.908319  0.929256  0.555645\n",
      "2024-01-15  0.070098 -0.942199  1.047593 -1.402771\n",
      "2024-01-16  1.881751 -0.261549  1.203383 -0.546573\n",
      "2024-01-17  0.469158  0.737771 -0.399435 -0.787274\n",
      "2024-01-18  0.068616 -1.284861 -0.649568  0.161002\n",
      "2024-01-19  0.384646  0.639339  0.086787  0.001129\n",
      "2024-01-20  0.104824 -1.446490 -0.459677 -0.396577\n"
     ]
    }
   ],
   "source": [
    "dates = pd.date_range(\"20240101\", periods=20)b\n",
    "df = pd.DataFrame(np.random.randn(20, 4), index=dates, columns=list(\"ABCD\"))\n",
    "print(df)"
   ]
  },
  {
   "cell_type": "code",
   "execution_count": 26,
   "id": "3845dd6a",
   "metadata": {},
   "outputs": [
    {
     "data": {
      "text/html": [
       "<div>\n",
       "<style scoped>\n",
       "    .dataframe tbody tr th:only-of-type {\n",
       "        vertical-align: middle;\n",
       "    }\n",
       "\n",
       "    .dataframe tbody tr th {\n",
       "        vertical-align: top;\n",
       "    }\n",
       "\n",
       "    .dataframe thead th {\n",
       "        text-align: right;\n",
       "    }\n",
       "</style>\n",
       "<table border=\"1\" class=\"dataframe\">\n",
       "  <thead>\n",
       "    <tr style=\"text-align: right;\">\n",
       "      <th></th>\n",
       "      <th>A</th>\n",
       "      <th>B</th>\n",
       "      <th>C</th>\n",
       "      <th>D</th>\n",
       "    </tr>\n",
       "  </thead>\n",
       "  <tbody>\n",
       "    <tr>\n",
       "      <th>2024-01-01</th>\n",
       "      <td>-0.506442</td>\n",
       "      <td>1.646989</td>\n",
       "      <td>0.005751</td>\n",
       "      <td>1.693598</td>\n",
       "    </tr>\n",
       "    <tr>\n",
       "      <th>2024-01-02</th>\n",
       "      <td>1.130911</td>\n",
       "      <td>-0.273436</td>\n",
       "      <td>-0.392463</td>\n",
       "      <td>-0.876651</td>\n",
       "    </tr>\n",
       "    <tr>\n",
       "      <th>2024-01-03</th>\n",
       "      <td>1.372611</td>\n",
       "      <td>-0.620330</td>\n",
       "      <td>0.186472</td>\n",
       "      <td>1.732989</td>\n",
       "    </tr>\n",
       "    <tr>\n",
       "      <th>2024-01-04</th>\n",
       "      <td>1.271317</td>\n",
       "      <td>2.105170</td>\n",
       "      <td>-1.717091</td>\n",
       "      <td>0.851536</td>\n",
       "    </tr>\n",
       "    <tr>\n",
       "      <th>2024-01-05</th>\n",
       "      <td>-0.574182</td>\n",
       "      <td>-0.222342</td>\n",
       "      <td>0.531456</td>\n",
       "      <td>0.504468</td>\n",
       "    </tr>\n",
       "  </tbody>\n",
       "</table>\n",
       "</div>"
      ],
      "text/plain": [
       "                   A         B         C         D\n",
       "2024-01-01 -0.506442  1.646989  0.005751  1.693598\n",
       "2024-01-02  1.130911 -0.273436 -0.392463 -0.876651\n",
       "2024-01-03  1.372611 -0.620330  0.186472  1.732989\n",
       "2024-01-04  1.271317  2.105170 -1.717091  0.851536\n",
       "2024-01-05 -0.574182 -0.222342  0.531456  0.504468"
      ]
     },
     "execution_count": 26,
     "metadata": {},
     "output_type": "execute_result"
    }
   ],
   "source": [
    "df.head() ##ilk birkaç satırını veriyor."
   ]
  },
  {
   "cell_type": "code",
   "execution_count": 27,
   "id": "2fe70343",
   "metadata": {},
   "outputs": [
    {
     "data": {
      "text/plain": [
       "<bound method DataFrame.info of                    A         B         C         D\n",
       "2024-01-01 -0.506442  1.646989  0.005751  1.693598\n",
       "2024-01-02  1.130911 -0.273436 -0.392463 -0.876651\n",
       "2024-01-03  1.372611 -0.620330  0.186472  1.732989\n",
       "2024-01-04  1.271317  2.105170 -1.717091  0.851536\n",
       "2024-01-05 -0.574182 -0.222342  0.531456  0.504468\n",
       "2024-01-06  0.338162 -1.753595  0.437520 -0.905221\n",
       "2024-01-07  0.591405 -1.517755 -0.142085  0.529244\n",
       "2024-01-08  0.149237  0.380452 -0.065960  0.140827\n",
       "2024-01-09 -0.145122  0.977379  0.111483 -1.316002\n",
       "2024-01-10  0.203301  1.831420  0.194537 -0.001698\n",
       "2024-01-11 -1.412488 -1.017399 -1.419120  0.679401\n",
       "2024-01-12  0.424670  0.505506  1.614453  0.633303\n",
       "2024-01-13 -1.288865 -1.158552  0.119063  0.833258\n",
       "2024-01-14 -0.326605  2.908319  0.929256  0.555645\n",
       "2024-01-15  0.070098 -0.942199  1.047593 -1.402771\n",
       "2024-01-16  1.881751 -0.261549  1.203383 -0.546573\n",
       "2024-01-17  0.469158  0.737771 -0.399435 -0.787274\n",
       "2024-01-18  0.068616 -1.284861 -0.649568  0.161002\n",
       "2024-01-19  0.384646  0.639339  0.086787  0.001129\n",
       "2024-01-20  0.104824 -1.446490 -0.459677 -0.396577>"
      ]
     },
     "execution_count": 27,
     "metadata": {},
     "output_type": "execute_result"
    }
   ],
   "source": [
    "df.info ##tablo ile alaklı bilgi veriyor."
   ]
  },
  {
   "cell_type": "code",
   "execution_count": 29,
   "id": "c331790f",
   "metadata": {},
   "outputs": [
    {
     "data": {
      "text/plain": [
       "(20, 4)"
      ]
     },
     "execution_count": 29,
     "metadata": {},
     "output_type": "execute_result"
    }
   ],
   "source": [
    "df.shape ##satır ve sütun sayısını veriyor."
   ]
  },
  {
   "cell_type": "code",
   "execution_count": 30,
   "id": "acefbef7",
   "metadata": {},
   "outputs": [
    {
     "data": {
      "text/html": [
       "<div>\n",
       "<style scoped>\n",
       "    .dataframe tbody tr th:only-of-type {\n",
       "        vertical-align: middle;\n",
       "    }\n",
       "\n",
       "    .dataframe tbody tr th {\n",
       "        vertical-align: top;\n",
       "    }\n",
       "\n",
       "    .dataframe thead th {\n",
       "        text-align: right;\n",
       "    }\n",
       "</style>\n",
       "<table border=\"1\" class=\"dataframe\">\n",
       "  <thead>\n",
       "    <tr style=\"text-align: right;\">\n",
       "      <th></th>\n",
       "      <th>A</th>\n",
       "      <th>B</th>\n",
       "      <th>C</th>\n",
       "      <th>D</th>\n",
       "    </tr>\n",
       "  </thead>\n",
       "  <tbody>\n",
       "    <tr>\n",
       "      <th>count</th>\n",
       "      <td>20.000000</td>\n",
       "      <td>20.000000</td>\n",
       "      <td>20.000000</td>\n",
       "      <td>20.000000</td>\n",
       "    </tr>\n",
       "    <tr>\n",
       "      <th>mean</th>\n",
       "      <td>0.210350</td>\n",
       "      <td>0.061692</td>\n",
       "      <td>0.061118</td>\n",
       "      <td>0.104182</td>\n",
       "    </tr>\n",
       "    <tr>\n",
       "      <th>std</th>\n",
       "      <td>0.824054</td>\n",
       "      <td>1.340730</td>\n",
       "      <td>0.809651</td>\n",
       "      <td>0.894104</td>\n",
       "    </tr>\n",
       "    <tr>\n",
       "      <th>min</th>\n",
       "      <td>-1.412488</td>\n",
       "      <td>-1.753595</td>\n",
       "      <td>-1.717091</td>\n",
       "      <td>-1.402771</td>\n",
       "    </tr>\n",
       "    <tr>\n",
       "      <th>25%</th>\n",
       "      <td>-0.190493</td>\n",
       "      <td>-1.052687</td>\n",
       "      <td>-0.394206</td>\n",
       "      <td>-0.606748</td>\n",
       "    </tr>\n",
       "    <tr>\n",
       "      <th>50%</th>\n",
       "      <td>0.176269</td>\n",
       "      <td>-0.241945</td>\n",
       "      <td>0.099135</td>\n",
       "      <td>0.150915</td>\n",
       "    </tr>\n",
       "    <tr>\n",
       "      <th>75%</th>\n",
       "      <td>0.499720</td>\n",
       "      <td>0.797673</td>\n",
       "      <td>0.461004</td>\n",
       "      <td>0.644827</td>\n",
       "    </tr>\n",
       "    <tr>\n",
       "      <th>max</th>\n",
       "      <td>1.881751</td>\n",
       "      <td>2.908319</td>\n",
       "      <td>1.614453</td>\n",
       "      <td>1.732989</td>\n",
       "    </tr>\n",
       "  </tbody>\n",
       "</table>\n",
       "</div>"
      ],
      "text/plain": [
       "               A          B          C          D\n",
       "count  20.000000  20.000000  20.000000  20.000000\n",
       "mean    0.210350   0.061692   0.061118   0.104182\n",
       "std     0.824054   1.340730   0.809651   0.894104\n",
       "min    -1.412488  -1.753595  -1.717091  -1.402771\n",
       "25%    -0.190493  -1.052687  -0.394206  -0.606748\n",
       "50%     0.176269  -0.241945   0.099135   0.150915\n",
       "75%     0.499720   0.797673   0.461004   0.644827\n",
       "max     1.881751   2.908319   1.614453   1.732989"
      ]
     },
     "execution_count": 30,
     "metadata": {},
     "output_type": "execute_result"
    }
   ],
   "source": [
    "df.describe()"
   ]
  },
  {
   "cell_type": "code",
   "execution_count": 32,
   "id": "53db7356",
   "metadata": {
    "scrolled": false
   },
   "outputs": [
    {
     "data": {
      "text/plain": [
       "array([[-5.06442403e-01,  1.64698871e+00,  5.75119803e-03,\n",
       "         1.69359798e+00],\n",
       "       [ 1.13091078e+00, -2.73436028e-01, -3.92462549e-01,\n",
       "        -8.76650782e-01],\n",
       "       [ 1.37261112e+00, -6.20330359e-01,  1.86471822e-01,\n",
       "         1.73298898e+00],\n",
       "       [ 1.27131745e+00,  2.10516990e+00, -1.71709077e+00,\n",
       "         8.51536376e-01],\n",
       "       [-5.74181518e-01, -2.22342023e-01,  5.31456091e-01,\n",
       "         5.04468303e-01],\n",
       "       [ 3.38162263e-01, -1.75359490e+00,  4.37519608e-01,\n",
       "        -9.05221097e-01],\n",
       "       [ 5.91405061e-01, -1.51775505e+00, -1.42085440e-01,\n",
       "         5.29244414e-01],\n",
       "       [ 1.49237227e-01,  3.80451667e-01, -6.59602397e-02,\n",
       "         1.40827230e-01],\n",
       "       [-1.45122347e-01,  9.77378537e-01,  1.11482528e-01,\n",
       "        -1.31600242e+00],\n",
       "       [ 2.03301413e-01,  1.83142011e+00,  1.94536776e-01,\n",
       "        -1.69825127e-03],\n",
       "       [-1.41248816e+00, -1.01739894e+00, -1.41911979e+00,\n",
       "         6.79401388e-01],\n",
       "       [ 4.24669921e-01,  5.05505954e-01,  1.61445275e+00,\n",
       "         6.33302648e-01],\n",
       "       [-1.28886499e+00, -1.15855190e+00,  1.19063010e-01,\n",
       "         8.33258332e-01],\n",
       "       [-3.26604587e-01,  2.90831900e+00,  9.29256048e-01,\n",
       "         5.55645348e-01],\n",
       "       [ 7.00981359e-02, -9.42198909e-01,  1.04759322e+00,\n",
       "        -1.40277113e+00],\n",
       "       [ 1.88175107e+00, -2.61548867e-01,  1.20338309e+00,\n",
       "        -5.46572701e-01],\n",
       "       [ 4.69158342e-01,  7.37770842e-01, -3.99435269e-01,\n",
       "        -7.87273628e-01],\n",
       "       [ 6.86159706e-02, -1.28486140e+00, -6.49568344e-01,\n",
       "         1.61002480e-01],\n",
       "       [ 3.84645664e-01,  6.39339457e-01,  8.67865365e-02,\n",
       "         1.12912744e-03],\n",
       "       [ 1.04823995e-01, -1.44648992e+00, -4.59676961e-01,\n",
       "        -3.96576503e-01]])"
      ]
     },
     "execution_count": 32,
     "metadata": {},
     "output_type": "execute_result"
    }
   ],
   "source": [
    "df.values"
   ]
  },
  {
   "cell_type": "code",
   "execution_count": 33,
   "id": "80e86724",
   "metadata": {
    "scrolled": true
   },
   "outputs": [
    {
     "data": {
      "text/plain": [
       "Index(['A', 'B', 'C', 'D'], dtype='object')"
      ]
     },
     "execution_count": 33,
     "metadata": {},
     "output_type": "execute_result"
    }
   ],
   "source": [
    "df.columns"
   ]
  },
  {
   "cell_type": "code",
   "execution_count": 41,
   "id": "c15c1fee",
   "metadata": {},
   "outputs": [],
   "source": [
    "dates = pd.date_range(start = \"01/01/2024\", periods = 12, freq = 'M') #ay bazlı"
   ]
  },
  {
   "cell_type": "code",
   "execution_count": 42,
   "id": "1b43923f",
   "metadata": {},
   "outputs": [
    {
     "name": "stdout",
     "output_type": "stream",
     "text": [
      "DatetimeIndex(['2024-01-31', '2024-02-29', '2024-03-31', '2024-04-30',\n",
      "               '2024-05-31', '2024-06-30', '2024-07-31', '2024-08-31',\n",
      "               '2024-09-30', '2024-10-31', '2024-11-30', '2024-12-31'],\n",
      "              dtype='datetime64[ns]', freq='M')\n"
     ]
    }
   ],
   "source": [
    "print(dates)"
   ]
  },
  {
   "cell_type": "markdown",
   "id": "9aabfa07",
   "metadata": {},
   "source": [
    "-table_name.sort_values(\"sortlanmak istenen column\") <br>\n",
    "-bu metod ile veriyi <b>küçükten büyüğe</b>  sıralayabiliriz. <br>\n",
    "-table_name.sort_values(\"sortlanmak istenen column\", ascending=False) <br>\n",
    "-bu metod ile <b>büyükten küçüğe</b> sıralama yapabiliriz. <br>\n",
    "-table_name.sort_values(\"sortlanmak istenen column\", \"sortlanmak istenen diğer column\") <br>\n"
   ]
  },
  {
   "cell_type": "code",
   "execution_count": 45,
   "id": "76a0b25b",
   "metadata": {
    "scrolled": false
   },
   "outputs": [
    {
     "data": {
      "text/html": [
       "<div>\n",
       "<style scoped>\n",
       "    .dataframe tbody tr th:only-of-type {\n",
       "        vertical-align: middle;\n",
       "    }\n",
       "\n",
       "    .dataframe tbody tr th {\n",
       "        vertical-align: top;\n",
       "    }\n",
       "\n",
       "    .dataframe thead th {\n",
       "        text-align: right;\n",
       "    }\n",
       "</style>\n",
       "<table border=\"1\" class=\"dataframe\">\n",
       "  <thead>\n",
       "    <tr style=\"text-align: right;\">\n",
       "      <th></th>\n",
       "      <th>A</th>\n",
       "      <th>B</th>\n",
       "      <th>C</th>\n",
       "      <th>D</th>\n",
       "    </tr>\n",
       "  </thead>\n",
       "  <tbody>\n",
       "    <tr>\n",
       "      <th>2024-01-16</th>\n",
       "      <td>1.881751</td>\n",
       "      <td>-0.261549</td>\n",
       "      <td>1.203383</td>\n",
       "      <td>-0.546573</td>\n",
       "    </tr>\n",
       "    <tr>\n",
       "      <th>2024-01-03</th>\n",
       "      <td>1.372611</td>\n",
       "      <td>-0.620330</td>\n",
       "      <td>0.186472</td>\n",
       "      <td>1.732989</td>\n",
       "    </tr>\n",
       "    <tr>\n",
       "      <th>2024-01-04</th>\n",
       "      <td>1.271317</td>\n",
       "      <td>2.105170</td>\n",
       "      <td>-1.717091</td>\n",
       "      <td>0.851536</td>\n",
       "    </tr>\n",
       "    <tr>\n",
       "      <th>2024-01-02</th>\n",
       "      <td>1.130911</td>\n",
       "      <td>-0.273436</td>\n",
       "      <td>-0.392463</td>\n",
       "      <td>-0.876651</td>\n",
       "    </tr>\n",
       "    <tr>\n",
       "      <th>2024-01-07</th>\n",
       "      <td>0.591405</td>\n",
       "      <td>-1.517755</td>\n",
       "      <td>-0.142085</td>\n",
       "      <td>0.529244</td>\n",
       "    </tr>\n",
       "    <tr>\n",
       "      <th>2024-01-17</th>\n",
       "      <td>0.469158</td>\n",
       "      <td>0.737771</td>\n",
       "      <td>-0.399435</td>\n",
       "      <td>-0.787274</td>\n",
       "    </tr>\n",
       "    <tr>\n",
       "      <th>2024-01-12</th>\n",
       "      <td>0.424670</td>\n",
       "      <td>0.505506</td>\n",
       "      <td>1.614453</td>\n",
       "      <td>0.633303</td>\n",
       "    </tr>\n",
       "    <tr>\n",
       "      <th>2024-01-19</th>\n",
       "      <td>0.384646</td>\n",
       "      <td>0.639339</td>\n",
       "      <td>0.086787</td>\n",
       "      <td>0.001129</td>\n",
       "    </tr>\n",
       "    <tr>\n",
       "      <th>2024-01-06</th>\n",
       "      <td>0.338162</td>\n",
       "      <td>-1.753595</td>\n",
       "      <td>0.437520</td>\n",
       "      <td>-0.905221</td>\n",
       "    </tr>\n",
       "    <tr>\n",
       "      <th>2024-01-10</th>\n",
       "      <td>0.203301</td>\n",
       "      <td>1.831420</td>\n",
       "      <td>0.194537</td>\n",
       "      <td>-0.001698</td>\n",
       "    </tr>\n",
       "    <tr>\n",
       "      <th>2024-01-08</th>\n",
       "      <td>0.149237</td>\n",
       "      <td>0.380452</td>\n",
       "      <td>-0.065960</td>\n",
       "      <td>0.140827</td>\n",
       "    </tr>\n",
       "    <tr>\n",
       "      <th>2024-01-20</th>\n",
       "      <td>0.104824</td>\n",
       "      <td>-1.446490</td>\n",
       "      <td>-0.459677</td>\n",
       "      <td>-0.396577</td>\n",
       "    </tr>\n",
       "    <tr>\n",
       "      <th>2024-01-15</th>\n",
       "      <td>0.070098</td>\n",
       "      <td>-0.942199</td>\n",
       "      <td>1.047593</td>\n",
       "      <td>-1.402771</td>\n",
       "    </tr>\n",
       "    <tr>\n",
       "      <th>2024-01-18</th>\n",
       "      <td>0.068616</td>\n",
       "      <td>-1.284861</td>\n",
       "      <td>-0.649568</td>\n",
       "      <td>0.161002</td>\n",
       "    </tr>\n",
       "    <tr>\n",
       "      <th>2024-01-09</th>\n",
       "      <td>-0.145122</td>\n",
       "      <td>0.977379</td>\n",
       "      <td>0.111483</td>\n",
       "      <td>-1.316002</td>\n",
       "    </tr>\n",
       "    <tr>\n",
       "      <th>2024-01-14</th>\n",
       "      <td>-0.326605</td>\n",
       "      <td>2.908319</td>\n",
       "      <td>0.929256</td>\n",
       "      <td>0.555645</td>\n",
       "    </tr>\n",
       "    <tr>\n",
       "      <th>2024-01-01</th>\n",
       "      <td>-0.506442</td>\n",
       "      <td>1.646989</td>\n",
       "      <td>0.005751</td>\n",
       "      <td>1.693598</td>\n",
       "    </tr>\n",
       "    <tr>\n",
       "      <th>2024-01-05</th>\n",
       "      <td>-0.574182</td>\n",
       "      <td>-0.222342</td>\n",
       "      <td>0.531456</td>\n",
       "      <td>0.504468</td>\n",
       "    </tr>\n",
       "    <tr>\n",
       "      <th>2024-01-13</th>\n",
       "      <td>-1.288865</td>\n",
       "      <td>-1.158552</td>\n",
       "      <td>0.119063</td>\n",
       "      <td>0.833258</td>\n",
       "    </tr>\n",
       "    <tr>\n",
       "      <th>2024-01-11</th>\n",
       "      <td>-1.412488</td>\n",
       "      <td>-1.017399</td>\n",
       "      <td>-1.419120</td>\n",
       "      <td>0.679401</td>\n",
       "    </tr>\n",
       "  </tbody>\n",
       "</table>\n",
       "</div>"
      ],
      "text/plain": [
       "                   A         B         C         D\n",
       "2024-01-16  1.881751 -0.261549  1.203383 -0.546573\n",
       "2024-01-03  1.372611 -0.620330  0.186472  1.732989\n",
       "2024-01-04  1.271317  2.105170 -1.717091  0.851536\n",
       "2024-01-02  1.130911 -0.273436 -0.392463 -0.876651\n",
       "2024-01-07  0.591405 -1.517755 -0.142085  0.529244\n",
       "2024-01-17  0.469158  0.737771 -0.399435 -0.787274\n",
       "2024-01-12  0.424670  0.505506  1.614453  0.633303\n",
       "2024-01-19  0.384646  0.639339  0.086787  0.001129\n",
       "2024-01-06  0.338162 -1.753595  0.437520 -0.905221\n",
       "2024-01-10  0.203301  1.831420  0.194537 -0.001698\n",
       "2024-01-08  0.149237  0.380452 -0.065960  0.140827\n",
       "2024-01-20  0.104824 -1.446490 -0.459677 -0.396577\n",
       "2024-01-15  0.070098 -0.942199  1.047593 -1.402771\n",
       "2024-01-18  0.068616 -1.284861 -0.649568  0.161002\n",
       "2024-01-09 -0.145122  0.977379  0.111483 -1.316002\n",
       "2024-01-14 -0.326605  2.908319  0.929256  0.555645\n",
       "2024-01-01 -0.506442  1.646989  0.005751  1.693598\n",
       "2024-01-05 -0.574182 -0.222342  0.531456  0.504468\n",
       "2024-01-13 -1.288865 -1.158552  0.119063  0.833258\n",
       "2024-01-11 -1.412488 -1.017399 -1.419120  0.679401"
      ]
     },
     "execution_count": 45,
     "metadata": {},
     "output_type": "execute_result"
    }
   ],
   "source": [
    "df.sort_values(\"A\", b)"
   ]
  },
  {
   "cell_type": "markdown",
   "id": "ad40a61e",
   "metadata": {},
   "source": [
    "-table_name[\"column_name\"], ilgili dataframein tek bir satırını almak için kullanılır<br>\n",
    "-birden fazla satır almak için, table_name[[\"column_name1\",\"column_name2\"]]<br>\n",
    "-yukarıdaki işlemde, dış parantezler ilgili data frame'in alt kümesini almaya yarıyorken, iç parantezler almak istediğimiz kısmın columnlarını içeriyor."
   ]
  },
  {
   "cell_type": "code",
   "execution_count": 59,
   "id": "56f63222",
   "metadata": {},
   "outputs": [],
   "source": [
    "half_df = df[[\"A\",\"B\"]]"
   ]
  },
  {
   "cell_type": "code",
   "execution_count": 60,
   "id": "fdd562cf",
   "metadata": {},
   "outputs": [
    {
     "name": "stdout",
     "output_type": "stream",
     "text": [
      "                   A         B\n",
      "2024-01-01 -0.506442  1.646989\n",
      "2024-01-02  1.130911 -0.273436\n",
      "2024-01-03  1.372611 -0.620330\n",
      "2024-01-04  1.271317  2.105170\n",
      "2024-01-05 -0.574182 -0.222342\n",
      "2024-01-06  0.338162 -1.753595\n",
      "2024-01-07  0.591405 -1.517755\n",
      "2024-01-08  0.149237  0.380452\n",
      "2024-01-09 -0.145122  0.977379\n",
      "2024-01-10  0.203301  1.831420\n",
      "2024-01-11 -1.412488 -1.017399\n",
      "2024-01-12  0.424670  0.505506\n",
      "2024-01-13 -1.288865 -1.158552\n",
      "2024-01-14 -0.326605  2.908319\n",
      "2024-01-15  0.070098 -0.942199\n",
      "2024-01-16  1.881751 -0.261549\n",
      "2024-01-17  0.469158  0.737771\n",
      "2024-01-18  0.068616 -1.284861\n",
      "2024-01-19  0.384646  0.639339\n",
      "2024-01-20  0.104824 -1.446490\n"
     ]
    }
   ],
   "source": [
    "print(half_df)"
   ]
  },
  {
   "cell_type": "markdown",
   "id": "d4cd3b16",
   "metadata": {},
   "source": [
    "-dogs[dogs[\"height_cm\"] > 50] --> Bu kod bloğu, boyu 50 cm'den yüksek olan köpeklerin filtrelenmesine yaramaktadır. <br>\n",
    "-dogs[dogs[\"tür\"] == \"Labrador\"] --> Bu kod bloğu, labrador cinsi köpeklerin filtrelenmesine yarıyor. <br>\n",
    "-dogs[dogs[\"date_of_birth\"] < \"2015-01-01\"] --> bu kod bloğu, tarihsel olarak 2015 yılından önce doğan tüm köpeklerin filtrelenmesine yarıyor.\n",
    "-is_height = dogs[dogs[\"height_cm\"] > 50] <br>\n",
    "-is_breed = dogs[dogs[\"tür\"] == \"Labrador\"] <br>\n",
    "-dogs[is_height & is_breed] --> iki filtrenin birleştirilmesi <br>\n",
    "-birleştirmenin tek satır hali --> dogs[(dogs[\"height_cm\"] > 50) & (dogs[\"tür\"] == \"Labrador\")] <br>\n",
    "-is_black_or_brown = dogs[\"color\"].isin([\"Black\",\"Brown\"]) --> isin metodu ile birden fazla filtreleme değeri atabiliyoruz.\n"
   ]
  },
  {
   "cell_type": "code",
   "execution_count": 89,
   "id": "adde6650",
   "metadata": {},
   "outputs": [
    {
     "name": "stdout",
     "output_type": "stream",
     "text": [
      "   Student ID  Course ID  Marks    AUM\n",
      "0         103        201     67  fatih\n",
      "1         103        203     67   None\n",
      "2         103        204     89   None\n",
      "3          13         24     81   None\n"
     ]
    }
   ],
   "source": [
    "data = [(103, 201, 67,'fatih'), (103, 203, 67), (103, 204, 89), (13, 24, 81)]\n",
    "df = pd.DataFrame(data, columns = ['Student ID', 'Course ID', 'Marks','AUM'])\n",
    "\n",
    "\n",
    "print(df)"
   ]
  },
  {
   "cell_type": "code",
   "execution_count": 109,
   "id": "5c3c1391",
   "metadata": {},
   "outputs": [],
   "source": [
    "mdata = [(123,'fatih','türkiye',3000),\n",
    "        (345,'tuğçe','makedonya',4000),\n",
    "        (678,'gökmen','ısparta',5000),\n",
    "        (91011,'ayşegül','kapaklı',6000),\n",
    "       (121314,'mehmet','sütçüler',7000),\n",
    "       (151617,'fatma','belen',9000),\n",
    "       (181920,'ahmet','beylikdüzü',10000)]"
   ]
  },
  {
   "cell_type": "code",
   "execution_count": 110,
   "id": "4f30a65b",
   "metadata": {},
   "outputs": [
    {
     "name": "stdout",
     "output_type": "stream",
     "text": [
      "   Cust ID  Full NM     Country    AUM\n",
      "0      123    fatih     türkiye   3000\n",
      "1      345    tuğçe   makedonya   4000\n",
      "2      678   gökmen     ısparta   5000\n",
      "3    91011  ayşegül     kapaklı   6000\n",
      "4   121314   mehmet    sütçüler   7000\n",
      "5   151617    fatma       belen   9000\n",
      "6   181920    ahmet  beylikdüzü  10000\n"
     ]
    }
   ],
   "source": [
    "mdf = pd.DataFrame(mdata,columns=['Cust ID','Full NM','Country','AUM'])\n",
    "print(mdf)"
   ]
  },
  {
   "cell_type": "code",
   "execution_count": 115,
   "id": "66f4abff",
   "metadata": {},
   "outputs": [
    {
     "data": {
      "text/html": [
       "<div>\n",
       "<style scoped>\n",
       "    .dataframe tbody tr th:only-of-type {\n",
       "        vertical-align: middle;\n",
       "    }\n",
       "\n",
       "    .dataframe tbody tr th {\n",
       "        vertical-align: top;\n",
       "    }\n",
       "\n",
       "    .dataframe thead th {\n",
       "        text-align: right;\n",
       "    }\n",
       "</style>\n",
       "<table border=\"1\" class=\"dataframe\">\n",
       "  <thead>\n",
       "    <tr style=\"text-align: right;\">\n",
       "      <th></th>\n",
       "      <th>Cust ID</th>\n",
       "      <th>Full NM</th>\n",
       "      <th>Country</th>\n",
       "      <th>AUM</th>\n",
       "    </tr>\n",
       "  </thead>\n",
       "  <tbody>\n",
       "    <tr>\n",
       "      <th>0</th>\n",
       "      <td>123</td>\n",
       "      <td>fatih</td>\n",
       "      <td>türkiye</td>\n",
       "      <td>3000</td>\n",
       "    </tr>\n",
       "    <tr>\n",
       "      <th>1</th>\n",
       "      <td>345</td>\n",
       "      <td>tuğçe</td>\n",
       "      <td>makedonya</td>\n",
       "      <td>4000</td>\n",
       "    </tr>\n",
       "    <tr>\n",
       "      <th>2</th>\n",
       "      <td>678</td>\n",
       "      <td>gökmen</td>\n",
       "      <td>ısparta</td>\n",
       "      <td>5000</td>\n",
       "    </tr>\n",
       "    <tr>\n",
       "      <th>3</th>\n",
       "      <td>91011</td>\n",
       "      <td>ayşegül</td>\n",
       "      <td>kapaklı</td>\n",
       "      <td>6000</td>\n",
       "    </tr>\n",
       "    <tr>\n",
       "      <th>4</th>\n",
       "      <td>121314</td>\n",
       "      <td>mehmet</td>\n",
       "      <td>sütçüler</td>\n",
       "      <td>7000</td>\n",
       "    </tr>\n",
       "  </tbody>\n",
       "</table>\n",
       "</div>"
      ],
      "text/plain": [
       "   Cust ID  Full NM    Country   AUM\n",
       "0      123    fatih    türkiye  3000\n",
       "1      345    tuğçe  makedonya  4000\n",
       "2      678   gökmen    ısparta  5000\n",
       "3    91011  ayşegül    kapaklı  6000\n",
       "4   121314   mehmet   sütçüler  7000"
      ]
     },
     "execution_count": 115,
     "metadata": {},
     "output_type": "execute_result"
    }
   ],
   "source": [
    "mdf.head() ##ilk birkaç satırı aldım."
   ]
  },
  {
   "cell_type": "code",
   "execution_count": 117,
   "id": "1ae8d09c",
   "metadata": {},
   "outputs": [
    {
     "data": {
      "text/plain": [
       "<bound method NDFrame.describe of    Cust ID  Full NM     Country    AUM\n",
       "0      123    fatih     türkiye   3000\n",
       "1      345    tuğçe   makedonya   4000\n",
       "2      678   gökmen     ısparta   5000\n",
       "3    91011  ayşegül     kapaklı   6000\n",
       "4   121314   mehmet    sütçüler   7000\n",
       "5   151617    fatma       belen   9000\n",
       "6   181920    ahmet  beylikdüzü  10000>"
      ]
     },
     "execution_count": 117,
     "metadata": {},
     "output_type": "execute_result"
    }
   ],
   "source": [
    "mdf.describe ##tabloyu tanımladım."
   ]
  },
  {
   "cell_type": "code",
   "execution_count": 121,
   "id": "a5fd7e07",
   "metadata": {},
   "outputs": [
    {
     "data": {
      "text/plain": [
       "Index(['Cust ID', 'Full NM', 'Country', 'AUM'], dtype='object')"
      ]
     },
     "execution_count": 121,
     "metadata": {},
     "output_type": "execute_result"
    }
   ],
   "source": [
    "mdf.columns ##kolonlara baktık"
   ]
  },
  {
   "cell_type": "code",
   "execution_count": 122,
   "id": "db978893",
   "metadata": {},
   "outputs": [
    {
     "data": {
      "text/plain": [
       "(7, 4)"
      ]
     },
     "execution_count": 122,
     "metadata": {},
     "output_type": "execute_result"
    }
   ],
   "source": [
    "mdf.shape ##satır ve sütun sayılarına baktık"
   ]
  },
  {
   "cell_type": "code",
   "execution_count": 126,
   "id": "32571049",
   "metadata": {},
   "outputs": [
    {
     "data": {
      "text/html": [
       "<div>\n",
       "<style scoped>\n",
       "    .dataframe tbody tr th:only-of-type {\n",
       "        vertical-align: middle;\n",
       "    }\n",
       "\n",
       "    .dataframe tbody tr th {\n",
       "        vertical-align: top;\n",
       "    }\n",
       "\n",
       "    .dataframe thead th {\n",
       "        text-align: right;\n",
       "    }\n",
       "</style>\n",
       "<table border=\"1\" class=\"dataframe\">\n",
       "  <thead>\n",
       "    <tr style=\"text-align: right;\">\n",
       "      <th></th>\n",
       "      <th>Cust ID</th>\n",
       "      <th>AUM</th>\n",
       "    </tr>\n",
       "  </thead>\n",
       "  <tbody>\n",
       "    <tr>\n",
       "      <th>count</th>\n",
       "      <td>7.000000</td>\n",
       "      <td>7.000000</td>\n",
       "    </tr>\n",
       "    <tr>\n",
       "      <th>mean</th>\n",
       "      <td>78144.000000</td>\n",
       "      <td>6285.714286</td>\n",
       "    </tr>\n",
       "    <tr>\n",
       "      <th>std</th>\n",
       "      <td>77822.330227</td>\n",
       "      <td>2563.479778</td>\n",
       "    </tr>\n",
       "    <tr>\n",
       "      <th>min</th>\n",
       "      <td>123.000000</td>\n",
       "      <td>3000.000000</td>\n",
       "    </tr>\n",
       "    <tr>\n",
       "      <th>25%</th>\n",
       "      <td>511.500000</td>\n",
       "      <td>4500.000000</td>\n",
       "    </tr>\n",
       "    <tr>\n",
       "      <th>50%</th>\n",
       "      <td>91011.000000</td>\n",
       "      <td>6000.000000</td>\n",
       "    </tr>\n",
       "    <tr>\n",
       "      <th>75%</th>\n",
       "      <td>136465.500000</td>\n",
       "      <td>8000.000000</td>\n",
       "    </tr>\n",
       "    <tr>\n",
       "      <th>max</th>\n",
       "      <td>181920.000000</td>\n",
       "      <td>10000.000000</td>\n",
       "    </tr>\n",
       "  </tbody>\n",
       "</table>\n",
       "</div>"
      ],
      "text/plain": [
       "             Cust ID           AUM\n",
       "count       7.000000      7.000000\n",
       "mean    78144.000000   6285.714286\n",
       "std     77822.330227   2563.479778\n",
       "min       123.000000   3000.000000\n",
       "25%       511.500000   4500.000000\n",
       "50%     91011.000000   6000.000000\n",
       "75%    136465.500000   8000.000000\n",
       "max    181920.000000  10000.000000"
      ]
     },
     "execution_count": 126,
     "metadata": {},
     "output_type": "execute_result"
    }
   ],
   "source": [
    "mdf.describe() ##sayısal sütunları özetledik."
   ]
  },
  {
   "cell_type": "code",
   "execution_count": 127,
   "id": "b43cf7d0",
   "metadata": {},
   "outputs": [
    {
     "data": {
      "text/html": [
       "<div>\n",
       "<style scoped>\n",
       "    .dataframe tbody tr th:only-of-type {\n",
       "        vertical-align: middle;\n",
       "    }\n",
       "\n",
       "    .dataframe tbody tr th {\n",
       "        vertical-align: top;\n",
       "    }\n",
       "\n",
       "    .dataframe thead th {\n",
       "        text-align: right;\n",
       "    }\n",
       "</style>\n",
       "<table border=\"1\" class=\"dataframe\">\n",
       "  <thead>\n",
       "    <tr style=\"text-align: right;\">\n",
       "      <th></th>\n",
       "      <th>Cust ID</th>\n",
       "      <th>Full NM</th>\n",
       "      <th>Country</th>\n",
       "      <th>AUM</th>\n",
       "    </tr>\n",
       "  </thead>\n",
       "  <tbody>\n",
       "    <tr>\n",
       "      <th>0</th>\n",
       "      <td>123</td>\n",
       "      <td>fatih</td>\n",
       "      <td>türkiye</td>\n",
       "      <td>3000</td>\n",
       "    </tr>\n",
       "    <tr>\n",
       "      <th>1</th>\n",
       "      <td>345</td>\n",
       "      <td>tuğçe</td>\n",
       "      <td>makedonya</td>\n",
       "      <td>4000</td>\n",
       "    </tr>\n",
       "    <tr>\n",
       "      <th>2</th>\n",
       "      <td>678</td>\n",
       "      <td>gökmen</td>\n",
       "      <td>ısparta</td>\n",
       "      <td>5000</td>\n",
       "    </tr>\n",
       "    <tr>\n",
       "      <th>3</th>\n",
       "      <td>91011</td>\n",
       "      <td>ayşegül</td>\n",
       "      <td>kapaklı</td>\n",
       "      <td>6000</td>\n",
       "    </tr>\n",
       "    <tr>\n",
       "      <th>4</th>\n",
       "      <td>121314</td>\n",
       "      <td>mehmet</td>\n",
       "      <td>sütçüler</td>\n",
       "      <td>7000</td>\n",
       "    </tr>\n",
       "    <tr>\n",
       "      <th>5</th>\n",
       "      <td>151617</td>\n",
       "      <td>fatma</td>\n",
       "      <td>belen</td>\n",
       "      <td>9000</td>\n",
       "    </tr>\n",
       "    <tr>\n",
       "      <th>6</th>\n",
       "      <td>181920</td>\n",
       "      <td>ahmet</td>\n",
       "      <td>beylikdüzü</td>\n",
       "      <td>10000</td>\n",
       "    </tr>\n",
       "  </tbody>\n",
       "</table>\n",
       "</div>"
      ],
      "text/plain": [
       "   Cust ID  Full NM     Country    AUM\n",
       "0      123    fatih     türkiye   3000\n",
       "1      345    tuğçe   makedonya   4000\n",
       "2      678   gökmen     ısparta   5000\n",
       "3    91011  ayşegül     kapaklı   6000\n",
       "4   121314   mehmet    sütçüler   7000\n",
       "5   151617    fatma       belen   9000\n",
       "6   181920    ahmet  beylikdüzü  10000"
      ]
     },
     "execution_count": 127,
     "metadata": {},
     "output_type": "execute_result"
    }
   ],
   "source": [
    "mdf.sort_values(\"AUM\") ##smallest to largest sort"
   ]
  },
  {
   "cell_type": "code",
   "execution_count": 128,
   "id": "c25292bc",
   "metadata": {},
   "outputs": [
    {
     "data": {
      "text/html": [
       "<div>\n",
       "<style scoped>\n",
       "    .dataframe tbody tr th:only-of-type {\n",
       "        vertical-align: middle;\n",
       "    }\n",
       "\n",
       "    .dataframe tbody tr th {\n",
       "        vertical-align: top;\n",
       "    }\n",
       "\n",
       "    .dataframe thead th {\n",
       "        text-align: right;\n",
       "    }\n",
       "</style>\n",
       "<table border=\"1\" class=\"dataframe\">\n",
       "  <thead>\n",
       "    <tr style=\"text-align: right;\">\n",
       "      <th></th>\n",
       "      <th>Cust ID</th>\n",
       "      <th>Full NM</th>\n",
       "      <th>Country</th>\n",
       "      <th>AUM</th>\n",
       "    </tr>\n",
       "  </thead>\n",
       "  <tbody>\n",
       "    <tr>\n",
       "      <th>6</th>\n",
       "      <td>181920</td>\n",
       "      <td>ahmet</td>\n",
       "      <td>beylikdüzü</td>\n",
       "      <td>10000</td>\n",
       "    </tr>\n",
       "    <tr>\n",
       "      <th>5</th>\n",
       "      <td>151617</td>\n",
       "      <td>fatma</td>\n",
       "      <td>belen</td>\n",
       "      <td>9000</td>\n",
       "    </tr>\n",
       "    <tr>\n",
       "      <th>4</th>\n",
       "      <td>121314</td>\n",
       "      <td>mehmet</td>\n",
       "      <td>sütçüler</td>\n",
       "      <td>7000</td>\n",
       "    </tr>\n",
       "    <tr>\n",
       "      <th>3</th>\n",
       "      <td>91011</td>\n",
       "      <td>ayşegül</td>\n",
       "      <td>kapaklı</td>\n",
       "      <td>6000</td>\n",
       "    </tr>\n",
       "    <tr>\n",
       "      <th>2</th>\n",
       "      <td>678</td>\n",
       "      <td>gökmen</td>\n",
       "      <td>ısparta</td>\n",
       "      <td>5000</td>\n",
       "    </tr>\n",
       "    <tr>\n",
       "      <th>1</th>\n",
       "      <td>345</td>\n",
       "      <td>tuğçe</td>\n",
       "      <td>makedonya</td>\n",
       "      <td>4000</td>\n",
       "    </tr>\n",
       "    <tr>\n",
       "      <th>0</th>\n",
       "      <td>123</td>\n",
       "      <td>fatih</td>\n",
       "      <td>türkiye</td>\n",
       "      <td>3000</td>\n",
       "    </tr>\n",
       "  </tbody>\n",
       "</table>\n",
       "</div>"
      ],
      "text/plain": [
       "   Cust ID  Full NM     Country    AUM\n",
       "6   181920    ahmet  beylikdüzü  10000\n",
       "5   151617    fatma       belen   9000\n",
       "4   121314   mehmet    sütçüler   7000\n",
       "3    91011  ayşegül     kapaklı   6000\n",
       "2      678   gökmen     ısparta   5000\n",
       "1      345    tuğçe   makedonya   4000\n",
       "0      123    fatih     türkiye   3000"
      ]
     },
     "execution_count": 128,
     "metadata": {},
     "output_type": "execute_result"
    }
   ],
   "source": [
    "mdf.sort_values(\"AUM\", ascending = False)"
   ]
  },
  {
   "cell_type": "code",
   "execution_count": 1,
   "id": "10127544",
   "metadata": {},
   "outputs": [],
   "source": [
    "mdata = [(123,'fatih','makedonya',23,3000),\n",
    "        (345,'tuğçe','tekirdağ',22,4000),\n",
    "        (678,'gökmen','manastır',53,5000),\n",
    "        (91011,'ayşegül','ısparta',51,6000),\n",
    "       (121314,'mehmet','sütçüler',81,7000),\n",
    "       (151617,'tito','çukurbostan',64,9000),\n",
    "       (181920,'toto','çukurbostan',62,10000)]"
   ]
  },
  {
   "cell_type": "code",
   "execution_count": 3,
   "id": "9f989881",
   "metadata": {},
   "outputs": [],
   "source": [
    "import pandas as pd"
   ]
  },
  {
   "cell_type": "code",
   "execution_count": 4,
   "id": "237a707f",
   "metadata": {},
   "outputs": [
    {
     "name": "stdout",
     "output_type": "stream",
     "text": [
      "   Cust ID  Full NM      Country  Age    AUM\n",
      "0      123    fatih    makedonya   23   3000\n",
      "1      345    tuğçe     tekirdağ   22   4000\n",
      "2      678   gökmen     manastır   53   5000\n",
      "3    91011  ayşegül      ısparta   51   6000\n",
      "4   121314   mehmet     sütçüler   81   7000\n",
      "5   151617     tito  çukurbostan   64   9000\n",
      "6   181920     toto  çukurbostan   62  10000\n"
     ]
    }
   ],
   "source": [
    "mdf = pd.DataFrame(mdata,columns=['Cust ID','Full NM','Country','Age','AUM'])\n",
    "print(mdf)"
   ]
  },
  {
   "cell_type": "code",
   "execution_count": 188,
   "id": "85b88257",
   "metadata": {},
   "outputs": [
    {
     "data": {
      "text/html": [
       "<div>\n",
       "<style scoped>\n",
       "    .dataframe tbody tr th:only-of-type {\n",
       "        vertical-align: middle;\n",
       "    }\n",
       "\n",
       "    .dataframe tbody tr th {\n",
       "        vertical-align: top;\n",
       "    }\n",
       "\n",
       "    .dataframe thead th {\n",
       "        text-align: right;\n",
       "    }\n",
       "</style>\n",
       "<table border=\"1\" class=\"dataframe\">\n",
       "  <thead>\n",
       "    <tr style=\"text-align: right;\">\n",
       "      <th></th>\n",
       "      <th>Cust ID</th>\n",
       "      <th>Full NM</th>\n",
       "      <th>Country</th>\n",
       "      <th>Age</th>\n",
       "      <th>AUM</th>\n",
       "    </tr>\n",
       "  </thead>\n",
       "  <tbody>\n",
       "    <tr>\n",
       "      <th>6</th>\n",
       "      <td>181920</td>\n",
       "      <td>toto</td>\n",
       "      <td>çukurbostan</td>\n",
       "      <td>62</td>\n",
       "      <td>10000</td>\n",
       "    </tr>\n",
       "    <tr>\n",
       "      <th>5</th>\n",
       "      <td>151617</td>\n",
       "      <td>tito</td>\n",
       "      <td>çukurbostan</td>\n",
       "      <td>64</td>\n",
       "      <td>9000</td>\n",
       "    </tr>\n",
       "    <tr>\n",
       "      <th>4</th>\n",
       "      <td>121314</td>\n",
       "      <td>mehmet</td>\n",
       "      <td>sütçüler</td>\n",
       "      <td>81</td>\n",
       "      <td>7000</td>\n",
       "    </tr>\n",
       "    <tr>\n",
       "      <th>3</th>\n",
       "      <td>91011</td>\n",
       "      <td>ayşegül</td>\n",
       "      <td>ısparta</td>\n",
       "      <td>51</td>\n",
       "      <td>6000</td>\n",
       "    </tr>\n",
       "    <tr>\n",
       "      <th>2</th>\n",
       "      <td>678</td>\n",
       "      <td>gökmen</td>\n",
       "      <td>manastır</td>\n",
       "      <td>53</td>\n",
       "      <td>5000</td>\n",
       "    </tr>\n",
       "    <tr>\n",
       "      <th>1</th>\n",
       "      <td>345</td>\n",
       "      <td>tuğçe</td>\n",
       "      <td>tekirdağ</td>\n",
       "      <td>22</td>\n",
       "      <td>4000</td>\n",
       "    </tr>\n",
       "    <tr>\n",
       "      <th>0</th>\n",
       "      <td>123</td>\n",
       "      <td>fatih</td>\n",
       "      <td>makedonya</td>\n",
       "      <td>23</td>\n",
       "      <td>3000</td>\n",
       "    </tr>\n",
       "  </tbody>\n",
       "</table>\n",
       "</div>"
      ],
      "text/plain": [
       "   Cust ID  Full NM      Country  Age    AUM\n",
       "6   181920     toto  çukurbostan   62  10000\n",
       "5   151617     tito  çukurbostan   64   9000\n",
       "4   121314   mehmet     sütçüler   81   7000\n",
       "3    91011  ayşegül      ısparta   51   6000\n",
       "2      678   gökmen     manastır   53   5000\n",
       "1      345    tuğçe     tekirdağ   22   4000\n",
       "0      123    fatih    makedonya   23   3000"
      ]
     },
     "execution_count": 188,
     "metadata": {},
     "output_type": "execute_result"
    }
   ],
   "source": [
    "mdf.sort_values(\"AUM\", ascending=False)"
   ]
  },
  {
   "cell_type": "code",
   "execution_count": 189,
   "id": "1b07b137",
   "metadata": {},
   "outputs": [
    {
     "data": {
      "text/html": [
       "<div>\n",
       "<style scoped>\n",
       "    .dataframe tbody tr th:only-of-type {\n",
       "        vertical-align: middle;\n",
       "    }\n",
       "\n",
       "    .dataframe tbody tr th {\n",
       "        vertical-align: top;\n",
       "    }\n",
       "\n",
       "    .dataframe thead th {\n",
       "        text-align: right;\n",
       "    }\n",
       "</style>\n",
       "<table border=\"1\" class=\"dataframe\">\n",
       "  <thead>\n",
       "    <tr style=\"text-align: right;\">\n",
       "      <th></th>\n",
       "      <th>Cust ID</th>\n",
       "      <th>Full NM</th>\n",
       "      <th>Country</th>\n",
       "      <th>Age</th>\n",
       "      <th>AUM</th>\n",
       "    </tr>\n",
       "  </thead>\n",
       "  <tbody>\n",
       "    <tr>\n",
       "      <th>0</th>\n",
       "      <td>123</td>\n",
       "      <td>fatih</td>\n",
       "      <td>makedonya</td>\n",
       "      <td>23</td>\n",
       "      <td>3000</td>\n",
       "    </tr>\n",
       "    <tr>\n",
       "      <th>1</th>\n",
       "      <td>345</td>\n",
       "      <td>tuğçe</td>\n",
       "      <td>tekirdağ</td>\n",
       "      <td>22</td>\n",
       "      <td>4000</td>\n",
       "    </tr>\n",
       "    <tr>\n",
       "      <th>2</th>\n",
       "      <td>678</td>\n",
       "      <td>gökmen</td>\n",
       "      <td>manastır</td>\n",
       "      <td>53</td>\n",
       "      <td>5000</td>\n",
       "    </tr>\n",
       "    <tr>\n",
       "      <th>3</th>\n",
       "      <td>91011</td>\n",
       "      <td>ayşegül</td>\n",
       "      <td>ısparta</td>\n",
       "      <td>51</td>\n",
       "      <td>6000</td>\n",
       "    </tr>\n",
       "    <tr>\n",
       "      <th>4</th>\n",
       "      <td>121314</td>\n",
       "      <td>mehmet</td>\n",
       "      <td>sütçüler</td>\n",
       "      <td>81</td>\n",
       "      <td>7000</td>\n",
       "    </tr>\n",
       "    <tr>\n",
       "      <th>5</th>\n",
       "      <td>151617</td>\n",
       "      <td>tito</td>\n",
       "      <td>çukurbostan</td>\n",
       "      <td>64</td>\n",
       "      <td>9000</td>\n",
       "    </tr>\n",
       "    <tr>\n",
       "      <th>6</th>\n",
       "      <td>181920</td>\n",
       "      <td>toto</td>\n",
       "      <td>çukurbostan</td>\n",
       "      <td>62</td>\n",
       "      <td>10000</td>\n",
       "    </tr>\n",
       "  </tbody>\n",
       "</table>\n",
       "</div>"
      ],
      "text/plain": [
       "   Cust ID  Full NM      Country  Age    AUM\n",
       "0      123    fatih    makedonya   23   3000\n",
       "1      345    tuğçe     tekirdağ   22   4000\n",
       "2      678   gökmen     manastır   53   5000\n",
       "3    91011  ayşegül      ısparta   51   6000\n",
       "4   121314   mehmet     sütçüler   81   7000\n",
       "5   151617     tito  çukurbostan   64   9000\n",
       "6   181920     toto  çukurbostan   62  10000"
      ]
     },
     "execution_count": 189,
     "metadata": {},
     "output_type": "execute_result"
    }
   ],
   "source": [
    "mdf.sort_values([\"AUM\",\"Age\"],ascending=[True,False])"
   ]
  },
  {
   "cell_type": "code",
   "execution_count": 190,
   "id": "cac1b514",
   "metadata": {},
   "outputs": [
    {
     "data": {
      "text/html": [
       "<div>\n",
       "<style scoped>\n",
       "    .dataframe tbody tr th:only-of-type {\n",
       "        vertical-align: middle;\n",
       "    }\n",
       "\n",
       "    .dataframe tbody tr th {\n",
       "        vertical-align: top;\n",
       "    }\n",
       "\n",
       "    .dataframe thead th {\n",
       "        text-align: right;\n",
       "    }\n",
       "</style>\n",
       "<table border=\"1\" class=\"dataframe\">\n",
       "  <thead>\n",
       "    <tr style=\"text-align: right;\">\n",
       "      <th></th>\n",
       "      <th>Cust ID</th>\n",
       "      <th>Full NM</th>\n",
       "      <th>Country</th>\n",
       "      <th>Age</th>\n",
       "      <th>AUM</th>\n",
       "    </tr>\n",
       "  </thead>\n",
       "  <tbody>\n",
       "    <tr>\n",
       "      <th>1</th>\n",
       "      <td>345</td>\n",
       "      <td>tuğçe</td>\n",
       "      <td>tekirdağ</td>\n",
       "      <td>22</td>\n",
       "      <td>4000</td>\n",
       "    </tr>\n",
       "    <tr>\n",
       "      <th>2</th>\n",
       "      <td>678</td>\n",
       "      <td>gökmen</td>\n",
       "      <td>manastır</td>\n",
       "      <td>53</td>\n",
       "      <td>5000</td>\n",
       "    </tr>\n",
       "    <tr>\n",
       "      <th>3</th>\n",
       "      <td>91011</td>\n",
       "      <td>ayşegül</td>\n",
       "      <td>ısparta</td>\n",
       "      <td>51</td>\n",
       "      <td>6000</td>\n",
       "    </tr>\n",
       "    <tr>\n",
       "      <th>4</th>\n",
       "      <td>121314</td>\n",
       "      <td>mehmet</td>\n",
       "      <td>sütçüler</td>\n",
       "      <td>81</td>\n",
       "      <td>7000</td>\n",
       "    </tr>\n",
       "    <tr>\n",
       "      <th>5</th>\n",
       "      <td>151617</td>\n",
       "      <td>tito</td>\n",
       "      <td>çukurbostan</td>\n",
       "      <td>64</td>\n",
       "      <td>9000</td>\n",
       "    </tr>\n",
       "    <tr>\n",
       "      <th>6</th>\n",
       "      <td>181920</td>\n",
       "      <td>toto</td>\n",
       "      <td>çukurbostan</td>\n",
       "      <td>62</td>\n",
       "      <td>10000</td>\n",
       "    </tr>\n",
       "  </tbody>\n",
       "</table>\n",
       "</div>"
      ],
      "text/plain": [
       "   Cust ID  Full NM      Country  Age    AUM\n",
       "1      345    tuğçe     tekirdağ   22   4000\n",
       "2      678   gökmen     manastır   53   5000\n",
       "3    91011  ayşegül      ısparta   51   6000\n",
       "4   121314   mehmet     sütçüler   81   7000\n",
       "5   151617     tito  çukurbostan   64   9000\n",
       "6   181920     toto  çukurbostan   62  10000"
      ]
     },
     "execution_count": 190,
     "metadata": {},
     "output_type": "execute_result"
    }
   ],
   "source": [
    "mdf[mdf[\"AUM\"]>=4000]"
   ]
  },
  {
   "cell_type": "code",
   "execution_count": 191,
   "id": "4259fbe2",
   "metadata": {},
   "outputs": [
    {
     "data": {
      "text/html": [
       "<div>\n",
       "<style scoped>\n",
       "    .dataframe tbody tr th:only-of-type {\n",
       "        vertical-align: middle;\n",
       "    }\n",
       "\n",
       "    .dataframe tbody tr th {\n",
       "        vertical-align: top;\n",
       "    }\n",
       "\n",
       "    .dataframe thead th {\n",
       "        text-align: right;\n",
       "    }\n",
       "</style>\n",
       "<table border=\"1\" class=\"dataframe\">\n",
       "  <thead>\n",
       "    <tr style=\"text-align: right;\">\n",
       "      <th></th>\n",
       "      <th>Cust ID</th>\n",
       "      <th>Full NM</th>\n",
       "      <th>Country</th>\n",
       "      <th>Age</th>\n",
       "      <th>AUM</th>\n",
       "    </tr>\n",
       "  </thead>\n",
       "  <tbody>\n",
       "    <tr>\n",
       "      <th>5</th>\n",
       "      <td>151617</td>\n",
       "      <td>tito</td>\n",
       "      <td>çukurbostan</td>\n",
       "      <td>64</td>\n",
       "      <td>9000</td>\n",
       "    </tr>\n",
       "    <tr>\n",
       "      <th>6</th>\n",
       "      <td>181920</td>\n",
       "      <td>toto</td>\n",
       "      <td>çukurbostan</td>\n",
       "      <td>62</td>\n",
       "      <td>10000</td>\n",
       "    </tr>\n",
       "  </tbody>\n",
       "</table>\n",
       "</div>"
      ],
      "text/plain": [
       "   Cust ID Full NM      Country  Age    AUM\n",
       "5   151617    tito  çukurbostan   64   9000\n",
       "6   181920    toto  çukurbostan   62  10000"
      ]
     },
     "execution_count": 191,
     "metadata": {},
     "output_type": "execute_result"
    }
   ],
   "source": [
    "mdf[mdf[\"Country\"]==\"çukurbostan\"]"
   ]
  },
  {
   "cell_type": "code",
   "execution_count": 192,
   "id": "3f8ec328",
   "metadata": {},
   "outputs": [
    {
     "data": {
      "text/html": [
       "<div>\n",
       "<style scoped>\n",
       "    .dataframe tbody tr th:only-of-type {\n",
       "        vertical-align: middle;\n",
       "    }\n",
       "\n",
       "    .dataframe tbody tr th {\n",
       "        vertical-align: top;\n",
       "    }\n",
       "\n",
       "    .dataframe thead th {\n",
       "        text-align: right;\n",
       "    }\n",
       "</style>\n",
       "<table border=\"1\" class=\"dataframe\">\n",
       "  <thead>\n",
       "    <tr style=\"text-align: right;\">\n",
       "      <th></th>\n",
       "      <th>Cust ID</th>\n",
       "      <th>Full NM</th>\n",
       "      <th>Country</th>\n",
       "      <th>Age</th>\n",
       "      <th>AUM</th>\n",
       "    </tr>\n",
       "  </thead>\n",
       "  <tbody>\n",
       "    <tr>\n",
       "      <th>4</th>\n",
       "      <td>121314</td>\n",
       "      <td>mehmet</td>\n",
       "      <td>sütçüler</td>\n",
       "      <td>81</td>\n",
       "      <td>7000</td>\n",
       "    </tr>\n",
       "  </tbody>\n",
       "</table>\n",
       "</div>"
      ],
      "text/plain": [
       "   Cust ID Full NM   Country  Age   AUM\n",
       "4   121314  mehmet  sütçüler   81  7000"
      ]
     },
     "execution_count": 192,
     "metadata": {},
     "output_type": "execute_result"
    }
   ],
   "source": [
    "mdf[(mdf[\"Country\"]==\"sütçüler\")&(mdf[\"Age\"]==81)] ##ikili filtre"
   ]
  },
  {
   "cell_type": "code",
   "execution_count": 193,
   "id": "832e56e3",
   "metadata": {},
   "outputs": [
    {
     "data": {
      "text/html": [
       "<div>\n",
       "<style scoped>\n",
       "    .dataframe tbody tr th:only-of-type {\n",
       "        vertical-align: middle;\n",
       "    }\n",
       "\n",
       "    .dataframe tbody tr th {\n",
       "        vertical-align: top;\n",
       "    }\n",
       "\n",
       "    .dataframe thead th {\n",
       "        text-align: right;\n",
       "    }\n",
       "</style>\n",
       "<table border=\"1\" class=\"dataframe\">\n",
       "  <thead>\n",
       "    <tr style=\"text-align: right;\">\n",
       "      <th></th>\n",
       "      <th>Cust ID</th>\n",
       "      <th>Full NM</th>\n",
       "      <th>Country</th>\n",
       "      <th>Age</th>\n",
       "      <th>AUM</th>\n",
       "    </tr>\n",
       "  </thead>\n",
       "  <tbody>\n",
       "    <tr>\n",
       "      <th>0</th>\n",
       "      <td>123</td>\n",
       "      <td>fatih</td>\n",
       "      <td>makedonya</td>\n",
       "      <td>23</td>\n",
       "      <td>3000</td>\n",
       "    </tr>\n",
       "    <tr>\n",
       "      <th>1</th>\n",
       "      <td>345</td>\n",
       "      <td>tuğçe</td>\n",
       "      <td>tekirdağ</td>\n",
       "      <td>22</td>\n",
       "      <td>4000</td>\n",
       "    </tr>\n",
       "    <tr>\n",
       "      <th>2</th>\n",
       "      <td>678</td>\n",
       "      <td>gökmen</td>\n",
       "      <td>manastır</td>\n",
       "      <td>53</td>\n",
       "      <td>5000</td>\n",
       "    </tr>\n",
       "    <tr>\n",
       "      <th>3</th>\n",
       "      <td>91011</td>\n",
       "      <td>ayşegül</td>\n",
       "      <td>ısparta</td>\n",
       "      <td>51</td>\n",
       "      <td>6000</td>\n",
       "    </tr>\n",
       "    <tr>\n",
       "      <th>4</th>\n",
       "      <td>121314</td>\n",
       "      <td>mehmet</td>\n",
       "      <td>sütçüler</td>\n",
       "      <td>81</td>\n",
       "      <td>7000</td>\n",
       "    </tr>\n",
       "    <tr>\n",
       "      <th>5</th>\n",
       "      <td>151617</td>\n",
       "      <td>tito</td>\n",
       "      <td>çukurbostan</td>\n",
       "      <td>64</td>\n",
       "      <td>9000</td>\n",
       "    </tr>\n",
       "    <tr>\n",
       "      <th>6</th>\n",
       "      <td>181920</td>\n",
       "      <td>toto</td>\n",
       "      <td>çukurbostan</td>\n",
       "      <td>62</td>\n",
       "      <td>10000</td>\n",
       "    </tr>\n",
       "  </tbody>\n",
       "</table>\n",
       "</div>"
      ],
      "text/plain": [
       "   Cust ID  Full NM      Country  Age    AUM\n",
       "0      123    fatih    makedonya   23   3000\n",
       "1      345    tuğçe     tekirdağ   22   4000\n",
       "2      678   gökmen     manastır   53   5000\n",
       "3    91011  ayşegül      ısparta   51   6000\n",
       "4   121314   mehmet     sütçüler   81   7000\n",
       "5   151617     tito  çukurbostan   64   9000\n",
       "6   181920     toto  çukurbostan   62  10000"
      ]
     },
     "execution_count": 193,
     "metadata": {},
     "output_type": "execute_result"
    }
   ],
   "source": [
    "mdf"
   ]
  },
  {
   "cell_type": "code",
   "execution_count": 196,
   "id": "bf3ffae8",
   "metadata": {},
   "outputs": [],
   "source": [
    "count = mdf.shape[0]"
   ]
  },
  {
   "cell_type": "code",
   "execution_count": 197,
   "id": "816d9dcb",
   "metadata": {},
   "outputs": [],
   "source": [
    "mdf[\"AUM_AVE\"] = mdf[\"AUM\"]/count #yeni satır ekleme"
   ]
  },
  {
   "cell_type": "code",
   "execution_count": 198,
   "id": "337fdeab",
   "metadata": {},
   "outputs": [
    {
     "data": {
      "text/html": [
       "<div>\n",
       "<style scoped>\n",
       "    .dataframe tbody tr th:only-of-type {\n",
       "        vertical-align: middle;\n",
       "    }\n",
       "\n",
       "    .dataframe tbody tr th {\n",
       "        vertical-align: top;\n",
       "    }\n",
       "\n",
       "    .dataframe thead th {\n",
       "        text-align: right;\n",
       "    }\n",
       "</style>\n",
       "<table border=\"1\" class=\"dataframe\">\n",
       "  <thead>\n",
       "    <tr style=\"text-align: right;\">\n",
       "      <th></th>\n",
       "      <th>Cust ID</th>\n",
       "      <th>Full NM</th>\n",
       "      <th>Country</th>\n",
       "      <th>Age</th>\n",
       "      <th>AUM</th>\n",
       "      <th>AUM_AVE</th>\n",
       "    </tr>\n",
       "  </thead>\n",
       "  <tbody>\n",
       "    <tr>\n",
       "      <th>0</th>\n",
       "      <td>123</td>\n",
       "      <td>fatih</td>\n",
       "      <td>makedonya</td>\n",
       "      <td>23</td>\n",
       "      <td>3000</td>\n",
       "      <td>428.571429</td>\n",
       "    </tr>\n",
       "    <tr>\n",
       "      <th>1</th>\n",
       "      <td>345</td>\n",
       "      <td>tuğçe</td>\n",
       "      <td>tekirdağ</td>\n",
       "      <td>22</td>\n",
       "      <td>4000</td>\n",
       "      <td>571.428571</td>\n",
       "    </tr>\n",
       "    <tr>\n",
       "      <th>2</th>\n",
       "      <td>678</td>\n",
       "      <td>gökmen</td>\n",
       "      <td>manastır</td>\n",
       "      <td>53</td>\n",
       "      <td>5000</td>\n",
       "      <td>714.285714</td>\n",
       "    </tr>\n",
       "    <tr>\n",
       "      <th>3</th>\n",
       "      <td>91011</td>\n",
       "      <td>ayşegül</td>\n",
       "      <td>ısparta</td>\n",
       "      <td>51</td>\n",
       "      <td>6000</td>\n",
       "      <td>857.142857</td>\n",
       "    </tr>\n",
       "    <tr>\n",
       "      <th>4</th>\n",
       "      <td>121314</td>\n",
       "      <td>mehmet</td>\n",
       "      <td>sütçüler</td>\n",
       "      <td>81</td>\n",
       "      <td>7000</td>\n",
       "      <td>1000.000000</td>\n",
       "    </tr>\n",
       "    <tr>\n",
       "      <th>5</th>\n",
       "      <td>151617</td>\n",
       "      <td>tito</td>\n",
       "      <td>çukurbostan</td>\n",
       "      <td>64</td>\n",
       "      <td>9000</td>\n",
       "      <td>1285.714286</td>\n",
       "    </tr>\n",
       "    <tr>\n",
       "      <th>6</th>\n",
       "      <td>181920</td>\n",
       "      <td>toto</td>\n",
       "      <td>çukurbostan</td>\n",
       "      <td>62</td>\n",
       "      <td>10000</td>\n",
       "      <td>1428.571429</td>\n",
       "    </tr>\n",
       "  </tbody>\n",
       "</table>\n",
       "</div>"
      ],
      "text/plain": [
       "   Cust ID  Full NM      Country  Age    AUM      AUM_AVE\n",
       "0      123    fatih    makedonya   23   3000   428.571429\n",
       "1      345    tuğçe     tekirdağ   22   4000   571.428571\n",
       "2      678   gökmen     manastır   53   5000   714.285714\n",
       "3    91011  ayşegül      ısparta   51   6000   857.142857\n",
       "4   121314   mehmet     sütçüler   81   7000  1000.000000\n",
       "5   151617     tito  çukurbostan   64   9000  1285.714286\n",
       "6   181920     toto  çukurbostan   62  10000  1428.571429"
      ]
     },
     "execution_count": 198,
     "metadata": {},
     "output_type": "execute_result"
    }
   ],
   "source": [
    "mdf"
   ]
  },
  {
   "cell_type": "code",
   "execution_count": 200,
   "id": "d928eef4",
   "metadata": {
    "scrolled": true
   },
   "outputs": [
    {
     "data": {
      "text/html": [
       "<div>\n",
       "<style scoped>\n",
       "    .dataframe tbody tr th:only-of-type {\n",
       "        vertical-align: middle;\n",
       "    }\n",
       "\n",
       "    .dataframe tbody tr th {\n",
       "        vertical-align: top;\n",
       "    }\n",
       "\n",
       "    .dataframe thead th {\n",
       "        text-align: right;\n",
       "    }\n",
       "</style>\n",
       "<table border=\"1\" class=\"dataframe\">\n",
       "  <thead>\n",
       "    <tr style=\"text-align: right;\">\n",
       "      <th></th>\n",
       "      <th>Cust ID</th>\n",
       "      <th>Full NM</th>\n",
       "      <th>Country</th>\n",
       "      <th>Age</th>\n",
       "      <th>AUM</th>\n",
       "      <th>AUM_AVE</th>\n",
       "    </tr>\n",
       "  </thead>\n",
       "  <tbody>\n",
       "    <tr>\n",
       "      <th>0</th>\n",
       "      <td>123</td>\n",
       "      <td>fatih</td>\n",
       "      <td>makedonya</td>\n",
       "      <td>23</td>\n",
       "      <td>3000</td>\n",
       "      <td>428.571429</td>\n",
       "    </tr>\n",
       "    <tr>\n",
       "      <th>1</th>\n",
       "      <td>345</td>\n",
       "      <td>tuğçe</td>\n",
       "      <td>tekirdağ</td>\n",
       "      <td>22</td>\n",
       "      <td>4000</td>\n",
       "      <td>571.428571</td>\n",
       "    </tr>\n",
       "    <tr>\n",
       "      <th>2</th>\n",
       "      <td>678</td>\n",
       "      <td>gökmen</td>\n",
       "      <td>manastır</td>\n",
       "      <td>53</td>\n",
       "      <td>5000</td>\n",
       "      <td>714.285714</td>\n",
       "    </tr>\n",
       "    <tr>\n",
       "      <th>3</th>\n",
       "      <td>91011</td>\n",
       "      <td>ayşegül</td>\n",
       "      <td>ısparta</td>\n",
       "      <td>51</td>\n",
       "      <td>6000</td>\n",
       "      <td>857.142857</td>\n",
       "    </tr>\n",
       "    <tr>\n",
       "      <th>4</th>\n",
       "      <td>121314</td>\n",
       "      <td>mehmet</td>\n",
       "      <td>sütçüler</td>\n",
       "      <td>81</td>\n",
       "      <td>7000</td>\n",
       "      <td>1000.000000</td>\n",
       "    </tr>\n",
       "    <tr>\n",
       "      <th>5</th>\n",
       "      <td>151617</td>\n",
       "      <td>tito</td>\n",
       "      <td>çukurbostan</td>\n",
       "      <td>64</td>\n",
       "      <td>9000</td>\n",
       "      <td>1285.714286</td>\n",
       "    </tr>\n",
       "    <tr>\n",
       "      <th>6</th>\n",
       "      <td>181920</td>\n",
       "      <td>toto</td>\n",
       "      <td>çukurbostan</td>\n",
       "      <td>62</td>\n",
       "      <td>10000</td>\n",
       "      <td>1428.571429</td>\n",
       "    </tr>\n",
       "  </tbody>\n",
       "</table>\n",
       "</div>"
      ],
      "text/plain": [
       "   Cust ID  Full NM      Country  Age    AUM      AUM_AVE\n",
       "0      123    fatih    makedonya   23   3000   428.571429\n",
       "1      345    tuğçe     tekirdağ   22   4000   571.428571\n",
       "2      678   gökmen     manastır   53   5000   714.285714\n",
       "3    91011  ayşegül      ısparta   51   6000   857.142857\n",
       "4   121314   mehmet     sütçüler   81   7000  1000.000000\n",
       "5   151617     tito  çukurbostan   64   9000  1285.714286\n",
       "6   181920     toto  çukurbostan   62  10000  1428.571429"
      ]
     },
     "execution_count": 200,
     "metadata": {},
     "output_type": "execute_result"
    }
   ],
   "source": [
    "mdf"
   ]
  },
  {
   "cell_type": "code",
   "execution_count": 7,
   "id": "6ad059b0",
   "metadata": {},
   "outputs": [
    {
     "data": {
      "text/plain": [
       "6285.714285714285"
      ]
     },
     "execution_count": 7,
     "metadata": {},
     "output_type": "execute_result"
    }
   ],
   "source": [
    "mdf[\"AUM\"].mean()"
   ]
  },
  {
   "cell_type": "code",
   "execution_count": 8,
   "id": "f54f974e",
   "metadata": {},
   "outputs": [
    {
     "data": {
      "text/plain": [
       "6000.0"
      ]
     },
     "execution_count": 8,
     "metadata": {},
     "output_type": "execute_result"
    }
   ],
   "source": [
    "mdf[\"AUM\"].median()"
   ]
  },
  {
   "cell_type": "code",
   "execution_count": 9,
   "id": "478a8ad9",
   "metadata": {},
   "outputs": [
    {
     "data": {
      "text/plain": [
       "0     3000\n",
       "1     4000\n",
       "2     5000\n",
       "3     6000\n",
       "4     7000\n",
       "5     9000\n",
       "6    10000\n",
       "Name: AUM, dtype: int64"
      ]
     },
     "execution_count": 9,
     "metadata": {},
     "output_type": "execute_result"
    }
   ],
   "source": [
    "mdf[\"AUM\"].mode()"
   ]
  },
  {
   "cell_type": "code",
   "execution_count": 10,
   "id": "48f81dc6",
   "metadata": {},
   "outputs": [
    {
     "data": {
      "text/plain": [
       "44000"
      ]
     },
     "execution_count": 10,
     "metadata": {},
     "output_type": "execute_result"
    }
   ],
   "source": [
    "mdf[\"AUM\"].sum()"
   ]
  },
  {
   "cell_type": "code",
   "execution_count": 11,
   "id": "5019d17f",
   "metadata": {},
   "outputs": [
    {
     "name": "stdout",
     "output_type": "stream",
     "text": [
      "   Cust ID  Full NM    Country  Age   AUM\n",
      "0      123    fatih  makedonya   23  3000\n",
      "1      345    tuğçe   tekirdağ   22  4000\n",
      "2      678   gökmen   manastır   53  5000\n",
      "3    91011  ayşegül    ısparta   51  6000\n",
      "4   121314   mehmet   sütçüler   81  7000\n",
      "<class 'pandas.core.frame.DataFrame'>\n",
      "RangeIndex: 7 entries, 0 to 6\n",
      "Data columns (total 5 columns):\n",
      " #   Column   Non-Null Count  Dtype \n",
      "---  ------   --------------  ----- \n",
      " 0   Cust ID  7 non-null      int64 \n",
      " 1   Full NM  7 non-null      object\n",
      " 2   Country  7 non-null      object\n",
      " 3   Age      7 non-null      int64 \n",
      " 4   AUM      7 non-null      int64 \n",
      "dtypes: int64(3), object(2)\n",
      "memory usage: 408.0+ bytes\n",
      "None\n",
      "6285.714285714285\n",
      "6000.0\n"
     ]
    }
   ],
   "source": [
    "# Print the head of the sales DataFrame\n",
    "print(mdf.head())\n",
    "\n",
    "# Print the info about the sales DataFrame\n",
    "print(mdf.info())\n",
    "\n",
    "# Print the mean of weekly_sales\n",
    "print(mdf[\"AUM\"].mean())\n",
    "\n",
    "# Print the median of weekly_sales\n",
    "print(mdf[\"AUM\"].median())"
   ]
  },
  {
   "cell_type": "raw",
   "id": "d9481b89",
   "metadata": {},
   "source": [
    "*Duplicate valueları silmek\n",
    "-tekrar eden aynı değerleri silmek için kullanılan metod.\n",
    "--unique_dogs = vet_visits.drop_duplicates(subset=\"name\") --> bu kod ile, birden fazla kez veterinere gitmiş olan name kolonundaki köpekleri sileceğiz ve tek değere düşüreceğiz.\n",
    "--birden fazla kolona duplicate atmak için, alt küme oluşturuyoruz.\n",
    "--unique_dogs = vet_visits.drop_duplicates(subset = [\"name\", \"breed\"])\n",
    "--bu değerleri saydırmak için --> unique_dogs[\"breed\"].value_counts() eğer sortlamak istiyorsak, value_counts metodunun içinde sort yazarsak output istediğimiz türden sıralı hale gelecek.\n",
    "--eğer oran bazında bakmak istersek, value_counts(normalize=True)"
   ]
  },
  {
   "cell_type": "code",
   "execution_count": null,
   "id": "2233d05a",
   "metadata": {},
   "outputs": [],
   "source": [
    "# Count the number of stores of each type\n",
    "store_counts = store_types[\"type\"].value_counts()\n",
    "print(store_counts)\n",
    "\n",
    "# Get the proportion of stores of each type\n",
    "store_props = store_types[\"type\"].value_counts(normalize = True)\n",
    "print(store_props)\n",
    "\n",
    "# Count the number of stores for each department and sort\n",
    "dept_counts_sorted = store_depts[\"department\"].value_counts(sort = True )\n",
    "print(dept_counts_sorted)\n",
    "\n",
    "# Get the proportion of stores in each department and sort\n",
    "dept_props_sorted = store_depts[\"department\"].value_counts(sort= True, normalize= True)\n",
    "print(dept_props_sorted)"
   ]
  }
 ],
 "metadata": {
  "kernelspec": {
   "display_name": "Python 3 (ipykernel)",
   "language": "python",
   "name": "python3"
  },
  "language_info": {
   "codemirror_mode": {
    "name": "ipython",
    "version": 3
   },
   "file_extension": ".py",
   "mimetype": "text/x-python",
   "name": "python",
   "nbconvert_exporter": "python",
   "pygments_lexer": "ipython3",
   "version": "3.10.9"
  }
 },
 "nbformat": 4,
 "nbformat_minor": 5
}
