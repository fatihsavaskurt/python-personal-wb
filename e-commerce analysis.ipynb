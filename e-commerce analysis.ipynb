{
 "cells": [
  {
   "cell_type": "code",
   "execution_count": 128,
   "id": "1026d2ed",
   "metadata": {},
   "outputs": [],
   "source": [
    "import pandas as pd\n",
    "import numpy as np\n",
    "import matplotlib.pyplot as plt\n"
   ]
  },
  {
   "cell_type": "code",
   "execution_count": 129,
   "id": "b79faf90",
   "metadata": {},
   "outputs": [],
   "source": [
    "file_path = r'C:\\Users\\valan\\Desktop\\data.csv'\n",
    "\n",
    "df = pd.read_csv(file_path, encoding='latin1')"
   ]
  },
  {
   "cell_type": "code",
   "execution_count": 130,
   "id": "66d833f4",
   "metadata": {},
   "outputs": [
    {
     "name": "stdout",
     "output_type": "stream",
     "text": [
      "  InvoiceNo StockCode                          Description  Quantity  \\\n",
      "0    536365    85123A   WHITE HANGING HEART T-LIGHT HOLDER         6   \n",
      "1    536365     71053                  WHITE METAL LANTERN         6   \n",
      "2    536365    84406B       CREAM CUPID HEARTS COAT HANGER         8   \n",
      "3    536365    84029G  KNITTED UNION FLAG HOT WATER BOTTLE         6   \n",
      "4    536365    84029E       RED WOOLLY HOTTIE WHITE HEART.         6   \n",
      "\n",
      "      InvoiceDate  UnitPrice  CustomerID         Country  \n",
      "0  12/1/2010 8:26       2.55     17850.0  United Kingdom  \n",
      "1  12/1/2010 8:26       3.39     17850.0  United Kingdom  \n",
      "2  12/1/2010 8:26       2.75     17850.0  United Kingdom  \n",
      "3  12/1/2010 8:26       3.39     17850.0  United Kingdom  \n",
      "4  12/1/2010 8:26       3.39     17850.0  United Kingdom  \n"
     ]
    }
   ],
   "source": [
    "print(df.head())"
   ]
  },
  {
   "cell_type": "raw",
   "id": "9c4e9274",
   "metadata": {},
   "source": [
    "Genel Analiz Soruları\n",
    "En fazla satın alınan ürün nedir?\n",
    "Hangi ürün en yüksek birim fiyatına sahiptir?\n",
    "Hangi müşteri (CustomerID) en fazla siparişi vermiştir?\n",
    "En sık hangi ülkeye gönderim yapılmıştır?\n",
    "Finansal Sorular\n",
    "Toplam gelir nedir? (Gelir = Quantity × UnitPrice)\n",
    "En yüksek gelir hangi ürünle elde edilmiştir?\n",
    "Birim fiyatı en yüksek olan ürün hangisidir?\n",
    "Tarih ve Zaman Analizi\n",
    "En erken ve en geç sipariş tarihi nedir?\n",
    "Aynı faturada (InvoiceNo) toplam kaç farklı ürün sipariş edilmiştir?\n",
    "Saat veya gün bazında hangi zamanlarda daha fazla sipariş verilmiştir?\n",
    "Diğer Sorular\n",
    "Aynı InvoiceNo’ya sahip ürünler arasında toplam ürün sayısı nedir?\n",
    "Hangi ürünler birden fazla farklı fatura numarası ile sipariş edilmiş?\n",
    "Bir ürünün toplam satış miktarı nedir? (Quantity toplamı)"
   ]
  },
  {
   "cell_type": "code",
   "execution_count": 131,
   "id": "768188e9",
   "metadata": {},
   "outputs": [
    {
     "name": "stdout",
     "output_type": "stream",
     "text": [
      "Index([   141,    154,    235,    236,    237,    238,    239,    240,    241,\n",
      "          939,\n",
      "       ...\n",
      "       540141, 540142, 540176, 540422, 540448, 540449, 541541, 541715, 541716,\n",
      "       541717],\n",
      "      dtype='int64', length=10624)\n"
     ]
    }
   ],
   "source": [
    "negative_quantity_indices = df[df['Quantity'] < 0].index\n",
    "print(negative_quantity_indices)"
   ]
  },
  {
   "cell_type": "code",
   "execution_count": 132,
   "id": "0978483b",
   "metadata": {},
   "outputs": [],
   "source": [
    "df = df.drop(index = negative_quantity_indices)"
   ]
  },
  {
   "cell_type": "raw",
   "id": "049e5bf0",
   "metadata": {},
   "source": [
    "***En fazla satılan ilk 5 ürün adedi?"
   ]
  },
  {
   "cell_type": "code",
   "execution_count": 133,
   "id": "a88b18fd",
   "metadata": {},
   "outputs": [],
   "source": [
    "product_quantity= df.groupby('Description')['Quantity'].sum()"
   ]
  },
  {
   "cell_type": "code",
   "execution_count": 134,
   "id": "689bbda1",
   "metadata": {},
   "outputs": [
    {
     "name": "stdout",
     "output_type": "stream",
     "text": [
      "       InvoiceNo StockCode                        Description  Quantity  \\\n",
      "540421    581483     23843        PAPER CRAFT , LITTLE BIRDIE     80995   \n",
      "61619     541431     23166     MEDIUM CERAMIC TOP STORAGE JAR     74215   \n",
      "502122    578841     84826     ASSTD DESIGN 3D PAPER STICKERS     12540   \n",
      "74614     542504     37413                                NaN      5568   \n",
      "421632    573008     84077  WORLD WAR 2 GLIDERS ASSTD DESIGNS      4800   \n",
      "\n",
      "             InvoiceDate  UnitPrice  CustomerID         Country  \n",
      "540421    12/9/2011 9:15       2.08     16446.0  United Kingdom  \n",
      "61619    1/18/2011 10:01       1.04     12346.0  United Kingdom  \n",
      "502122  11/25/2011 15:57       0.00     13256.0  United Kingdom  \n",
      "74614    1/28/2011 12:03       0.00         NaN  United Kingdom  \n",
      "421632  10/27/2011 12:26       0.21     12901.0  United Kingdom  \n"
     ]
    }
   ],
   "source": [
    "sorted_pq = df.sort_values(by = \"Quantity\", ascending=False).head()\n",
    "\n",
    "print(sorted_pq)"
   ]
  },
  {
   "cell_type": "raw",
   "id": "34a91d02",
   "metadata": {},
   "source": [
    "**Hangi ürün en yüksek birim fiyatına sahiptir?"
   ]
  },
  {
   "cell_type": "code",
   "execution_count": 135,
   "id": "ebf19db8",
   "metadata": {},
   "outputs": [],
   "source": [
    "unit_price = df.groupby('Description')[['Quantity','UnitPrice']].sum()"
   ]
  },
  {
   "cell_type": "code",
   "execution_count": 136,
   "id": "1340adc9",
   "metadata": {
    "scrolled": true
   },
   "outputs": [],
   "source": [
    "max_unitp = df['UnitPrice'].max()"
   ]
  },
  {
   "cell_type": "code",
   "execution_count": 137,
   "id": "c3bd80d5",
   "metadata": {},
   "outputs": [],
   "source": [
    "max_row = df[df['UnitPrice'] == max_unitp]"
   ]
  },
  {
   "cell_type": "code",
   "execution_count": 138,
   "id": "dffffe05",
   "metadata": {},
   "outputs": [
    {
     "data": {
      "text/html": [
       "<div>\n",
       "<style scoped>\n",
       "    .dataframe tbody tr th:only-of-type {\n",
       "        vertical-align: middle;\n",
       "    }\n",
       "\n",
       "    .dataframe tbody tr th {\n",
       "        vertical-align: top;\n",
       "    }\n",
       "\n",
       "    .dataframe thead th {\n",
       "        text-align: right;\n",
       "    }\n",
       "</style>\n",
       "<table border=\"1\" class=\"dataframe\">\n",
       "  <thead>\n",
       "    <tr style=\"text-align: right;\">\n",
       "      <th></th>\n",
       "      <th>Description</th>\n",
       "      <th>Quantity</th>\n",
       "      <th>UnitPrice</th>\n",
       "    </tr>\n",
       "  </thead>\n",
       "  <tbody>\n",
       "    <tr>\n",
       "      <th>15017</th>\n",
       "      <td>AMAZON FEE</td>\n",
       "      <td>1</td>\n",
       "      <td>13541.33</td>\n",
       "    </tr>\n",
       "  </tbody>\n",
       "</table>\n",
       "</div>"
      ],
      "text/plain": [
       "      Description  Quantity  UnitPrice\n",
       "15017  AMAZON FEE         1   13541.33"
      ]
     },
     "execution_count": 138,
     "metadata": {},
     "output_type": "execute_result"
    }
   ],
   "source": [
    "max_row[['Description', 'Quantity', 'UnitPrice']]"
   ]
  },
  {
   "cell_type": "raw",
   "id": "6c7b1262",
   "metadata": {},
   "source": [
    "Hangi müşteri (CustomerID) en fazla siparişi vermiştir?"
   ]
  },
  {
   "cell_type": "code",
   "execution_count": 139,
   "id": "da38cbb8",
   "metadata": {},
   "outputs": [],
   "source": [
    "cust_id = df.groupby('CustomerID')['Quantity'].sum().head()"
   ]
  },
  {
   "cell_type": "code",
   "execution_count": 140,
   "id": "3b35aa7d",
   "metadata": {},
   "outputs": [
    {
     "name": "stdout",
     "output_type": "stream",
     "text": [
      "CustomerID\n",
      "12346.0    74215\n",
      "12347.0     2458\n",
      "12348.0     2341\n",
      "12349.0      631\n",
      "12350.0      197\n",
      "Name: Quantity, dtype: int64\n"
     ]
    }
   ],
   "source": [
    "print(cust_id)"
   ]
  },
  {
   "cell_type": "code",
   "execution_count": 141,
   "id": "ddfd4cf2",
   "metadata": {},
   "outputs": [],
   "source": [
    "sorted_customers = cust_id.sort_values(ascending=False)"
   ]
  },
  {
   "cell_type": "raw",
   "id": "ac1b8f76",
   "metadata": {},
   "source": [
    "**En fazla sipariş veren müşteriye dair diğer detaylar"
   ]
  },
  {
   "cell_type": "code",
   "execution_count": 142,
   "id": "45fdd2fb",
   "metadata": {
    "scrolled": true
   },
   "outputs": [
    {
     "name": "stdout",
     "output_type": "stream",
     "text": [
      "CustomerID\n",
      "12346.0    74215\n",
      "12347.0     2458\n",
      "12348.0     2341\n",
      "12349.0      631\n",
      "12350.0      197\n",
      "Name: Quantity, dtype: int64\n"
     ]
    }
   ],
   "source": [
    "print(sorted_customers)"
   ]
  },
  {
   "cell_type": "code",
   "execution_count": 143,
   "id": "c1a3f8ee",
   "metadata": {},
   "outputs": [],
   "source": [
    "customer_top_order = sorted_customers.index[0]\n",
    "customer_order_details = df[df['CustomerID'] == customer_top_order]"
   ]
  },
  {
   "cell_type": "code",
   "execution_count": 144,
   "id": "5415decb",
   "metadata": {},
   "outputs": [],
   "source": [
    "cust_sort = customer_order_details.sort_values(by = 'Quantity',ascending=False)"
   ]
  },
  {
   "cell_type": "code",
   "execution_count": 145,
   "id": "f7dc9084",
   "metadata": {},
   "outputs": [
    {
     "name": "stdout",
     "output_type": "stream",
     "text": [
      "      InvoiceNo StockCode                     Description  Quantity  \\\n",
      "61619    541431     23166  MEDIUM CERAMIC TOP STORAGE JAR     74215   \n",
      "\n",
      "           InvoiceDate  UnitPrice  CustomerID         Country  \n",
      "61619  1/18/2011 10:01       1.04     12346.0  United Kingdom  \n"
     ]
    }
   ],
   "source": [
    "print(cust_sort)"
   ]
  },
  {
   "cell_type": "raw",
   "id": "18952c90",
   "metadata": {},
   "source": [
    "En sık hangi ülkeye gönderim yapılmıştır?"
   ]
  },
  {
   "cell_type": "code",
   "execution_count": 146,
   "id": "6bc26690",
   "metadata": {},
   "outputs": [],
   "source": [
    "country_counts = df['Country'].value_counts().head()"
   ]
  },
  {
   "cell_type": "code",
   "execution_count": 147,
   "id": "4b24e7f2",
   "metadata": {},
   "outputs": [
    {
     "name": "stdout",
     "output_type": "stream",
     "text": [
      "Country\n",
      "United Kingdom    486286\n",
      "Germany             9042\n",
      "France              8408\n",
      "EIRE                7894\n",
      "Spain               2485\n",
      "Name: count, dtype: int64\n"
     ]
    }
   ],
   "source": [
    "print(country_counts)"
   ]
  },
  {
   "cell_type": "code",
   "execution_count": 148,
   "id": "20141f00",
   "metadata": {},
   "outputs": [
    {
     "name": "stdout",
     "output_type": "stream",
     "text": [
      "Toplam Gelir: 0         1.229594e+07\n",
      "1         1.229594e+07\n",
      "2         1.639459e+07\n",
      "3         1.229594e+07\n",
      "4         1.229594e+07\n",
      "              ...     \n",
      "541904    2.459188e+07\n",
      "541905    1.229594e+07\n",
      "541906    8.197295e+06\n",
      "541907    8.197295e+06\n",
      "541908    6.147971e+06\n",
      "Name: Quantity, Length: 531285, dtype: float64\n"
     ]
    }
   ],
   "source": [
    "total_revenue = (df['Quantity'] * df['UnitPrice'].sum())\n",
    "print(f\"Toplam Gelir: {total_revenue}\")"
   ]
  },
  {
   "cell_type": "code",
   "execution_count": 149,
   "id": "eb13bcd8",
   "metadata": {},
   "outputs": [
    {
     "name": "stdout",
     "output_type": "stream",
     "text": [
      "Object `edilmiştir` not found.\n"
     ]
    }
   ],
   "source": [
    "En yüksek gelir hangi ürünle elde edilmiştir?\n"
   ]
  },
  {
   "cell_type": "code",
   "execution_count": 150,
   "id": "f53fe840",
   "metadata": {},
   "outputs": [],
   "source": [
    "df['TotalRevenue'] = df[\"Quantity\"]*df[\"UnitPrice\"]"
   ]
  },
  {
   "cell_type": "code",
   "execution_count": 151,
   "id": "ef4939e3",
   "metadata": {},
   "outputs": [],
   "source": [
    "grouped_revenue = df.groupby(\"Description\")[\"TotalRevenue\"].sum()"
   ]
  },
  {
   "cell_type": "code",
   "execution_count": 152,
   "id": "422e2662",
   "metadata": {
    "scrolled": true
   },
   "outputs": [
    {
     "name": "stdout",
     "output_type": "stream",
     "text": [
      "Description\n",
      "DOTCOM POSTAGE                         206248.77\n",
      "REGENCY CAKESTAND 3 TIER               174484.74\n",
      "PAPER CRAFT , LITTLE BIRDIE            168469.60\n",
      "WHITE HANGING HEART T-LIGHT HOLDER     106292.77\n",
      "PARTY BUNTING                           99504.33\n",
      "                                         ...    \n",
      "allocate stock for dotcom orders ta         0.00\n",
      "amazon                                      0.00\n",
      "amazon adjust                               0.00\n",
      "wrongly sold (22719) barcode                0.00\n",
      "Adjust bad debt                        -11062.06\n",
      "Name: TotalRevenue, Length: 4077, dtype: float64\n"
     ]
    }
   ],
   "source": [
    "sorted_revenue = grouped_revenue.sort_values(ascending=False)\n",
    "print(sorted_revenue)"
   ]
  },
  {
   "cell_type": "raw",
   "id": "41dbe1d2",
   "metadata": {},
   "source": [
    "En erken ve en geç sipariş tarihi nedir?"
   ]
  },
  {
   "cell_type": "code",
   "execution_count": 153,
   "id": "4e6ea4ce",
   "metadata": {},
   "outputs": [
    {
     "data": {
      "text/html": [
       "<div>\n",
       "<style scoped>\n",
       "    .dataframe tbody tr th:only-of-type {\n",
       "        vertical-align: middle;\n",
       "    }\n",
       "\n",
       "    .dataframe tbody tr th {\n",
       "        vertical-align: top;\n",
       "    }\n",
       "\n",
       "    .dataframe thead th {\n",
       "        text-align: right;\n",
       "    }\n",
       "</style>\n",
       "<table border=\"1\" class=\"dataframe\">\n",
       "  <thead>\n",
       "    <tr style=\"text-align: right;\">\n",
       "      <th></th>\n",
       "      <th>InvoiceNo</th>\n",
       "      <th>StockCode</th>\n",
       "      <th>Description</th>\n",
       "      <th>Quantity</th>\n",
       "      <th>InvoiceDate</th>\n",
       "      <th>UnitPrice</th>\n",
       "      <th>CustomerID</th>\n",
       "      <th>Country</th>\n",
       "      <th>TotalRevenue</th>\n",
       "    </tr>\n",
       "  </thead>\n",
       "  <tbody>\n",
       "    <tr>\n",
       "      <th>0</th>\n",
       "      <td>536365</td>\n",
       "      <td>85123A</td>\n",
       "      <td>WHITE HANGING HEART T-LIGHT HOLDER</td>\n",
       "      <td>6</td>\n",
       "      <td>12/1/2010 8:26</td>\n",
       "      <td>2.55</td>\n",
       "      <td>17850.0</td>\n",
       "      <td>United Kingdom</td>\n",
       "      <td>15.30</td>\n",
       "    </tr>\n",
       "    <tr>\n",
       "      <th>1</th>\n",
       "      <td>536365</td>\n",
       "      <td>71053</td>\n",
       "      <td>WHITE METAL LANTERN</td>\n",
       "      <td>6</td>\n",
       "      <td>12/1/2010 8:26</td>\n",
       "      <td>3.39</td>\n",
       "      <td>17850.0</td>\n",
       "      <td>United Kingdom</td>\n",
       "      <td>20.34</td>\n",
       "    </tr>\n",
       "    <tr>\n",
       "      <th>2</th>\n",
       "      <td>536365</td>\n",
       "      <td>84406B</td>\n",
       "      <td>CREAM CUPID HEARTS COAT HANGER</td>\n",
       "      <td>8</td>\n",
       "      <td>12/1/2010 8:26</td>\n",
       "      <td>2.75</td>\n",
       "      <td>17850.0</td>\n",
       "      <td>United Kingdom</td>\n",
       "      <td>22.00</td>\n",
       "    </tr>\n",
       "    <tr>\n",
       "      <th>3</th>\n",
       "      <td>536365</td>\n",
       "      <td>84029G</td>\n",
       "      <td>KNITTED UNION FLAG HOT WATER BOTTLE</td>\n",
       "      <td>6</td>\n",
       "      <td>12/1/2010 8:26</td>\n",
       "      <td>3.39</td>\n",
       "      <td>17850.0</td>\n",
       "      <td>United Kingdom</td>\n",
       "      <td>20.34</td>\n",
       "    </tr>\n",
       "    <tr>\n",
       "      <th>4</th>\n",
       "      <td>536365</td>\n",
       "      <td>84029E</td>\n",
       "      <td>RED WOOLLY HOTTIE WHITE HEART.</td>\n",
       "      <td>6</td>\n",
       "      <td>12/1/2010 8:26</td>\n",
       "      <td>3.39</td>\n",
       "      <td>17850.0</td>\n",
       "      <td>United Kingdom</td>\n",
       "      <td>20.34</td>\n",
       "    </tr>\n",
       "    <tr>\n",
       "      <th>...</th>\n",
       "      <td>...</td>\n",
       "      <td>...</td>\n",
       "      <td>...</td>\n",
       "      <td>...</td>\n",
       "      <td>...</td>\n",
       "      <td>...</td>\n",
       "      <td>...</td>\n",
       "      <td>...</td>\n",
       "      <td>...</td>\n",
       "    </tr>\n",
       "    <tr>\n",
       "      <th>541904</th>\n",
       "      <td>581587</td>\n",
       "      <td>22613</td>\n",
       "      <td>PACK OF 20 SPACEBOY NAPKINS</td>\n",
       "      <td>12</td>\n",
       "      <td>12/9/2011 12:50</td>\n",
       "      <td>0.85</td>\n",
       "      <td>12680.0</td>\n",
       "      <td>France</td>\n",
       "      <td>10.20</td>\n",
       "    </tr>\n",
       "    <tr>\n",
       "      <th>541905</th>\n",
       "      <td>581587</td>\n",
       "      <td>22899</td>\n",
       "      <td>CHILDREN'S APRON DOLLY GIRL</td>\n",
       "      <td>6</td>\n",
       "      <td>12/9/2011 12:50</td>\n",
       "      <td>2.10</td>\n",
       "      <td>12680.0</td>\n",
       "      <td>France</td>\n",
       "      <td>12.60</td>\n",
       "    </tr>\n",
       "    <tr>\n",
       "      <th>541906</th>\n",
       "      <td>581587</td>\n",
       "      <td>23254</td>\n",
       "      <td>CHILDRENS CUTLERY DOLLY GIRL</td>\n",
       "      <td>4</td>\n",
       "      <td>12/9/2011 12:50</td>\n",
       "      <td>4.15</td>\n",
       "      <td>12680.0</td>\n",
       "      <td>France</td>\n",
       "      <td>16.60</td>\n",
       "    </tr>\n",
       "    <tr>\n",
       "      <th>541907</th>\n",
       "      <td>581587</td>\n",
       "      <td>23255</td>\n",
       "      <td>CHILDRENS CUTLERY CIRCUS PARADE</td>\n",
       "      <td>4</td>\n",
       "      <td>12/9/2011 12:50</td>\n",
       "      <td>4.15</td>\n",
       "      <td>12680.0</td>\n",
       "      <td>France</td>\n",
       "      <td>16.60</td>\n",
       "    </tr>\n",
       "    <tr>\n",
       "      <th>541908</th>\n",
       "      <td>581587</td>\n",
       "      <td>22138</td>\n",
       "      <td>BAKING SET 9 PIECE RETROSPOT</td>\n",
       "      <td>3</td>\n",
       "      <td>12/9/2011 12:50</td>\n",
       "      <td>4.95</td>\n",
       "      <td>12680.0</td>\n",
       "      <td>France</td>\n",
       "      <td>14.85</td>\n",
       "    </tr>\n",
       "  </tbody>\n",
       "</table>\n",
       "<p>531285 rows × 9 columns</p>\n",
       "</div>"
      ],
      "text/plain": [
       "       InvoiceNo StockCode                          Description  Quantity  \\\n",
       "0         536365    85123A   WHITE HANGING HEART T-LIGHT HOLDER         6   \n",
       "1         536365     71053                  WHITE METAL LANTERN         6   \n",
       "2         536365    84406B       CREAM CUPID HEARTS COAT HANGER         8   \n",
       "3         536365    84029G  KNITTED UNION FLAG HOT WATER BOTTLE         6   \n",
       "4         536365    84029E       RED WOOLLY HOTTIE WHITE HEART.         6   \n",
       "...          ...       ...                                  ...       ...   \n",
       "541904    581587     22613          PACK OF 20 SPACEBOY NAPKINS        12   \n",
       "541905    581587     22899         CHILDREN'S APRON DOLLY GIRL          6   \n",
       "541906    581587     23254        CHILDRENS CUTLERY DOLLY GIRL          4   \n",
       "541907    581587     23255      CHILDRENS CUTLERY CIRCUS PARADE         4   \n",
       "541908    581587     22138        BAKING SET 9 PIECE RETROSPOT          3   \n",
       "\n",
       "            InvoiceDate  UnitPrice  CustomerID         Country  TotalRevenue  \n",
       "0        12/1/2010 8:26       2.55     17850.0  United Kingdom         15.30  \n",
       "1        12/1/2010 8:26       3.39     17850.0  United Kingdom         20.34  \n",
       "2        12/1/2010 8:26       2.75     17850.0  United Kingdom         22.00  \n",
       "3        12/1/2010 8:26       3.39     17850.0  United Kingdom         20.34  \n",
       "4        12/1/2010 8:26       3.39     17850.0  United Kingdom         20.34  \n",
       "...                 ...        ...         ...             ...           ...  \n",
       "541904  12/9/2011 12:50       0.85     12680.0          France         10.20  \n",
       "541905  12/9/2011 12:50       2.10     12680.0          France         12.60  \n",
       "541906  12/9/2011 12:50       4.15     12680.0          France         16.60  \n",
       "541907  12/9/2011 12:50       4.15     12680.0          France         16.60  \n",
       "541908  12/9/2011 12:50       4.95     12680.0          France         14.85  \n",
       "\n",
       "[531285 rows x 9 columns]"
      ]
     },
     "execution_count": 153,
     "metadata": {},
     "output_type": "execute_result"
    }
   ],
   "source": [
    "df"
   ]
  },
  {
   "cell_type": "code",
   "execution_count": 154,
   "id": "0e5d2cd1",
   "metadata": {},
   "outputs": [],
   "source": [
    "late_date = df.sort_values(by = 'InvoiceDate', ascending=True)"
   ]
  },
  {
   "cell_type": "code",
   "execution_count": 155,
   "id": "ec8ada5f",
   "metadata": {},
   "outputs": [
    {
     "name": "stdout",
     "output_type": "stream",
     "text": [
      "       InvoiceNo StockCode                          Description  Quantity  \\\n",
      "50829     540561    47567B               TEA TIME KITCHEN APRON         3   \n",
      "50831     540561     22743   MAKE YOUR OWN FLOWERPOWER CARD KIT         6   \n",
      "50830     540561     84581      DOG TOY WITH PINK CROCHET SKIRT         4   \n",
      "50827     540561     85059            FRENCH ENAMEL WATER BASIN        16   \n",
      "50826     540561     20712           JUMBO BAG WOODLAND ANIMALS        10   \n",
      "...          ...       ...                                  ...       ...   \n",
      "332549    566079     20838        FRENCH LATTICE CUSHION COVER         12   \n",
      "332550    566079     22400    MAGNETS PACK OF 4 HOME SWEET HOME        24   \n",
      "332551    566079     22396        MAGNETS PACK OF 4 RETRO PHOTO        24   \n",
      "332544    566079     23403        LETTER HOLDER HOME SWEET HOME         4   \n",
      "332571    566079     22923  FRIDGE MAGNETS LES ENFANTS ASSORTED        24   \n",
      "\n",
      "            InvoiceDate  UnitPrice  CustomerID         Country  TotalRevenue  \n",
      "50829   1/10/2011 10:32       5.95     13004.0  United Kingdom         17.85  \n",
      "50831   1/10/2011 10:32       2.95     13004.0  United Kingdom         17.70  \n",
      "50830   1/10/2011 10:32       3.75     13004.0  United Kingdom         15.00  \n",
      "50827   1/10/2011 10:32       1.25     13004.0  United Kingdom         20.00  \n",
      "50826   1/10/2011 10:32       1.95     13004.0  United Kingdom         19.50  \n",
      "...                 ...        ...         ...             ...           ...  \n",
      "332549    9/9/2011 9:52       0.85     17593.0  United Kingdom         10.20  \n",
      "332550    9/9/2011 9:52       0.39     17593.0  United Kingdom          9.36  \n",
      "332551    9/9/2011 9:52       0.39     17593.0  United Kingdom          9.36  \n",
      "332544    9/9/2011 9:52       3.75     17593.0  United Kingdom         15.00  \n",
      "332571    9/9/2011 9:52       0.85     17593.0  United Kingdom         20.40  \n",
      "\n",
      "[531285 rows x 9 columns]\n"
     ]
    }
   ],
   "source": [
    "print(late_date)"
   ]
  },
  {
   "cell_type": "code",
   "execution_count": 156,
   "id": "10e21262",
   "metadata": {},
   "outputs": [
    {
     "data": {
      "text/html": [
       "<div>\n",
       "<style scoped>\n",
       "    .dataframe tbody tr th:only-of-type {\n",
       "        vertical-align: middle;\n",
       "    }\n",
       "\n",
       "    .dataframe tbody tr th {\n",
       "        vertical-align: top;\n",
       "    }\n",
       "\n",
       "    .dataframe thead th {\n",
       "        text-align: right;\n",
       "    }\n",
       "</style>\n",
       "<table border=\"1\" class=\"dataframe\">\n",
       "  <thead>\n",
       "    <tr style=\"text-align: right;\">\n",
       "      <th></th>\n",
       "      <th>InvoiceNo</th>\n",
       "      <th>StockCode</th>\n",
       "      <th>Description</th>\n",
       "      <th>Quantity</th>\n",
       "      <th>InvoiceDate</th>\n",
       "      <th>UnitPrice</th>\n",
       "      <th>CustomerID</th>\n",
       "      <th>Country</th>\n",
       "      <th>TotalRevenue</th>\n",
       "    </tr>\n",
       "  </thead>\n",
       "  <tbody>\n",
       "    <tr>\n",
       "      <th>50829</th>\n",
       "      <td>540561</td>\n",
       "      <td>47567B</td>\n",
       "      <td>TEA TIME KITCHEN APRON</td>\n",
       "      <td>3</td>\n",
       "      <td>1/10/2011 10:32</td>\n",
       "      <td>5.95</td>\n",
       "      <td>13004.0</td>\n",
       "      <td>United Kingdom</td>\n",
       "      <td>17.85</td>\n",
       "    </tr>\n",
       "  </tbody>\n",
       "</table>\n",
       "</div>"
      ],
      "text/plain": [
       "      InvoiceNo StockCode             Description  Quantity      InvoiceDate  \\\n",
       "50829    540561    47567B  TEA TIME KITCHEN APRON         3  1/10/2011 10:32   \n",
       "\n",
       "       UnitPrice  CustomerID         Country  TotalRevenue  \n",
       "50829       5.95     13004.0  United Kingdom         17.85  "
      ]
     },
     "execution_count": 156,
     "metadata": {},
     "output_type": "execute_result"
    }
   ],
   "source": [
    "late_date.head(1)"
   ]
  },
  {
   "cell_type": "code",
   "execution_count": 158,
   "id": "cd430a1d",
   "metadata": {},
   "outputs": [],
   "source": [
    "early_date = df.sort_values(by = 'InvoiceDate', ascending=False).head(1)"
   ]
  },
  {
   "cell_type": "code",
   "execution_count": 160,
   "id": "fc912124",
   "metadata": {},
   "outputs": [
    {
     "data": {
      "text/html": [
       "<div>\n",
       "<style scoped>\n",
       "    .dataframe tbody tr th:only-of-type {\n",
       "        vertical-align: middle;\n",
       "    }\n",
       "\n",
       "    .dataframe tbody tr th {\n",
       "        vertical-align: top;\n",
       "    }\n",
       "\n",
       "    .dataframe thead th {\n",
       "        text-align: right;\n",
       "    }\n",
       "</style>\n",
       "<table border=\"1\" class=\"dataframe\">\n",
       "  <thead>\n",
       "    <tr style=\"text-align: right;\">\n",
       "      <th></th>\n",
       "      <th>InvoiceNo</th>\n",
       "      <th>StockCode</th>\n",
       "      <th>Description</th>\n",
       "      <th>Quantity</th>\n",
       "      <th>InvoiceDate</th>\n",
       "      <th>UnitPrice</th>\n",
       "      <th>CustomerID</th>\n",
       "      <th>Country</th>\n",
       "      <th>TotalRevenue</th>\n",
       "    </tr>\n",
       "  </thead>\n",
       "  <tbody>\n",
       "    <tr>\n",
       "      <th>332571</th>\n",
       "      <td>566079</td>\n",
       "      <td>22923</td>\n",
       "      <td>FRIDGE MAGNETS LES ENFANTS ASSORTED</td>\n",
       "      <td>24</td>\n",
       "      <td>9/9/2011 9:52</td>\n",
       "      <td>0.85</td>\n",
       "      <td>17593.0</td>\n",
       "      <td>United Kingdom</td>\n",
       "      <td>20.4</td>\n",
       "    </tr>\n",
       "  </tbody>\n",
       "</table>\n",
       "</div>"
      ],
      "text/plain": [
       "       InvoiceNo StockCode                          Description  Quantity  \\\n",
       "332571    566079     22923  FRIDGE MAGNETS LES ENFANTS ASSORTED        24   \n",
       "\n",
       "          InvoiceDate  UnitPrice  CustomerID         Country  TotalRevenue  \n",
       "332571  9/9/2011 9:52       0.85     17593.0  United Kingdom          20.4  "
      ]
     },
     "execution_count": 160,
     "metadata": {},
     "output_type": "execute_result"
    }
   ],
   "source": [
    "early_date"
   ]
  },
  {
   "cell_type": "raw",
   "id": "b32230ea",
   "metadata": {},
   "source": [
    "Aynı faturada (InvoiceNo) toplam kaç farklı ürün sipariş edilmiştir?"
   ]
  },
  {
   "cell_type": "code",
   "execution_count": 182,
   "id": "aa5d9d04",
   "metadata": {},
   "outputs": [],
   "source": [
    "unique_products_per_invoice = df.groupby('InvoiceNo')['StockCode'].nunique().idxmax()"
   ]
  },
  {
   "cell_type": "code",
   "execution_count": 183,
   "id": "461d0d0c",
   "metadata": {},
   "outputs": [
    {
     "name": "stdout",
     "output_type": "stream",
     "text": [
      "Her faturada sipariş edilen toplam benzersiz ürün sayısı:\n",
      "573585\n"
     ]
    }
   ],
   "source": [
    "print(\"Her faturada sipariş edilen toplam benzersiz ürün sayısı:\")\n",
    "print(unique_products_per_invoice)"
   ]
  },
  {
   "cell_type": "raw",
   "id": "5cb2e258",
   "metadata": {},
   "source": [
    "Soru: En çok sipariş edilen 5 ürün hangileridir? Görselleştir"
   ]
  },
  {
   "cell_type": "code",
   "execution_count": 200,
   "id": "7900cbf1",
   "metadata": {},
   "outputs": [],
   "source": [
    "desc_group = df.groupby('Description')['Quantity'].sum().sort_values(ascending=False).head(5)"
   ]
  },
  {
   "cell_type": "code",
   "execution_count": 201,
   "id": "7e21df3b",
   "metadata": {
    "scrolled": true
   },
   "outputs": [
    {
     "data": {
      "text/plain": [
       "Description\n",
       "PAPER CRAFT , LITTLE BIRDIE           80995\n",
       "MEDIUM CERAMIC TOP STORAGE JAR        78033\n",
       "WORLD WAR 2 GLIDERS ASSTD DESIGNS     55047\n",
       "JUMBO BAG RED RETROSPOT               48478\n",
       "WHITE HANGING HEART T-LIGHT HOLDER    37895\n",
       "Name: Quantity, dtype: int64"
      ]
     },
     "execution_count": 201,
     "metadata": {},
     "output_type": "execute_result"
    }
   ],
   "source": [
    "desc_group"
   ]
  },
  {
   "cell_type": "code",
   "execution_count": 206,
   "id": "8765efae",
   "metadata": {},
   "outputs": [],
   "source": [
    "colors = ['skyblue', 'orange', 'lightgreen', 'red'] "
   ]
  },
  {
   "cell_type": "code",
   "execution_count": 210,
   "id": "9304633c",
   "metadata": {},
   "outputs": [
    {
     "data": {
      "text/plain": [
       "<Axes: ylabel='Description'>"
      ]
     },
     "execution_count": 210,
     "metadata": {},
     "output_type": "execute_result"
    },
    {
     "data": {
      "image/png": "[encoded data removed]",
      "text/plain": [
       "<Figure size 1000x600 with 1 Axes>"
      ]
     },
     "metadata": {},
     "output_type": "display_data"
    }
   ],
   "source": [
    "desc_group.plot(x='Description', y= 'Quantity', kind='barh',figsize=(10, 6), color=colors, legend=False)"
   ]
  },
  {
   "cell_type": "raw",
   "id": "476ec9f9",
   "metadata": {},
   "source": [
    "Hangi ürünler hem yüksek satış adetlerine hem de yüksek gelire sahiptir?"
   ]
  },
  {
   "cell_type": "code",
   "execution_count": 212,
   "id": "0fc4f867",
   "metadata": {},
   "outputs": [
    {
     "data": {
      "image/png": "[encoded data removed]",
      "text/plain": [
       "<Figure size 800x500 with 1 Axes>"
      ]
     },
     "metadata": {},
     "output_type": "display_data"
    }
   ],
   "source": [
    "plt.figure(figsize=(8,5))\n",
    "plt.scatter(df['Quantity'], df['TotalRevenue'], color= 'blue', alpha=0.7)\n",
    "plt.show()"
   ]
  },
  {
   "cell_type": "code",
   "execution_count": null,
   "id": "94a09ddc",
   "metadata": {},
   "outputs": [],
   "source": [
    "Soru: Hangi ürünler en fazla geliri getirmiştir?\n"
   ]
  },
  {
   "cell_type": "code",
   "execution_count": 216,
   "id": "d4966a04",
   "metadata": {},
   "outputs": [
    {
     "data": {
      "text/plain": [
       "Description\n",
       "DOTCOM POSTAGE                        206248.77\n",
       "REGENCY CAKESTAND 3 TIER              174484.74\n",
       "PAPER CRAFT , LITTLE BIRDIE           168469.60\n",
       "WHITE HANGING HEART T-LIGHT HOLDER    106292.77\n",
       "PARTY BUNTING                          99504.33\n",
       "Name: TotalRevenue, dtype: float64"
      ]
     },
     "execution_count": 216,
     "metadata": {},
     "output_type": "execute_result"
    }
   ],
   "source": [
    "desc_total = df.groupby('Description')['TotalRevenue'].sum().sort_values(ascending=False).head(5)\n",
    "\n",
    "desc_total"
   ]
  },
  {
   "cell_type": "code",
   "execution_count": 221,
   "id": "da9a2453",
   "metadata": {},
   "outputs": [
    {
     "data": {
      "text/plain": [
       "<Axes: ylabel='Description'>"
      ]
     },
     "execution_count": 221,
     "metadata": {},
     "output_type": "execute_result"
    },
    {
     "data": {
      "image/png": "[encoded data removed]",
      "text/plain": [
       "<Figure size 640x480 with 1 Axes>"
      ]
     },
     "metadata": {},
     "output_type": "display_data"
    }
   ],
   "source": [
    "desc_total.plot(x='Description', kind = 'barh', color=colors)"
   ]
  }
 ],
 "metadata": {
  "kernelspec": {
   "display_name": "Python 3 (ipykernel)",
   "language": "python",
   "name": "python3"
  },
  "language_info": {
   "codemirror_mode": {
    "name": "ipython",
    "version": 3
   },
   "file_extension": ".py",
   "mimetype": "text/x-python",
   "name": "python",
   "nbconvert_exporter": "python",
   "pygments_lexer": "ipython3",
   "version": "3.9.7"
  }
 },
 "nbformat": 4,
 "nbformat_minor": 5
}
