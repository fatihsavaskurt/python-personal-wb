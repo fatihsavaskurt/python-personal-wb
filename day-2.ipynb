{
 "cells": [
  {
   "cell_type": "code",.
   "execution_count": 13,
   "id": "49f048f2",
   "metadata": {},
   "outputs": [
    {
     "name": "stdout",
     "output_type": "stream",
     "text": [
      "1.75\n"
     ]
    }
   ],
   "source": [
    "boy = 1.75\n",
    "print(boy)"
   ]
  },
  {
   "cell_type": "code",
   "execution_count": 9,
   "id": "1de50d44",
   "metadata": {},
   "outputs": [
    {
     "name": "stdout",
     "output_type": "stream",
     "text": [
      "87\n"
     ]
    }
   ],
   "source": [
    "kilo = 87\n",
    "print(kilo)"
   ]
  },
  {
   "cell_type": "code",
   "execution_count": 18,
   "id": "ef249f52",
   "metadata": {},
   "outputs": [
    {
     "name": "stdout",
     "output_type": "stream",
     "text": [
      "28.408163265306122\n"
     ]
    }
   ],
   "source": [
    "bke = kilo/boy ** 2 \n",
    "print(bke)"
   ]
  },
  {
   "cell_type": "code",
   "execution_count": 20,
   "id": "2d7af682",
   "metadata": {},
   "outputs": [
    {
     "data": {
      "text/plain": [
       "float"
      ]
     },
     "execution_count": 20,
     "metadata": {},
     "output_type": "execute_result"
    }
   ],
   "source": [
    "type(boy)"
   ]
  },
  {
   "cell_type": "code",
   "execution_count": 22,
   "id": "9ae3cc34",
   "metadata": {},
   "outputs": [
    {
     "data": {
      "text/plain": [
       "int"
      ]
     },
     "execution_count": 22,
     "metadata": {},
     "output_type": "execute_result"
    }
   ],
   "source": [
    "type(kilo)"
   ]
  },
  {
   "cell_type": "code",
   "execution_count": 1,
   "id": "3cd5a72f",
   "metadata": {
    "scrolled": true
   },
   "outputs": [
    {
     "data": {
      "text/plain": [
       "\"\\nPython'da her bir inputun bir type bulunuyor. Örneğin boy float iken, kilo\\nint typeına sahip. type() formülü ile kontrol ediyoruz.\\n\""
      ]
     },
     "execution_count": 1,
     "metadata": {},
     "output_type": "execute_result"
    }
   ],
   "source": [
    "'''\n",
    "Python'da her bir inputun bir type bulunuyor. Örneğin boy float iken, kilo\n",
    "int typeına sahip. type() formülü ile kontrol ediyoruz.\n",
    "'''"
   ]
  },
  {
   "cell_type": "code",
   "execution_count": 2,
   "id": "da55dcc9",
   "metadata": {},
   "outputs": [
    {
     "name": "stdout",
     "output_type": "stream",
     "text": [
      "40\n"
     ]
    }
   ],
   "source": [
    "# Create the variables monthly_savings and num_months\n",
    "monthly_savings = 10\n",
    "num_months = 4\n",
    "# Multiply monthly_savings and num_months\n",
    "new_savings = monthly_savings * num_months\n",
    "\n",
    "# Print new_savings\n",
    "print(new_savings)"
   ]
  },
  {
   "cell_type": "code",
   "execution_count": 3,
   "id": "c12737c1",
   "metadata": {},
   "outputs": [],
   "source": [
    "# Create a variable half\n",
    "half = 0.5\n",
    "\n",
    "# Create a variable intro\n",
    "\n",
    "intro = 'Hello! How are you?'\n",
    "\n",
    "# Create a variable is_good\n",
    "is_good = (10==10)"
   ]
  },
  {
   "cell_type": "code",
   "execution_count": 12,
   "id": "2b9ead1d",
   "metadata": {
    "scrolled": false
   },
   "outputs": [
    {
     "name": "stdout",
     "output_type": "stream",
     "text": [
      "Hello! How are you?Hello! How are you?\n"
     ]
    }
   ],
   "source": [
    "intro = \"Hello! How are you?\"\n",
    "\n",
    "# Assign sum of intro and intro to doubleintro\n",
    "\n",
    "doubleintro = intro + intro\n",
    "\n",
    "# Print out doubleintro\n",
    "print(doubleintro)"
   ]
  },
  {
   "cell_type": "code",
   "execution_count": null,
   "id": "58c21347",
   "metadata": {},
   "outputs": [],
   "source": [
    "#Types\n",
    "--Float: real numbers\n",
    "--Int: integer numbers\n",
    "--Str: String, text\n",
    "--Bool: True, False"
   ]
  },
  {
   "cell_type": "code",
   "execution_count": null,
   "id": "887c510c",
   "metadata": {},
   "outputs": [],
   "source": [
    "#List\n",
    "\n",
    "--Birden çok veri kümesi olduğunda listeleme yönetimini kullanabiliyoruz.\n",
    "Örneğin birden fazla kilo değeri elimizde olsun; bunu her kilo için ayrı bir\n",
    "değişken atamak yerine, tek bir listeye gömebiliriz."
   ]
  },
  {
   "cell_type": "code",
   "execution_count": 18,
   "id": "4a625b02",
   "metadata": {},
   "outputs": [
    {
     "name": "stdout",
     "output_type": "stream",
     "text": [
      "['Liz', 1.73, 'emma', 1.68, 'mom', 1.71, 'dad', 1.89]\n"
     ]
    }
   ],
   "source": [
    "fam = [\"Liz\", 1.73, \"emma\", 1.68, \"mom\", 1.71, \"dad\", 1.89]\n",
    "print(fam)"
   ]
  },
  {
   "cell_type": "code",
   "execution_count": 20,
   "id": "3730cd17",
   "metadata": {},
   "outputs": [
    {
     "name": "stdout",
     "output_type": "stream",
     "text": [
      "[['Liz', 1.73], ['Emma', 1.68], ['Mom', 1.71], ['Dad', 1.89]]\n"
     ]
    }
   ],
   "source": [
    "fam2 = [[\"Liz\", 1.73],\n",
    "      [\"Emma\", 1.68],\n",
    "      [\"Mom\", 1.71],\n",
    "      [\"Dad\", 1.89]]\n",
    "print(fam2)\n"
   ]
  },
  {
   "cell_type": "code",
   "execution_count": null,
   "id": "e7502ada",
   "metadata": {},
   "outputs": [],
   "source": [
    "hall = 11.25\n",
    "kit = 18.0\n",
    "liv = 20.0\n",
    "bed = 10.75\n",
    "bath = 9.50\n",
    "\n",
    "# Create list areas\n",
    "\n",
    "areas = [hall, kit, liv, bed, bath]\n",
    "\n",
    "# Print areas\n",
    "print(areas)"
   ]
  },
  {
   "cell_type": "code",
   "execution_count": null,
   "id": "faa6adb9",
   "metadata": {},
   "outputs": [],
   "source": [
    "hall = 11.25\n",
    "kit = 18.0\n",
    "liv = 20.0\n",
    "bed = 10.75\n",
    "bath = 9.50\n",
    "\n",
    "# Adapt list areas\n",
    "areas = [\"hallway\", hall, \"kitchen\", kit, \"living room\", liv, \"bedroom\", bed, \"bathroom\", bath]\n",
    "\n",
    "# Print areas\n",
    "print(areas)"
   ]
  },
  {
   "cell_type": "code",
   "execution_count": null,
   "id": "18a2356c",
   "metadata": {},
   "outputs": [],
   "source": [
    "hall = 11.25\n",
    "kit = 18.0\n",
    "liv = 20.0\n",
    "bed = 10.75\n",
    "bath = 9.50\n",
    "\n",
    "# House information as list of lists\n",
    "house = [[\"hallway\", hall],\n",
    "         [\"kitchen\", kit],\n",
    "         [\"living room\", liv],\n",
    "         [\"bedroom\", bed],\n",
    "         [\"bathroom\", bath]]\n",
    "# Print out house\n",
    "\n",
    "print(house)"
   ]
  },
  {
   "cell_type": "code",
   "execution_count": null,
   "id": "74cd0c04",
   "metadata": {},
   "outputs": [],
   "source": [
    "#Listedeki bilgilere erişim\n",
    "--Python bunun için indexleri kullanıyor, sıfırdan başlıyor. Listenin sonu\n",
    "için - şeklinde belirtebiliyoruz."
   ]
  },
  {
   "cell_type": "code",
   "execution_count": 22,
   "id": "723c3034",
   "metadata": {},
   "outputs": [
    {
     "data": {
      "text/plain": [
       "['Dad', 1.89]"
      ]
     },
     "execution_count": 22,
     "metadata": {},
     "output_type": "execute_result"
    }
   ],
   "source": [
    "fam[-1]"
   ]
  },
  {
   "cell_type": "code",
   "execution_count": 25,
   "id": "a24d0bb2",
   "metadata": {},
   "outputs": [
    {
     "data": {
      "text/plain": [
       "['Dad', 1.89]"
      ]
     },
     "execution_count": 25,
     "metadata": {},
     "output_type": "execute_result"
    }
   ],
   "source": [
    "fam[3]"
   ]
  },
  {
   "cell_type": "code",
   "execution_count": 26,
   "id": "fe2a43c4",
   "metadata": {},
   "outputs": [
    {
     "data": {
      "text/plain": [
       "['Liz', 1.73]"
      ]
     },
     "execution_count": 26,
     "metadata": {},
     "output_type": "execute_result"
    }
   ],
   "source": [
    "fam[0]"
   ]
  },
  {
   "cell_type": "code",
   "execution_count": null,
   "id": "fbf7ddfa",
   "metadata": {},
   "outputs": [],
   "source": [
    "#List slicing\n",
    "--Pythonda listelerden liste oluşturma şeklinde kullanılabilir, veya listenin\n",
    "farklı yerlerinde bulunan iki değeri döndürmek için kullanabiliriz.\n",
    "-- Örnek yazım: [start : end] --> Start değeri dahil ediliyor, end değeri\n",
    "    dahil edilmiyor. Alttaki örnekte 2:5 verildi, listenin 5. değeri dahil edilmedi.\n",
    "        "
   ]
  },
  {
   "cell_type": "code",
   "execution_count": 42,
   "id": "974842d6",
   "metadata": {},
   "outputs": [
    {
     "name": "stdout",
     "output_type": "stream",
     "text": [
      "['Tuğçe', 'Tekirdağ', 'Tito', 'Çukurbostan', 'Fatih', 'Makedonya']\n"
     ]
    }
   ],
   "source": [
    "aile = [\"Tuğçe\", \"Tekirdağ\", \"Tito\", \"Çukurbostan\", \"Fatih\", \"Makedonya\"]\n",
    "print(aile)"
   ]
  },
  {
   "cell_type": "code",
   "execution_count": 45,
   "id": "98148511",
   "metadata": {},
   "outputs": [
    {
     "data": {
      "text/plain": [
       "['Tito', 'Çukurbostan', 'Fatih', 'Makedonya']"
      ]
     },
     "execution_count": 45,
     "metadata": {},
     "output_type": "execute_result"
    }
   ],
   "source": [
    "aile[2:6]"
   ]
  },
  {
   "cell_type": "code",
   "execution_count": 49,
   "id": "4f04af6d",
   "metadata": {},
   "outputs": [
    {
     "data": {
      "text/plain": [
       "['Fatih', 'Makedonya']"
      ]
     },
     "execution_count": 49,
     "metadata": {},
     "output_type": "execute_result"
    }
   ],
   "source": [
    "aile[4:]"
   ]
  },
  {
   "cell_type": "code",
   "execution_count": 48,
   "id": "6f8338eb",
   "metadata": {},
   "outputs": [
    {
     "data": {
      "text/plain": [
       "['Tuğçe', 'Tekirdağ', 'Tito', 'Çukurbostan', 'Fatih']"
      ]
     },
     "execution_count": 48,
     "metadata": {},
     "output_type": "execute_result"
    }
   ],
   "source": [
    "aile[:5]"
   ]
  },
  {
   "cell_type": "code",
   "execution_count": null,
   "id": "30497342",
   "metadata": {},
   "outputs": [],
   "source": [
    "# Create the areas list\n",
    "areas = [\"hallway\", 11.25, \"kitchen\", 18.0, \"living room\", 20.0, \"bedroom\", 10.75, \"bathroom\", 9.50]\n",
    "\n",
    "# Print out second element from areas\n",
    "print(areas[1])\n",
    "\n",
    "# Print out last element from areas\n",
    "print(areas[-1])\n",
    "\n",
    "# Print out the area of the living room\n",
    "print(areas[4:6])"
   ]
  },
  {
   "cell_type": "code",
   "execution_count": null,
   "id": "b9b2a808",
   "metadata": {},
   "outputs": [],
   "source": [
    "# Create the areas list\n",
    "areas = [\"hallway\", 11.25, \"kitchen\", 18.0, \"living room\", 20.0, \"bedroom\", 10.75, \"bathroom\", 9.50]\n",
    "\n",
    "# Use slicing to create downstairs\n",
    "downstairs = areas[0:6]\n",
    "\n",
    "# Use slicing to create upstairs\n",
    "upstairs = areas[6:]\n",
    "\n",
    "# Print out downstairs and upstairs\n",
    "print(downstairs)\n",
    "print(upstairs)"
   ]
  },
  {
   "cell_type": "code",
   "execution_count": 51,
   "id": "a335d0f3",
   "metadata": {},
   "outputs": [
    {
     "name": "stdout",
     "output_type": "stream",
     "text": [
      "[['Liz', 1.73], ['Emma', 1.68], ['Mom', 1.71], ['Dad', 1.89]]\n"
     ]
    }
   ],
   "source": [
    "print(fam)"
   ]
  },
  {
   "cell_type": "code",
   "execution_count": 54,
   "id": "664a60dc",
   "metadata": {},
   "outputs": [
    {
     "data": {
      "text/plain": [
       "1.89"
      ]
     },
     "execution_count": 54,
     "metadata": {},
     "output_type": "execute_result"
    }
   ],
   "source": [
    "fam[-1][1]"
   ]
  },
  {
   "cell_type": "code",
   "execution_count": 55,
   "id": "307b7462",
   "metadata": {},
   "outputs": [
    {
     "data": {
      "text/plain": [
       "9.5"
      ]
     },
     "execution_count": 55,
     "metadata": {},
     "output_type": "execute_result"
    }
   ],
   "source": [
    "house = [[\"hallway\", 11.25],\n",
    "         [\"kitchen\", 18.0],\n",
    "         [\"living room\", 20.0],\n",
    "         [\"bedroom\", 10.75],\n",
    "         [\"bathroom\", 9.50]]\n",
    "\n",
    "# Subset the house list\n",
    "house[-1][1]"
   ]
  },
  {
   "cell_type": "code",
   "execution_count": null,
   "id": "f113cc06",
   "metadata": {},
   "outputs": [],
   "source": [
    "#Changing List Elements\n",
    "--Listedeki bir elemanı, değiştirmek, eklemek, çıkartmak için kullanılan fonksiyonlardır.\n"
   ]
  },
  {
   "cell_type": "code",
   "execution_count": 56,
   "id": "ddcf483c",
   "metadata": {},
   "outputs": [
    {
     "name": "stdout",
     "output_type": "stream",
     "text": [
      "[['Liz', 1.73], ['Emma', 1.68], ['Mom', 1.71], ['Dad', 1.89]]\n"
     ]
    }
   ],
   "source": [
    "print(fam)"
   ]
  },
  {
   "cell_type": "code",
   "execution_count": 59,
   "id": "4ed66cdc",
   "metadata": {},
   "outputs": [],
   "source": [
    "fam[0] = ['Tito', 15.4]"
   ]
  },
  {
   "cell_type": "code",
   "execution_count": 60,
   "id": "ad96e1ee",
   "metadata": {},
   "outputs": [
    {
     "data": {
      "text/plain": [
       "[['Tito', 15.4], ['Emma', 1.68], ['Mom', 1.71], ['Dad', 1.89]]"
      ]
     },
     "execution_count": 60,
     "metadata": {},
     "output_type": "execute_result"
    }
   ],
   "source": [
    "fam"
   ]
  },
  {
   "cell_type": "code",
   "execution_count": 61,
   "id": "4e8db0c4",
   "metadata": {},
   "outputs": [
    {
     "data": {
      "text/plain": [
       "[['Tito', 15.4], ['Emma', 1.68], ['Mom', 1.71], ['Dad', 1.89], 'Toto', 20.5]"
      ]
     },
     "execution_count": 61,
     "metadata": {},
     "output_type": "execute_result"
    }
   ],
   "source": [
    "fam + [\"Toto\", 20.5]"
   ]
  },
  {
   "cell_type": "code",
   "execution_count": 62,
   "id": "c9fb1ad3",
   "metadata": {
    "scrolled": true
   },
   "outputs": [
    {
     "data": {
      "text/plain": [
       "[['Tito', 15.4], ['Emma', 1.68], ['Mom', 1.71], ['Dad', 1.89]]"
      ]
     },
     "execution_count": 62,
     "metadata": {},
     "output_type": "execute_result"
    }
   ],
   "source": [
    "fam"
   ]
  },
  {
   "cell_type": "code",
   "execution_count": 64,
   "id": "18dee824",
   "metadata": {},
   "outputs": [],
   "source": [
    "fam_ext = fam + [\"Toto\", 20.5]"
   ]
  },
  {
   "cell_type": "code",
   "execution_count": 65,
   "id": "98de6d94",
   "metadata": {},
   "outputs": [
    {
     "data": {
      "text/plain": [
       "[['Tito', 15.4], ['Emma', 1.68], ['Mom', 1.71], ['Dad', 1.89]]"
      ]
     },
     "execution_count": 65,
     "metadata": {},
     "output_type": "execute_result"
    }
   ],
   "source": [
    "fam"
   ]
  },
  {
   "cell_type": "code",
   "execution_count": 66,
   "id": "daa6a7e7",
   "metadata": {},
   "outputs": [
    {
     "data": {
      "text/plain": [
       "[['Tito', 15.4], ['Emma', 1.68], ['Mom', 1.71], ['Dad', 1.89], 'Toto', 20.5]"
      ]
     },
     "execution_count": 66,
     "metadata": {},
     "output_type": "execute_result"
    }
   ],
   "source": [
    "fam_ext"
   ]
  },
  {
   "cell_type": "code",
   "execution_count": 67,
   "id": "5f0db762",
   "metadata": {},
   "outputs": [],
   "source": [
    "del fam_ext[-1]"
   ]
  },
  {
   "cell_type": "code",
   "execution_count": 68,
   "id": "4a3f510a",
   "metadata": {},
   "outputs": [
    {
     "data": {
      "text/plain": [
       "[['Tito', 15.4], ['Emma', 1.68], ['Mom', 1.71], ['Dad', 1.89], 'Toto']"
      ]
     },
     "execution_count": 68,
     "metadata": {},
     "output_type": "execute_result"
    }
   ],
   "source": [
    "fam_ext"
   ]
  },
  {
   "cell_type": "code",
   "execution_count": null,
   "id": "26eae58e",
   "metadata": {},
   "outputs": [],
   "source": [
    "# Create the areas list\n",
    "areas = [\"hallway\", 11.25, \"kitchen\", 18.0, \"living room\", 20.0, \"bedroom\", 10.75, \"bathroom\", 9.50]\n",
    "\n",
    "# Correct the bathroom area\n",
    "\n",
    "areas[-1] = 10.50\n",
    "\n",
    "# Change \"living room\" to \"chill zone\"\n",
    "\n",
    "areas[4] = 'chill zone'\n",
    "\n",
    "print(areas)"
   ]
  },
  {
   "cell_type": "code",
   "execution_count": null,
   "id": "10a86447",
   "metadata": {},
   "outputs": [],
   "source": [
    "# Create the areas list and make some changes\n",
    "areas = [\"hallway\", 11.25, \"kitchen\", 18.0, \"chill zone\", 20.0,\n",
    "         \"bedroom\", 10.75, \"bathroom\", 10.50]\n",
    "\n",
    "# Add poolhouse data to areas, new list is areas_1\n",
    "areas_1 = areas + [\"poolhouse\", 24.5]\n",
    "\n",
    "# Add garage data to areas_1, new list is areas_2\n",
    "areas_2 = areas_1 + [\"garage\", 15.45]"
   ]
  },
  {
   "cell_type": "code",
   "execution_count": null,
   "id": "6acb62da",
   "metadata": {},
   "outputs": [],
   "source": [
    "areas = [\"hallway\", 11.25, \"kitchen\", 18.0,\n",
    "        \"chill zone\", 20.0, \"bedroom\", 10.75,\n",
    "         \"bathroom\", 10.50, \"poolhouse\", 24.5,\n",
    "         \"garage\", 15.45]\n",
    "\n",
    "# Delete the poolhouse items from the list\n",
    "del areas[10:12]\n",
    "\n",
    "# Print the updated list\n",
    "print(areas)"
   ]
  },
  {
   "cell_type": "code",
   "execution_count": null,
   "id": "3f6152de",
   "metadata": {},
   "outputs": [],
   "source": [
    "#Fonksiyonlar"
   ]
  },
  {
   "cell_type": "code",
   "execution_count": 77,
   "id": "ffa14fb9",
   "metadata": {},
   "outputs": [
    {
     "name": "stdout",
     "output_type": "stream",
     "text": [
      "[1, 5, 3, 2, 100, 244, 1243, 150, 1500]\n"
     ]
    }
   ],
   "source": [
    "a = [1,5,3,2,100,244,1243,150,1500]\n",
    "print(a)"
   ]
  },
  {
   "cell_type": "code",
   "execution_count": 78,
   "id": "cb217142",
   "metadata": {},
   "outputs": [
    {
     "data": {
      "text/plain": [
       "1500"
      ]
     },
     "execution_count": 78,
     "metadata": {},
     "output_type": "execute_result"
    }
   ],
   "source": [
    "max(a)"
   ]
  },
  {
   "cell_type": "code",
   "execution_count": null,
   "id": "9b251e26",
   "metadata": {},
   "outputs": [],
   "source": [
    "# Create variables var1 and var2\n",
    "var1 = [1, 2, 3, 4]\n",
    "var2 = True\n",
    "\n",
    "# Print out type of var1\n",
    "print(type(var1))\n",
    "\n",
    "# Print out length of var1\n",
    "print(len(var1))\n",
    "\n",
    "# Convert var2 to an integer: out2\n",
    "out2 = int(var2)"
   ]
  },
  {
   "cell_type": "code",
   "execution_count": 79,
   "id": "5f663cd9",
   "metadata": {},
   "outputs": [],
   "source": [
    "a = [4,3,2,1]"
   ]
  },
  {
   "cell_type": "code",
   "execution_count": 82,
   "id": "6fdfe408",
   "metadata": {},
   "outputs": [
    {
     "data": {
      "text/plain": [
       "4"
      ]
     },
     "execution_count": 82,
     "metadata": {},
     "output_type": "execute_result"
    }
   ],
   "source": [
    "len(a)"
   ]
  },
  {
   "cell_type": "code",
   "execution_count": 83,
   "id": "e3e28132",
   "metadata": {
    "scrolled": true
   },
   "outputs": [
    {
     "name": "stdout",
     "output_type": "stream",
     "text": [
      "Help on built-in function sorted in module builtins:\n",
      "\n",
      "sorted(iterable, /, *, key=None, reverse=False)\n",
      "    Return a new list containing all items from the iterable in ascending order.\n",
      "    \n",
      "    A custom key function can be supplied to customize the sort order, and the\n",
      "    reverse flag can be set to request the result in descending order.\n",
      "\n"
     ]
    }
   ],
   "source": [
    "help(sorted)"
   ]
  },
  {
   "cell_type": "code",
   "execution_count": null,
   "id": "42ed39fb",
   "metadata": {},
   "outputs": [],
   "source": [
    "# Create lists first and second\n",
    "first = [11.25, 18.0, 20.0]\n",
    "second = [10.75, 9.50]\n",
    "\n",
    "# Paste together first and second: full\n",
    "full = first + second\n",
    "\n",
    "# Sort full in descending order: full_sorted\n",
    "full_sorted = sorted(full, reverse = True)\n",
    "\n",
    "# Print out full_sorted\n",
    "print(full_sorted)"
   ]
  },
  {
   "cell_type": "code",
   "execution_count": null,
   "id": "40f46b20",
   "metadata": {},
   "outputs": [],
   "source": []
  }
 ],
 "metadata": {
  "kernelspec": {
   "display_name": "Python 3 (ipykernel)",
   "language": "python",
   "name": "python3"
  },
  "language_info": {
   "codemirror_mode": {
    "name": "ipython",
    "version": 3
   },
   "file_extension": ".py",
   "mimetype": "text/x-python",
   "name": "python",
   "nbconvert_exporter": "python",
   "pygments_lexer": "ipython3",
   "version": "3.9.7"
  }
 },
 "nbformat": 4,
 "nbformat_minor": 5
}
