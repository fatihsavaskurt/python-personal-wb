{
 "cells": [
  {
   "cell_type": "markdown",
   "id": "a041ab52",
   "metadata": {},
   "source": [
    "<h1>Numpy WB</h1>"
   ]
  },
  {
   "cell_type": "code",
   "execution_count": 4,
   "id": "5d6c7931",
   "metadata": {},
   "outputs": [],
   "source": [
    "import numpy as np # --> Numpy import ettik "
   ]
  },
  {
   "cell_type": "code",
   "execution_count": 6,
   "id": "21a3d9fa",
   "metadata": {},
   "outputs": [],
   "source": [
    "height = [1.73,1.68,1.71,1.89,1.79]"
   ]
  },
  {
   "cell_type": "code",
   "execution_count": 7,
   "id": "6ea469a9",
   "metadata": {},
   "outputs": [
    {
     "name": "stdout",
     "output_type": "stream",
     "text": [
      "[1.73, 1.68, 1.71, 1.89, 1.79]\n"
     ]
    }
   ],
   "source": [
    "print(height)"
   ]
  },
  {
   "cell_type": "code",
   "execution_count": 8,
   "id": "c53ee0f2",
   "metadata": {},
   "outputs": [],
   "source": [
    "np_height = np.array(height)"
   ]
  },
  {
   "cell_type": "code",
   "execution_count": 9,
   "id": "87500f4a",
   "metadata": {},
   "outputs": [],
   "source": [
    "weight = [65.4,59.2,63.6,88.4,68.7]"
   ]
  },
  {
   "cell_type": "code",
   "execution_count": 10,
   "id": "862b6720",
   "metadata": {},
   "outputs": [
    {
     "name": "stdout",
     "output_type": "stream",
     "text": [
      "[65.4, 59.2, 63.6, 88.4, 68.7]\n"
     ]
    }
   ],
   "source": [
    "print(weight)"
   ]
  },
  {
   "cell_type": "code",
   "execution_count": 11,
   "id": "da3c93aa",
   "metadata": {},
   "outputs": [],
   "source": [
    "np_weight = np.array(weight)"
   ]
  },
  {
   "cell_type": "code",
   "execution_count": 12,
   "id": "3281f4ca",
   "metadata": {},
   "outputs": [],
   "source": [
    "bmi = np_weight / np_height **2"
   ]
  },
  {
   "cell_type": "code",
   "execution_count": 13,
   "id": "703b6e8d",
   "metadata": {
    "scrolled": true
   },
   "outputs": [
    {
     "data": {
      "text/plain": [
       "array([21.85171573, 20.97505669, 21.75028214, 24.7473475 , 21.44127836])"
      ]
     },
     "execution_count": 13,
     "metadata": {},
     "output_type": "execute_result"
    }
   ],
   "source": [
    "bmi"
   ]
  },
  {
   "cell_type": "markdown",
   "id": "b500f138",
   "metadata": {},
   "source": [
    "--Numpy import etmeden önce, python yukarıdaki değerlerin dizileri tek bir değermiş gibi algılamıyor. Numpy import ettikten sonra, bu dizileri tek bir değermiş gibi algılıyor."
   ]
  },
  {
   "cell_type": "code",
   "execution_count": 14,
   "id": "122351a6",
   "metadata": {},
   "outputs": [],
   "source": [
    "python_list = [1,2,3]\n",
    "numpy_array = np.array([1,2,3])"
   ]
  },
  {
   "cell_type": "code",
   "execution_count": 16,
   "id": "8b189d39",
   "metadata": {},
   "outputs": [
    {
     "data": {
      "text/plain": [
       "[1, 2, 3, 1, 2, 3]"
      ]
     },
     "execution_count": 16,
     "metadata": {},
     "output_type": "execute_result"
    }
   ],
   "source": [
    "python_list + python_list"
   ]
  },
  {
   "cell_type": "markdown",
   "id": "2321a4d3",
   "metadata": {},
   "source": [
    "--Python yukarıdaki kodu, iç içe birleştirerek yazdı. Aynı işlemi numpy ile yaptığımız zaman sonuç, herbir değerin, karşıdaki değerle toplanması ile sonuçlanacak."
   ]
  },
  {
   "cell_type": "code",
   "execution_count": 17,
   "id": "1b22e5cd",
   "metadata": {},
   "outputs": [
    {
     "data": {
      "text/plain": [
       "array([2, 4, 6])"
      ]
     },
     "execution_count": 17,
     "metadata": {},
     "output_type": "execute_result"
    }
   ],
   "source": [
    "numpy_array + numpy_array"
   ]
  },
  {
   "cell_type": "markdown",
   "id": "3fb0febf",
   "metadata": {},
   "source": [
    "--Python Slice\n",
    "a[start:stop:step]# items start through stop-1\n",
    "a[start:]      # items start through the rest of the array\n",
    "a[:stop]       # items from the beginning through stop-1\n",
    "a[:]           # a copy of the whole array"
   ]
  },
  {
   "cell_type": "code",
   "execution_count": 20,
   "id": "ad735170",
   "metadata": {},
   "outputs": [
    {
     "data": {
      "text/plain": [
       "[1.73, 1.68, 1.71, 1.89, 1.79]"
      ]
     },
     "execution_count": 20,
     "metadata": {},
     "output_type": "execute_result"
    }
   ],
   "source": [
    "height"
   ]
  },
  {
   "cell_type": "code",
   "execution_count": 22,
   "id": "f3453a33",
   "metadata": {},
   "outputs": [
    {
     "data": {
      "text/plain": [
       "[1.68, 1.71, 1.89, 1.79]"
      ]
     },
     "execution_count": 22,
     "metadata": {},
     "output_type": "execute_result"
    }
   ],
   "source": [
    "height[1:] #Birinci indeksten itibaren tümü."
   ]
  },
  {
   "cell_type": "code",
   "execution_count": 23,
   "id": "cf419ba7",
   "metadata": {},
   "outputs": [
    {
     "data": {
      "text/plain": [
       "[1.68, 1.71]"
      ]
     },
     "execution_count": 23,
     "metadata": {},
     "output_type": "execute_result"
    }
   ],
   "source": [
    "height[1:3] #Birinci ve üçüncü indeks aralığı ancak üçüncü dahil değil."
   ]
  },
  {
   "cell_type": "code",
   "execution_count": 25,
   "id": "563a3b0f",
   "metadata": {},
   "outputs": [
    {
     "data": {
      "text/plain": [
       "[1.73, 1.68, 1.71]"
      ]
     },
     "execution_count": 25,
     "metadata": {},
     "output_type": "execute_result"
    }
   ],
   "source": [
    "height[:3] #Üçüncü indeksten sonrası çıkıyor."
   ]
  },
  {
   "cell_type": "code",
   "execution_count": 28,
   "id": "1d5f802e",
   "metadata": {},
   "outputs": [
    {
     "data": {
      "text/plain": [
       "[1.79, 1.89, 1.71, 1.68, 1.73]"
      ]
     },
     "execution_count": 28,
     "metadata": {},
     "output_type": "execute_result"
    }
   ],
   "source": [
    "height[::-1] #Arrayi tersine çeviriyor, sonuncu indeks başa geliyor."
   ]
  },
  {
   "cell_type": "markdown",
   "id": "c2a18e21",
   "metadata": {},
   "source": [
    "<h2>2D Numpy Arrays </h2>"
   ]
  },
  {
   "cell_type": "code",
   "execution_count": 29,
   "id": "c31ad26e",
   "metadata": {},
   "outputs": [],
   "source": [
    "np_2d = np.array([[1.73,1.68,1.71,1.89,1.79],[65.4,59.2,63.6,88.4,68.7]])"
   ]
  },
  {
   "cell_type": "code",
   "execution_count": 30,
   "id": "3188a8ae",
   "metadata": {},
   "outputs": [
    {
     "data": {
      "text/plain": [
       "array([[ 1.73,  1.68,  1.71,  1.89,  1.79],\n",
       "       [65.4 , 59.2 , 63.6 , 88.4 , 68.7 ]])"
      ]
     },
     "execution_count": 30,
     "metadata": {},
     "output_type": "execute_result"
    }
   ],
   "source": [
    "np_2d"
   ]
  },
  {
   "cell_type": "code",
   "execution_count": 34,
   "id": "265faeaf",
   "metadata": {},
   "outputs": [
    {
     "data": {
      "text/plain": [
       "(2, 5)"
      ]
     },
     "execution_count": 34,
     "metadata": {},
     "output_type": "execute_result"
    }
   ],
   "source": [
    "np_2d.shape #2 satır, 5 sütun. Shape komutu, yapının \n",
    "#bize nasıl göründüğü ile alakalı bilgi verir."
   ]
  },
  {
   "cell_type": "code",
   "execution_count": 67,
   "id": "71915456",
   "metadata": {},
   "outputs": [
    {
     "data": {
      "text/plain": [
       "1.71"
      ]
     },
     "execution_count": 67,
     "metadata": {},
     "output_type": "execute_result"
    }
   ],
   "source": [
    "np_2d[0][2]"
   ]
  },
  {
   "cell_type": "markdown",
   "id": "b54ffef4",
   "metadata": {},
   "source": [
    "-Numpy'da 2 boyutlu arrayleri liste içinde liste olarak düşünebiliriz. Shape komutunu yazdığımızda, satır sayısı, aslında ilgili arrayin kaç adet indeksten oluştuğunu söylüyor.\n",
    "-Yukarıdaki kod bloğunda, np_2d arrayinin 0. indeksini baz aldık (yani aslında birinci shape, ardından birinci shape listesinin de 2.indeksini çağırdık."
   ]
  },
  {
   "cell_type": "code",
   "execution_count": 68,
   "id": "69984b00",
   "metadata": {},
   "outputs": [
    {
     "data": {
      "text/plain": [
       "array([[ 1.68,  1.71],\n",
       "       [59.2 , 63.6 ]])"
      ]
     },
     "execution_count": 68,
     "metadata": {},
     "output_type": "execute_result"
    }
   ],
   "source": [
    "np_2d[:, 1:3]"
   ]
  },
  {
   "cell_type": "markdown",
   "id": "e6204f05",
   "metadata": {},
   "source": [
    "-Yukarıda, ilk kısımda herhangi bir sayı yazmadık ve listenin tamamını çağırmış olduk. Daha sonrasında her iki listede de 1'den 3'e kadar olan indeksleri çağırmış olduk. (Son indeks hiçbir zaman dahil edilmiyor.)"
   ]
  },
  {
   "cell_type": "code",
   "execution_count": 69,
   "id": "0062bd4d",
   "metadata": {},
   "outputs": [
    {
     "data": {
      "text/plain": [
       "array([[ 1.73,  1.68,  1.71,  1.89,  1.79],\n",
       "       [65.4 , 59.2 , 63.6 , 88.4 , 68.7 ]])"
      ]
     },
     "execution_count": 69,
     "metadata": {},
     "output_type": "execute_result"
    }
   ],
   "source": [
    "np_2d"
   ]
  },
  {
   "cell_type": "code",
   "execution_count": 120,
   "id": "7a25459a",
   "metadata": {},
   "outputs": [],
   "source": [
    "np_1d = np_2d[:,1]"
   ]
  },
  {
   "cell_type": "code",
   "execution_count": 121,
   "id": "3e4fab0f",
   "metadata": {},
   "outputs": [
    {
     "data": {
      "text/plain": [
       "array([ 1.68, 59.2 ])"
      ]
     },
     "execution_count": 121,
     "metadata": {},
     "output_type": "execute_result"
    }
   ],
   "source": [
    "np_1d"
   ]
  },
  {
   "cell_type": "code",
   "execution_count": 122,
   "id": "1d134c1e",
   "metadata": {},
   "outputs": [
    {
     "name": "stdout",
     "output_type": "stream",
     "text": [
      "Average: 33.565000000000005\n",
      "Median: 33.565000000000005\n",
      "Standard Deviation: 31.835000000000004\n",
      "Correlation: [[1. 1.]\n",
      " [1. 1.]]\n"
     ]
    }
   ],
   "source": [
    "avg = np.mean(np_2d[:,0])\n",
    "print(\"Average: \" + str(avg))\n",
    "\n",
    "# Print median height\n",
    "med = np.median(np_2d[:,0])\n",
    "print(\"Median: \" + str(med))\n",
    "\n",
    "# Print out the standard deviation on height\n",
    "stddev = np.std(np_2d[:,0])\n",
    "print(\"Standard Deviation: \" + str(stddev))\n",
    "\n",
    "# Print out correlation between first and second column\n",
    "# Correct way to use np.corrcoef for two columns\n",
    "corr = np.corrcoef(np_2d[:,0], np_2d[:,1])\n",
    "print(\"Correlation: \" + str(corr))"
   ]
  }
 ],
 "metadata": {
  "kernelspec": {
   "display_name": "Python 3 (ipykernel)",
   "language": "python",
   "name": "python3"
  },
  "language_info": {
   "codemirror_mode": {
    "name": "ipython",
    "version": 3
   },
   "file_extension": ".py",
   "mimetype": "text/x-python",
   "name": "python",
   "nbconvert_exporter": "python",
   "pygments_lexer": "ipython3",
   "version": "3.9.7"
  }
 },
 "nbformat": 4,
 "nbformat_minor": 5
}
