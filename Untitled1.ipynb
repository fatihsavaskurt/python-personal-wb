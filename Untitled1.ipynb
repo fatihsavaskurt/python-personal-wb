{
 "cells": [
  {
   "cell_type": "markdown",
   "id": "1900ba70",
   "metadata": {},
   "source": [
    "<h1>Pandas</h1>"
   ]
  },
  {
   "cell_type": "code",
   "execution_count": null,
   "id": "6a18c88e",
   "metadata": {},
   "outputs": [],
   "source": [
    "-Pandas tabular datadan oluşan bir dataframeden türetilir. Pandasın kullanıldığı\n",
    "data, row ve columndan oluşur. Datayı keşfetme, temizleme ve işlemeye yarar."
   ]
  },
  {
   "cell_type": "markdown",
   "id": "d77e7ab8",
   "metadata": {},
   "source": [
    "-Bir veri setini incelemenin birkaç yolu var. \n",
    " -table_name.head(): Bu fonksiyon, ilgili tablonun ilk birkaç satırını döndürmeye yarar.\n",
    " -table_name.info(): sütun adlarını, içerdiği veri türlerini ve eksik değerleri olup olmadığını belirtir.\n",
    " -table_name.shape: dataframe'in satır ve sütun sayısını tutan bir tuple içerir.\n",
    " -table_name.describe(): sayısal sütunlar için, ortalama ve medyan gibi özet istatistikleri içerir.\n",
    " -table_name.values: veri değerlerinin tamamını çıktı olarak alma.\n",
    " -table_name.columns: dataframedeki tüm sütunları çıktı olarak alma."
   ]
  },
  {
   "cell_type": "code",
   "execution_count": 10,
   "id": "d5d4fd45",
   "metadata": {},
   "outputs": [],
   "source": [
    "import pandas as pd ##Pandası import ettik.\n",
    "import numpy as np"
   ]
  },
  {
   "cell_type": "code",
   "execution_count": 11,
   "id": "cd9cb109",
   "metadata": {
    "scrolled": true
   },
   "outputs": [
    {
     "name": "stdout",
     "output_type": "stream",
     "text": [
      "             Student ID  Course ID  Marks\n",
      "0                 103.0      201.0   67.0\n",
      "1                 103.0      203.0   67.0\n",
      "2                 103.0      204.0   89.0\n",
      "Total marks         NaN        NaN  223.0\n"
     ]
    }
   ],
   "source": [
    "columns = ['Student ID', 'Course ID', 'Marks']\n",
    "data = [(103, 201, 67), (103, 203, 67), (103, 204, 89)]\n",
    "df = pd.DataFrame(data, columns=columns)\n",
    "df.at['Total marks', 'Marks'] = df['Marks'].sum()\n",
    "\n",
    "print(df)"
   ]
  },
  {
   "cell_type": "code",
   "execution_count": 14,
   "id": "83ae4506",
   "metadata": {},
   "outputs": [
    {
     "name": "stdout",
     "output_type": "stream",
     "text": [
      "                   A         B         C         D\n",
      "2024-01-01  0.714794  1.125082  1.295531  2.292352\n",
      "2024-01-02  0.119906 -0.655619  0.328319  1.698731\n",
      "2024-01-03 -0.528363 -0.772886 -0.790594  0.750522\n",
      "2024-01-04 -0.662580 -2.132593  1.545492  0.923519\n",
      "2024-01-05 -0.051185 -0.441806  0.559573  0.451746\n",
      "2024-01-06  0.173404 -1.569589 -0.599463  0.009255\n"
     ]
    }
   ],
   "source": [
    "dates = pd.date_range(\"20240101\", periods=6)\n",
    "df = pd.DataFrame(np.random.randn(6, 4), index=dates, columns=list(\"ABCD\"))\n",
    "print(df)"
   ]
  },
  {
   "cell_type": "code",
   "execution_count": 15,
   "id": "3845dd6a",
   "metadata": {},
   "outputs": [
    {
     "data": {
      "text/html": [
       "<div>\n",
       "<style scoped>\n",
       "    .dataframe tbody tr th:only-of-type {\n",
       "        vertical-align: middle;\n",
       "    }\n",
       "\n",
       "    .dataframe tbody tr th {\n",
       "        vertical-align: top;\n",
       "    }\n",
       "\n",
       "    .dataframe thead th {\n",
       "        text-align: right;\n",
       "    }\n",
       "</style>\n",
       "<table border=\"1\" class=\"dataframe\">\n",
       "  <thead>\n",
       "    <tr style=\"text-align: right;\">\n",
       "      <th></th>\n",
       "      <th>A</th>\n",
       "      <th>B</th>\n",
       "      <th>C</th>\n",
       "      <th>D</th>\n",
       "    </tr>\n",
       "  </thead>\n",
       "  <tbody>\n",
       "    <tr>\n",
       "      <th>2024-01-01</th>\n",
       "      <td>0.714794</td>\n",
       "      <td>1.125082</td>\n",
       "      <td>1.295531</td>\n",
       "      <td>2.292352</td>\n",
       "    </tr>\n",
       "    <tr>\n",
       "      <th>2024-01-02</th>\n",
       "      <td>0.119906</td>\n",
       "      <td>-0.655619</td>\n",
       "      <td>0.328319</td>\n",
       "      <td>1.698731</td>\n",
       "    </tr>\n",
       "    <tr>\n",
       "      <th>2024-01-03</th>\n",
       "      <td>-0.528363</td>\n",
       "      <td>-0.772886</td>\n",
       "      <td>-0.790594</td>\n",
       "      <td>0.750522</td>\n",
       "    </tr>\n",
       "    <tr>\n",
       "      <th>2024-01-04</th>\n",
       "      <td>-0.662580</td>\n",
       "      <td>-2.132593</td>\n",
       "      <td>1.545492</td>\n",
       "      <td>0.923519</td>\n",
       "    </tr>\n",
       "    <tr>\n",
       "      <th>2024-01-05</th>\n",
       "      <td>-0.051185</td>\n",
       "      <td>-0.441806</td>\n",
       "      <td>0.559573</td>\n",
       "      <td>0.451746</td>\n",
       "    </tr>\n",
       "  </tbody>\n",
       "</table>\n",
       "</div>"
      ],
      "text/plain": [
       "                   A         B         C         D\n",
       "2024-01-01  0.714794  1.125082  1.295531  2.292352\n",
       "2024-01-02  0.119906 -0.655619  0.328319  1.698731\n",
       "2024-01-03 -0.528363 -0.772886 -0.790594  0.750522\n",
       "2024-01-04 -0.662580 -2.132593  1.545492  0.923519\n",
       "2024-01-05 -0.051185 -0.441806  0.559573  0.451746"
      ]
     },
     "execution_count": 15,
     "metadata": {},
     "output_type": "execute_result"
    }
   ],
   "source": [
    "df.head()"
   ]
  },
  {
   "cell_type": "code",
   "execution_count": null,
   "id": "2fe70343",
   "metadata": {},
   "outputs": [],
   "source": [
    "df.in"
   ]
  }
 ],
 "metadata": {
  "kernelspec": {
   "display_name": "Python 3 (ipykernel)",
   "language": "python",
   "name": "python3"
  },
  "language_info": {
   "codemirror_mode": {
    "name": "ipython",
    "version": 3
   },
   "file_extension": ".py",
   "mimetype": "text/x-python",
   "name": "python",
   "nbconvert_exporter": "python",
   "pygments_lexer": "ipython3",
   "version": "3.10.9"
  }
 },
 "nbformat": 4,
 "nbformat_minor": 5
}
