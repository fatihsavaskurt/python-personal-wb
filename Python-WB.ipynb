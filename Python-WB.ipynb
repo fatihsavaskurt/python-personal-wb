{
 "cells": [
  {
   "cell_type": "code",
   "execution_count": 13,
   "id": "49f048f2",
   "metadata": {},
   "outputs": [
    {
     "name": "stdout",
     "output_type": "stream",
     "text": [
      "1.75\n"
     ]
    }
   ],
   "source": [
    "boy = 1.75\n",
    "print(boy)"
   ]
  },
  {
   "cell_type": "code",
   "execution_count": 9,
   "id": "1de50d44",
   "metadata": {},
   "outputs": [
    {
     "name": "stdout",
     "output_type": "stream",
     "text": [
      "87\n"
     ]
    }
   ],
   "source": [
    "kilo = 87\n",
    "print(kilo)"
   ]
  },
  {
   "cell_type": "code",
   "execution_count": 18,
   "id": "ef249f52",
   "metadata": {},
   "outputs": [
    {
     "name": "stdout",
     "output_type": "stream",
     "text": [
      "28.408163265306122\n"
     ]
    }
   ],
   "source": [
    "bke = kilo/boy ** 2 \n",
    "print(bke)"
   ]
  },
  {
   "cell_type": "code",
   "execution_count": 20,
   "id": "2d7af682",
   "metadata": {},
   "outputs": [
    {
     "data": {
      "text/plain": [
       "float"
      ]
     },
     "execution_count": 20,
     "metadata": {},
     "output_type": "execute_result"
    }
   ],
   "source": [
    "type(boy)"
   ]
  },
  {
   "cell_type": "code",
   "execution_count": 22,
   "id": "9ae3cc34",
   "metadata": {},
   "outputs": [
    {
     "data": {
      "text/plain": [
       "int"
      ]
     },
     "execution_count": 22,
     "metadata": {},
     "output_type": "execute_result"
    }
   ],
   "source": [
    "type(kilo)"
   ]
  },
  {
   "cell_type": "code",
   "execution_count": 29,
   "id": "3cd5a72f",
   "metadata": {},
   "outputs": [
    {
     "data": {
      "text/plain": [
       "\"\\nPython'da her bir inputun bir type bulunuyor. Örneğin boy float iken, kilo\\nint typeına sahip. type() formülü ile kontrol ediyoruz.\\n\""
      ]
     },
     "execution_count": 29,
     "metadata": {},
     "output_type": "execute_result"
    }
   ],
   "source": [
    "'''\n",
    "Python'da her bir inputun bir type bulunuyor. Örneğin boy float iken, kilo\n",
    "int typeına sahip. type() formülü ile kontrol ediyoruz.\n",
    "'''"
   ]
  },
  {
   "cell_type": "code",
   "execution_count": 32,
   "id": "da55dcc9",
   "metadata": {},
   "outputs": [
    {
     "name": "stdout",
     "output_type": "stream",
     "text": [
      "40\n"
     ]
    }
   ],
   "source": [
    "# Create the variables monthly_savings and num_months\n",
    "monthly_savings = 10\n",
    "num_months = 4\n",
    "# Multiply monthly_savings and num_months\n",
    "new_savings = monthly_savings * num_months\n",
    "\n",
    "# Print new_savings\n",
    "print(new_savings)"
   ]
  },
  {
   "cell_type": "code",
   "execution_count": 36,
   "id": "c12737c1",
   "metadata": {},
   "outputs": [],
   "source": [
    "# Create a variable half\n",
    "half = 0.5\n",
    "\n",
    "# Create a variable intro\n",
    "\n",
    "intro = 'Hello! How are you?'\n",
    "\n",
    "# Create a variable is_good\n",
    "is_good = (10==10)"
   ]
  },
  {
   "cell_type": "code",
   "execution_count": 34,
   "id": "2b9ead1d",
   "metadata": {},
   "outputs": [
    {
     "name": "stdout",
     "output_type": "stream",
     "text": [
      "Hello! How are you?Hello! How are you?\n"
     ]
    }
   ],
   "source": [
    "intro = \"Hello! How are you?\"\n",
    "\n",
    "# Assign sum of intro and intro to doubleintro\n",
    "\n",
    "doubleintro = intro + intro\n",
    "\n",
    "# Print out doubleintro\n",
    "print(doubleintro)"
   ]
  }
 ],
 "metadata": {
  "kernelspec": {
   "display_name": "Python 3 (ipykernel)",
   "language": "python",
   "name": "python3"
  },
  "language_info": {
   "codemirror_mode": {
    "name": "ipython",
    "version": 3
   },
   "file_extension": ".py",
   "mimetype": "text/x-python",
   "name": "python",
   "nbconvert_exporter": "python",
   "pygments_lexer": "ipython3",
   "version": "3.9.7"
  }
 },
 "nbformat": 4,
 "nbformat_minor": 5
}
