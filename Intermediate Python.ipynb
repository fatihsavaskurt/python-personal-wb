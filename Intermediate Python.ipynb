{
 "cells": [
  {
   "cell_type": "markdown",.
   "id": "22fb38c4",
   "metadata": {},
   "source": [
    "# Matplotlib"
   ]
  },
  {
   "cell_type": "code",
   "execution_count": 3,
   "id": "12d95d26",
   "metadata": {},
   "outputs": [
    {
     "name": "stdout",
     "output_type": "stream",
     "text": [
      "Requirement already satisfied: jupyter-to-medium in c:\\users\\valan\\appdata\\local\\programs\\python\\python39\\lib\\site-packages (0.2.13)\n",
      "Requirement already satisfied: matplotlib<4.0.0,>=3.7.1 in c:\\users\\valan\\appdata\\local\\programs\\python\\python39\\lib\\site-packages (from jupyter-to-medium) (3.7.2)\n",
      "Requirement already satisfied: requests<3.0.0,>=2.28.2 in c:\\users\\valan\\appdata\\local\\programs\\python\\python39\\lib\\site-packages (from jupyter-to-medium) (2.32.3)\n",
      "Requirement already satisfied: numpy<2.0.0,>=1.24.2 in c:\\users\\valan\\appdata\\local\\programs\\python\\python39\\lib\\site-packages (from jupyter-to-medium) (1.26.4)\n",
      "Requirement already satisfied: jupyter-contrib-nbextensions<0.8.0,>=0.7.0 in c:\\users\\valan\\appdata\\local\\programs\\python\\python39\\lib\\site-packages (from jupyter-to-medium) (0.7.0)\n",
      "Requirement already satisfied: jupyter<2.0.0,>=1.0.0 in c:\\users\\valan\\appdata\\local\\programs\\python\\python39\\lib\\site-packages (from jupyter-to-medium) (1.0.0)\n",
      "Requirement already satisfied: jinja2==3.0.3 in c:\\users\\valan\\appdata\\local\\programs\\python\\python39\\lib\\site-packages (from jupyter-to-medium) (3.0.3)\n",
      "Requirement already satisfied: nbconvert<8.0.0,>=7.2.10 in c:\\users\\valan\\appdata\\local\\programs\\python\\python39\\lib\\site-packages (from jupyter-to-medium) (7.16.4)\n",
      "Requirement already satisfied: beautifulsoup4<5.0.0,>=4.12.0 in c:\\users\\valan\\appdata\\local\\programs\\python\\python39\\lib\\site-packages (from jupyter-to-medium) (4.12.3)\n",
      "Requirement already satisfied: MarkupSafe>=2.0 in c:\\users\\valan\\appdata\\local\\programs\\python\\python39\\lib\\site-packages (from jinja2==3.0.3->jupyter-to-medium) (2.1.1)\n",
      "Requirement already satisfied: soupsieve>1.2 in c:\\users\\valan\\appdata\\local\\programs\\python\\python39\\lib\\site-packages (from beautifulsoup4<5.0.0,>=4.12.0->jupyter-to-medium) (2.3.2.post1)\n",
      "Requirement already satisfied: qtconsole in c:\\users\\valan\\appdata\\local\\programs\\python\\python39\\lib\\site-packages (from jupyter<2.0.0,>=1.0.0->jupyter-to-medium) (5.3.2)\n",
      "Requirement already satisfied: jupyter-console in c:\\users\\valan\\appdata\\local\\programs\\python\\python39\\lib\\site-packages (from jupyter<2.0.0,>=1.0.0->jupyter-to-medium) (6.4.4)\n",
      "Requirement already satisfied: ipywidgets in c:\\users\\valan\\appdata\\local\\programs\\python\\python39\\lib\\site-packages (from jupyter<2.0.0,>=1.0.0->jupyter-to-medium) (8.0.2)\n",
      "Requirement already satisfied: notebook in c:\\users\\valan\\appdata\\local\\programs\\python\\python39\\lib\\site-packages (from jupyter<2.0.0,>=1.0.0->jupyter-to-medium) (6.5.1)\n",
      "Requirement already satisfied: ipykernel in c:\\users\\valan\\appdata\\local\\programs\\python\\python39\\lib\\site-packages (from jupyter<2.0.0,>=1.0.0->jupyter-to-medium) (6.16.2)\n",
      "Requirement already satisfied: ipython_genutils in c:\\users\\valan\\appdata\\local\\programs\\python\\python39\\lib\\site-packages (from jupyter-contrib-nbextensions<0.8.0,>=0.7.0->jupyter-to-medium) (0.2.0)\n",
      "Requirement already satisfied: jupyter_contrib_core>=0.3.3 in c:\\users\\valan\\appdata\\local\\programs\\python\\python39\\lib\\site-packages (from jupyter-contrib-nbextensions<0.8.0,>=0.7.0->jupyter-to-medium) (0.4.2)\n",
      "Requirement already satisfied: jupyter_core in c:\\users\\valan\\appdata\\local\\programs\\python\\python39\\lib\\site-packages (from jupyter-contrib-nbextensions<0.8.0,>=0.7.0->jupyter-to-medium) (4.11.2)\n",
      "Requirement already satisfied: jupyter_highlight_selected_word>=0.1.1 in c:\\users\\valan\\appdata\\local\\programs\\python\\python39\\lib\\site-packages (from jupyter-contrib-nbextensions<0.8.0,>=0.7.0->jupyter-to-medium) (0.2.0)\n",
      "Requirement already satisfied: jupyter_nbextensions_configurator>=0.4.0 in c:\\users\\valan\\appdata\\local\\programs\\python\\python39\\lib\\site-packages (from jupyter-contrib-nbextensions<0.8.0,>=0.7.0->jupyter-to-medium) (0.6.4)\n",
      "Requirement already satisfied: tornado in c:\\users\\valan\\appdata\\local\\programs\\python\\python39\\lib\\site-packages (from jupyter-contrib-nbextensions<0.8.0,>=0.7.0->jupyter-to-medium) (6.2)\n",
      "Requirement already satisfied: traitlets>=4.1 in c:\\users\\valan\\appdata\\local\\programs\\python\\python39\\lib\\site-packages (from jupyter-contrib-nbextensions<0.8.0,>=0.7.0->jupyter-to-medium) (5.5.0)\n",
      "Requirement already satisfied: lxml in c:\\users\\valan\\appdata\\local\\programs\\python\\python39\\lib\\site-packages (from jupyter-contrib-nbextensions<0.8.0,>=0.7.0->jupyter-to-medium) (5.3.0)\n",
      "Requirement already satisfied: setuptools in c:\\users\\valan\\appdata\\local\\programs\\python\\python39\\lib\\site-packages (from jupyter_contrib_core>=0.3.3->jupyter-contrib-nbextensions<0.8.0,>=0.7.0->jupyter-to-medium) (57.4.0)\n",
      "Requirement already satisfied: jupyter-server in c:\\users\\valan\\appdata\\local\\programs\\python\\python39\\lib\\site-packages (from jupyter_nbextensions_configurator>=0.4.0->jupyter-contrib-nbextensions<0.8.0,>=0.7.0->jupyter-to-medium) (1.21.0)\n",
      "Requirement already satisfied: pyyaml in c:\\users\\valan\\appdata\\local\\programs\\python\\python39\\lib\\site-packages (from jupyter_nbextensions_configurator>=0.4.0->jupyter-contrib-nbextensions<0.8.0,>=0.7.0->jupyter-to-medium) (6.0.2)\n",
      "Requirement already satisfied: python-dateutil>=2.7 in c:\\users\\valan\\appdata\\local\\programs\\python\\python39\\lib\\site-packages (from matplotlib<4.0.0,>=3.7.1->jupyter-to-medium) (2.8.2)\n",
      "Requirement already satisfied: pillow>=6.2.0 in c:\\users\\valan\\appdata\\local\\programs\\python\\python39\\lib\\site-packages (from matplotlib<4.0.0,>=3.7.1->jupyter-to-medium) (9.3.0)\n",
      "Requirement already satisfied: pyparsing<3.1,>=2.3.1 in c:\\users\\valan\\appdata\\local\\programs\\python\\python39\\lib\\site-packages (from matplotlib<4.0.0,>=3.7.1->jupyter-to-medium) (3.0.9)\n",
      "Requirement already satisfied: importlib-resources>=3.2.0 in c:\\users\\valan\\appdata\\local\\programs\\python\\python39\\lib\\site-packages (from matplotlib<4.0.0,>=3.7.1->jupyter-to-medium) (6.0.0)\n",
      "Requirement already satisfied: contourpy>=1.0.1 in c:\\users\\valan\\appdata\\local\\programs\\python\\python39\\lib\\site-packages (from matplotlib<4.0.0,>=3.7.1->jupyter-to-medium) (1.1.0)\n",
      "Requirement already satisfied: kiwisolver>=1.0.1 in c:\\users\\valan\\appdata\\local\\programs\\python\\python39\\lib\\site-packages (from matplotlib<4.0.0,>=3.7.1->jupyter-to-medium) (1.4.4)\n",
      "Requirement already satisfied: fonttools>=4.22.0 in c:\\users\\valan\\appdata\\local\\programs\\python\\python39\\lib\\site-packages (from matplotlib<4.0.0,>=3.7.1->jupyter-to-medium) (4.41.0)\n",
      "Requirement already satisfied: cycler>=0.10 in c:\\users\\valan\\appdata\\local\\programs\\python\\python39\\lib\\site-packages (from matplotlib<4.0.0,>=3.7.1->jupyter-to-medium) (0.11.0)\n",
      "Requirement already satisfied: packaging>=20.0 in c:\\users\\valan\\appdata\\local\\programs\\python\\python39\\lib\\site-packages (from matplotlib<4.0.0,>=3.7.1->jupyter-to-medium) (21.3)\n",
      "Requirement already satisfied: zipp>=3.1.0 in c:\\users\\valan\\appdata\\local\\programs\\python\\python39\\lib\\site-packages (from importlib-resources>=3.2.0->matplotlib<4.0.0,>=3.7.1->jupyter-to-medium) (3.10.0)\n",
      "Requirement already satisfied: tinycss2 in c:\\users\\valan\\appdata\\local\\programs\\python\\python39\\lib\\site-packages (from nbconvert<8.0.0,>=7.2.10->jupyter-to-medium) (1.2.1)\n",
      "Requirement already satisfied: pygments>=2.4.1 in c:\\users\\valan\\appdata\\local\\programs\\python\\python39\\lib\\site-packages (from nbconvert<8.0.0,>=7.2.10->jupyter-to-medium) (2.13.0)\n",
      "Requirement already satisfied: pandocfilters>=1.4.1 in c:\\users\\valan\\appdata\\local\\programs\\python\\python39\\lib\\site-packages (from nbconvert<8.0.0,>=7.2.10->jupyter-to-medium) (1.5.0)\n",
      "Requirement already satisfied: importlib-metadata>=3.6 in c:\\users\\valan\\appdata\\local\\programs\\python\\python39\\lib\\site-packages (from nbconvert<8.0.0,>=7.2.10->jupyter-to-medium) (5.0.0)\n",
      "Requirement already satisfied: nbclient>=0.5.0 in c:\\users\\valan\\appdata\\local\\programs\\python\\python39\\lib\\site-packages (from nbconvert<8.0.0,>=7.2.10->jupyter-to-medium) (0.7.0)\n",
      "Requirement already satisfied: bleach!=5.0.0 in c:\\users\\valan\\appdata\\local\\programs\\python\\python39\\lib\\site-packages (from nbconvert<8.0.0,>=7.2.10->jupyter-to-medium) (5.0.1)\n",
      "Requirement already satisfied: jupyterlab-pygments in c:\\users\\valan\\appdata\\local\\programs\\python\\python39\\lib\\site-packages (from nbconvert<8.0.0,>=7.2.10->jupyter-to-medium) (0.2.2)\n",
      "Requirement already satisfied: defusedxml in c:\\users\\valan\\appdata\\local\\programs\\python\\python39\\lib\\site-packages (from nbconvert<8.0.0,>=7.2.10->jupyter-to-medium) (0.7.1)\n",
      "Requirement already satisfied: nbformat>=5.7 in c:\\users\\valan\\appdata\\local\\programs\\python\\python39\\lib\\site-packages (from nbconvert<8.0.0,>=7.2.10->jupyter-to-medium) (5.7.0)\n",
      "Requirement already satisfied: mistune<4,>=2.0.3 in c:\\users\\valan\\appdata\\local\\programs\\python\\python39\\lib\\site-packages (from nbconvert<8.0.0,>=7.2.10->jupyter-to-medium) (2.0.4)\n",
      "Requirement already satisfied: webencodings in c:\\users\\valan\\appdata\\local\\programs\\python\\python39\\lib\\site-packages (from bleach!=5.0.0->nbconvert<8.0.0,>=7.2.10->jupyter-to-medium) (0.5.1)\n",
      "Requirement already satisfied: six>=1.9.0 in c:\\users\\valan\\appdata\\local\\programs\\python\\python39\\lib\\site-packages (from bleach!=5.0.0->nbconvert<8.0.0,>=7.2.10->jupyter-to-medium) (1.16.0)\n",
      "Requirement already satisfied: pywin32>=1.0 in c:\\users\\valan\\appdata\\local\\programs\\python\\python39\\lib\\site-packages (from jupyter_core->jupyter-contrib-nbextensions<0.8.0,>=0.7.0->jupyter-to-medium) (304)\n",
      "Requirement already satisfied: nest-asyncio in c:\\users\\valan\\appdata\\local\\programs\\python\\python39\\lib\\site-packages (from nbclient>=0.5.0->nbconvert<8.0.0,>=7.2.10->jupyter-to-medium) (1.5.6)\n",
      "Requirement already satisfied: jupyter-client>=6.1.5 in c:\\users\\valan\\appdata\\local\\programs\\python\\python39\\lib\\site-packages (from nbclient>=0.5.0->nbconvert<8.0.0,>=7.2.10->jupyter-to-medium) (7.4.4)\n",
      "Requirement already satisfied: entrypoints in c:\\users\\valan\\appdata\\local\\programs\\python\\python39\\lib\\site-packages (from jupyter-client>=6.1.5->nbclient>=0.5.0->nbconvert<8.0.0,>=7.2.10->jupyter-to-medium) (0.4)\n",
      "Requirement already satisfied: pyzmq>=23.0 in c:\\users\\valan\\appdata\\local\\programs\\python\\python39\\lib\\site-packages (from jupyter-client>=6.1.5->nbclient>=0.5.0->nbconvert<8.0.0,>=7.2.10->jupyter-to-medium) (24.0.1)\n",
      "Requirement already satisfied: jsonschema>=2.6 in c:\\users\\valan\\appdata\\local\\programs\\python\\python39\\lib\\site-packages (from nbformat>=5.7->nbconvert<8.0.0,>=7.2.10->jupyter-to-medium) (4.16.0)\n",
      "Requirement already satisfied: fastjsonschema in c:\\users\\valan\\appdata\\local\\programs\\python\\python39\\lib\\site-packages (from nbformat>=5.7->nbconvert<8.0.0,>=7.2.10->jupyter-to-medium) (2.16.2)\n",
      "Requirement already satisfied: attrs>=17.4.0 in c:\\users\\valan\\appdata\\local\\programs\\python\\python39\\lib\\site-packages (from jsonschema>=2.6->nbformat>=5.7->nbconvert<8.0.0,>=7.2.10->jupyter-to-medium) (22.1.0)\n",
      "Requirement already satisfied: pyrsistent!=0.17.0,!=0.17.1,!=0.17.2,>=0.14.0 in c:\\users\\valan\\appdata\\local\\programs\\python\\python39\\lib\\site-packages (from jsonschema>=2.6->nbformat>=5.7->nbconvert<8.0.0,>=7.2.10->jupyter-to-medium) (0.18.1)\n",
      "Requirement already satisfied: Send2Trash>=1.8.0 in c:\\users\\valan\\appdata\\local\\programs\\python\\python39\\lib\\site-packages (from notebook->jupyter<2.0.0,>=1.0.0->jupyter-to-medium) (1.8.0)\n",
      "Requirement already satisfied: argon2-cffi in c:\\users\\valan\\appdata\\local\\programs\\python\\python39\\lib\\site-packages (from notebook->jupyter<2.0.0,>=1.0.0->jupyter-to-medium) (21.3.0)\n",
      "Requirement already satisfied: terminado>=0.8.3 in c:\\users\\valan\\appdata\\local\\programs\\python\\python39\\lib\\site-packages (from notebook->jupyter<2.0.0,>=1.0.0->jupyter-to-medium) (0.17.0)\n",
      "Requirement already satisfied: nbclassic==0.4.5 in c:\\users\\valan\\appdata\\local\\programs\\python\\python39\\lib\\site-packages (from notebook->jupyter<2.0.0,>=1.0.0->jupyter-to-medium) (0.4.5)\n",
      "Requirement already satisfied: prometheus-client in c:\\users\\valan\\appdata\\local\\programs\\python\\python39\\lib\\site-packages (from notebook->jupyter<2.0.0,>=1.0.0->jupyter-to-medium) (0.15.0)\n",
      "Requirement already satisfied: notebook-shim>=0.1.0 in c:\\users\\valan\\appdata\\local\\programs\\python\\python39\\lib\\site-packages (from nbclassic==0.4.5->notebook->jupyter<2.0.0,>=1.0.0->jupyter-to-medium) (0.2.0)\n",
      "Requirement already satisfied: pywinpty in c:\\users\\valan\\appdata\\local\\programs\\python\\python39\\lib\\site-packages (from jupyter-server->jupyter_nbextensions_configurator>=0.4.0->jupyter-contrib-nbextensions<0.8.0,>=0.7.0->jupyter-to-medium) (2.0.9)\n",
      "Requirement already satisfied: websocket-client in c:\\users\\valan\\appdata\\local\\programs\\python\\python39\\lib\\site-packages (from jupyter-server->jupyter_nbextensions_configurator>=0.4.0->jupyter-contrib-nbextensions<0.8.0,>=0.7.0->jupyter-to-medium) (1.4.1)\n",
      "Requirement already satisfied: anyio<4,>=3.1.0 in c:\\users\\valan\\appdata\\local\\programs\\python\\python39\\lib\\site-packages (from jupyter-server->jupyter_nbextensions_configurator>=0.4.0->jupyter-contrib-nbextensions<0.8.0,>=0.7.0->jupyter-to-medium) (3.6.2)\n",
      "Requirement already satisfied: sniffio>=1.1 in c:\\users\\valan\\appdata\\local\\programs\\python\\python39\\lib\\site-packages (from anyio<4,>=3.1.0->jupyter-server->jupyter_nbextensions_configurator>=0.4.0->jupyter-contrib-nbextensions<0.8.0,>=0.7.0->jupyter-to-medium) (1.3.0)\n",
      "Requirement already satisfied: idna>=2.8 in c:\\users\\valan\\appdata\\local\\programs\\python\\python39\\lib\\site-packages (from anyio<4,>=3.1.0->jupyter-server->jupyter_nbextensions_configurator>=0.4.0->jupyter-contrib-nbextensions<0.8.0,>=0.7.0->jupyter-to-medium) (3.4)\n",
      "Requirement already satisfied: urllib3<3,>=1.21.1 in c:\\users\\valan\\appdata\\local\\programs\\python\\python39\\lib\\site-packages (from requests<3.0.0,>=2.28.2->jupyter-to-medium) (2.2.3)\n",
      "Requirement already satisfied: charset-normalizer<4,>=2 in c:\\users\\valan\\appdata\\local\\programs\\python\\python39\\lib\\site-packages (from requests<3.0.0,>=2.28.2->jupyter-to-medium) (3.3.2)\n",
      "Requirement already satisfied: certifi>=2017.4.17 in c:\\users\\valan\\appdata\\local\\programs\\python\\python39\\lib\\site-packages (from requests<3.0.0,>=2.28.2->jupyter-to-medium) (2023.7.22)\n",
      "Requirement already satisfied: argon2-cffi-bindings in c:\\users\\valan\\appdata\\local\\programs\\python\\python39\\lib\\site-packages (from argon2-cffi->notebook->jupyter<2.0.0,>=1.0.0->jupyter-to-medium) (21.2.0)\n",
      "Requirement already satisfied: cffi>=1.0.1 in c:\\users\\valan\\appdata\\local\\programs\\python\\python39\\lib\\site-packages (from argon2-cffi-bindings->argon2-cffi->notebook->jupyter<2.0.0,>=1.0.0->jupyter-to-medium) (1.15.1)\n",
      "Requirement already satisfied: pycparser in c:\\users\\valan\\appdata\\local\\programs\\python\\python39\\lib\\site-packages (from cffi>=1.0.1->argon2-cffi-bindings->argon2-cffi->notebook->jupyter<2.0.0,>=1.0.0->jupyter-to-medium) (2.21)\n",
      "Requirement already satisfied: matplotlib-inline>=0.1 in c:\\users\\valan\\appdata\\local\\programs\\python\\python39\\lib\\site-packages (from ipykernel->jupyter<2.0.0,>=1.0.0->jupyter-to-medium) (0.1.6)\n",
      "Requirement already satisfied: debugpy>=1.0 in c:\\users\\valan\\appdata\\local\\programs\\python\\python39\\lib\\site-packages (from ipykernel->jupyter<2.0.0,>=1.0.0->jupyter-to-medium) (1.6.3)\n",
      "Requirement already satisfied: psutil in c:\\users\\valan\\appdata\\local\\programs\\python\\python39\\lib\\site-packages (from ipykernel->jupyter<2.0.0,>=1.0.0->jupyter-to-medium) (5.9.3)\n",
      "Requirement already satisfied: ipython>=7.23.1 in c:\\users\\valan\\appdata\\local\\programs\\python\\python39\\lib\\site-packages (from ipykernel->jupyter<2.0.0,>=1.0.0->jupyter-to-medium) (8.5.0)\n",
      "Requirement already satisfied: prompt-toolkit<3.1.0,>3.0.1 in c:\\users\\valan\\appdata\\local\\programs\\python\\python39\\lib\\site-packages (from ipython>=7.23.1->ipykernel->jupyter<2.0.0,>=1.0.0->jupyter-to-medium) (3.0.31)\n",
      "Requirement already satisfied: jedi>=0.16 in c:\\users\\valan\\appdata\\local\\programs\\python\\python39\\lib\\site-packages (from ipython>=7.23.1->ipykernel->jupyter<2.0.0,>=1.0.0->jupyter-to-medium) (0.18.1)\n",
      "Requirement already satisfied: backcall in c:\\users\\valan\\appdata\\local\\programs\\python\\python39\\lib\\site-packages (from ipython>=7.23.1->ipykernel->jupyter<2.0.0,>=1.0.0->jupyter-to-medium) (0.2.0)\n",
      "Requirement already satisfied: decorator in c:\\users\\valan\\appdata\\local\\programs\\python\\python39\\lib\\site-packages (from ipython>=7.23.1->ipykernel->jupyter<2.0.0,>=1.0.0->jupyter-to-medium) (5.1.1)\n",
      "Requirement already satisfied: stack-data in c:\\users\\valan\\appdata\\local\\programs\\python\\python39\\lib\\site-packages (from ipython>=7.23.1->ipykernel->jupyter<2.0.0,>=1.0.0->jupyter-to-medium) (0.5.1)\n",
      "Requirement already satisfied: pickleshare in c:\\users\\valan\\appdata\\local\\programs\\python\\python39\\lib\\site-packages (from ipython>=7.23.1->ipykernel->jupyter<2.0.0,>=1.0.0->jupyter-to-medium) (0.7.5)\n",
      "Requirement already satisfied: colorama in c:\\users\\valan\\appdata\\local\\programs\\python\\python39\\lib\\site-packages (from ipython>=7.23.1->ipykernel->jupyter<2.0.0,>=1.0.0->jupyter-to-medium) (0.4.6)\n",
      "Requirement already satisfied: parso<0.9.0,>=0.8.0 in c:\\users\\valan\\appdata\\local\\programs\\python\\python39\\lib\\site-packages (from jedi>=0.16->ipython>=7.23.1->ipykernel->jupyter<2.0.0,>=1.0.0->jupyter-to-medium) (0.8.3)\n",
      "Requirement already satisfied: wcwidth in c:\\users\\valan\\appdata\\local\\programs\\python\\python39\\lib\\site-packages (from prompt-toolkit<3.1.0,>3.0.1->ipython>=7.23.1->ipykernel->jupyter<2.0.0,>=1.0.0->jupyter-to-medium) (0.2.5)\n",
      "Requirement already satisfied: widgetsnbextension~=4.0 in c:\\users\\valan\\appdata\\local\\programs\\python\\python39\\lib\\site-packages (from ipywidgets->jupyter<2.0.0,>=1.0.0->jupyter-to-medium) (4.0.3)\n",
      "Requirement already satisfied: jupyterlab-widgets~=3.0 in c:\\users\\valan\\appdata\\local\\programs\\python\\python39\\lib\\site-packages (from ipywidgets->jupyter<2.0.0,>=1.0.0->jupyter-to-medium) (3.0.3)\n",
      "Requirement already satisfied: qtpy>=2.0.1 in c:\\users\\valan\\appdata\\local\\programs\\python\\python39\\lib\\site-packages (from qtconsole->jupyter<2.0.0,>=1.0.0->jupyter-to-medium) (2.2.1)\n",
      "Requirement already satisfied: executing in c:\\users\\valan\\appdata\\local\\programs\\python\\python39\\lib\\site-packages (from stack-data->ipython>=7.23.1->ipykernel->jupyter<2.0.0,>=1.0.0->jupyter-to-medium) (1.1.1)\n",
      "Requirement already satisfied: asttokens in c:\\users\\valan\\appdata\\local\\programs\\python\\python39\\lib\\site-packages (from stack-data->ipython>=7.23.1->ipykernel->jupyter<2.0.0,>=1.0.0->jupyter-to-medium) (2.0.8)\n",
      "Requirement already satisfied: pure-eval in c:\\users\\valan\\appdata\\local\\programs\\python\\python39\\lib\\site-packages (from stack-data->ipython>=7.23.1->ipykernel->jupyter<2.0.0,>=1.0.0->jupyter-to-medium) (0.2.2)\n",
      "Note: you may need to restart the kernel to use updated packages.\n"
     ]
    },
    {
     "name": "stderr",
     "output_type": "stream",
     "text": [
      "WARNING: You are using pip version 21.2.4; however, version 24.2 is available.\n",
      "You should consider upgrading via the 'C:\\Users\\valan\\AppData\\Local\\Programs\\Python\\Python39\\python.exe -m pip install --upgrade pip' command.\n"
     ]
    }
   ],
   "source": [
    "pip install jupyter-to-medium\n"
   ]
  },
  {
   "cell_type": "code",
   "execution_count": 2,
   "id": "0d415585",
   "metadata": {},
   "outputs": [],
   "source": [
    "import matplotlib.pyplot as plt ##Matplotlib kütüphanesini import ettik."
   ]
  },
  {
   "cell_type": "code",
   "execution_count": 4,
   "id": "fa8dd983",
   "metadata": {},
   "outputs": [],
   "source": [
    "year = [1950,1970,1990,2010]\n",
    "pop = [2519,3692,5263,6972]"
   ]
  },
  {
   "cell_type": "markdown",
   "id": "f4443793",
   "metadata": {},
   "source": [
    "--plt.plot(year,pop) metodu ile alttaki çizgi grafiği oluşturuyoruz.<br>\n",
    "--İlk argüman yatay, ikincisi ise dikey eksene karşılık geliyor."
   ]
  },
  {
   "cell_type": "code",
   "execution_count": 9,
   "id": "7b854a93",
   "metadata": {
    "scrolled": false
   },
   "outputs": [
    {
     "data": {
      "text/plain": [
       "<function matplotlib.pyplot.show(close=None, block=None)>"
      ]
     },
     "execution_count": 9,
     "metadata": {},
     "output_type": "execute_result"
    },
    {
     "data": {
      "image/png": "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\n",
      "text/plain": [
       "<Figure size 640x480 with 1 Axes>"
      ]
     },
     "metadata": {},
     "output_type": "display_data"
    }
   ],
   "source": [
    "plt.plot(year,pop)\n",
    "plt.show"
   ]
  },
  {
   "cell_type": "markdown",
   "id": "d276ece5",
   "metadata": {},
   "source": [
    "--plt.scatter(year,pop) metodu ise dağılımı vermektedir."
   ]
  },
  {
   "cell_type": "code",
   "execution_count": 11,
   "id": "ec473452",
   "metadata": {},
   "outputs": [
    {
     "data": {
      "image/png": "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\n",
      "text/plain": [
       "<Figure size 640x480 with 1 Axes>"
      ]
     },
     "metadata": {},
     "output_type": "display_data"
    }
   ],
   "source": [
    "plt.scatter(year,pop)\n",
    "plt.show()"
   ]
  },
  {
   "cell_type": "code",
   "execution_count": 6,
   "id": "2bb83db2",
   "metadata": {
    "scrolled": true
   },
   "outputs": [
    {
     "data": {
      "text/plain": [
       "[<matplotlib.lines.Line2D at 0x199f5c241c0>]"
      ]
     },
     "execution_count": 6,
     "metadata": {},
     "output_type": "execute_result"
    },
    {
     "data": {
      "image/png": "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\n",
      "text/plain": [
       "<Figure size 640x480 with 1 Axes>"
      ]
     },
     "metadata": {},
     "output_type": "display_data"
    }
   ],
   "source": [
    "plt.plot(year,pop)"
   ]
  },
  {
   "cell_type": "markdown",
   "id": "a889f603",
   "metadata": {},
   "source": [
    "<h4>Histogram</h4>"
   ]
  },
  {
   "attachments": {
    "Screenshot%202024-10-04%20111420.png": {
     "image/png": "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"
    }
   },
   "cell_type": "markdown",
   "id": "0897c94a",
   "metadata": {},
   "source": [
    "![Screenshot%202024-10-04%20111420.png](attachment:Screenshot%202024-10-04%20111420.png)"
   ]
  },
  {
   "cell_type": "code",
   "execution_count": 13,
   "id": "cb7d9c37",
   "metadata": {},
   "outputs": [
    {
     "name": "stdout",
     "output_type": "stream",
     "text": [
      "Help on function hist in module matplotlib.pyplot:\n",
      "\n",
      "hist(x, bins=None, range=None, density=False, weights=None, cumulative=False, bottom=None, histtype='bar', align='mid', orientation='vertical', rwidth=None, log=False, color=None, label=None, stacked=False, *, data=None, **kwargs)\n",
      "    Compute and plot a histogram.\n",
      "    \n",
      "    This method uses `numpy.histogram` to bin the data in *x* and count the\n",
      "    number of values in each bin, then draws the distribution either as a\n",
      "    `.BarContainer` or `.Polygon`. The *bins*, *range*, *density*, and\n",
      "    *weights* parameters are forwarded to `numpy.histogram`.\n",
      "    \n",
      "    If the data has already been binned and counted, use `~.bar` or\n",
      "    `~.stairs` to plot the distribution::\n",
      "    \n",
      "        counts, bins = np.histogram(x)\n",
      "        plt.stairs(counts, bins)\n",
      "    \n",
      "    Alternatively, plot pre-computed bins and counts using ``hist()`` by\n",
      "    treating each bin as a single point with a weight equal to its count::\n",
      "    \n",
      "        plt.hist(bins[:-1], bins, weights=counts)\n",
      "    \n",
      "    The data input *x* can be a singular array, a list of datasets of\n",
      "    potentially different lengths ([*x0*, *x1*, ...]), or a 2D ndarray in\n",
      "    which each column is a dataset. Note that the ndarray form is\n",
      "    transposed relative to the list form. If the input is an array, then\n",
      "    the return value is a tuple (*n*, *bins*, *patches*); if the input is a\n",
      "    sequence of arrays, then the return value is a tuple\n",
      "    ([*n0*, *n1*, ...], *bins*, [*patches0*, *patches1*, ...]).\n",
      "    \n",
      "    Masked arrays are not supported.\n",
      "    \n",
      "    Parameters\n",
      "    ----------\n",
      "    x : (n,) array or sequence of (n,) arrays\n",
      "        Input values, this takes either a single array or a sequence of\n",
      "        arrays which are not required to be of the same length.\n",
      "    \n",
      "    bins : int or sequence or str, default: :rc:`hist.bins`\n",
      "        If *bins* is an integer, it defines the number of equal-width bins\n",
      "        in the range.\n",
      "    \n",
      "        If *bins* is a sequence, it defines the bin edges, including the\n",
      "        left edge of the first bin and the right edge of the last bin;\n",
      "        in this case, bins may be unequally spaced.  All but the last\n",
      "        (righthand-most) bin is half-open.  In other words, if *bins* is::\n",
      "    \n",
      "            [1, 2, 3, 4]\n",
      "    \n",
      "        then the first bin is ``[1, 2)`` (including 1, but excluding 2) and\n",
      "        the second ``[2, 3)``.  The last bin, however, is ``[3, 4]``, which\n",
      "        *includes* 4.\n",
      "    \n",
      "        If *bins* is a string, it is one of the binning strategies\n",
      "        supported by `numpy.histogram_bin_edges`: 'auto', 'fd', 'doane',\n",
      "        'scott', 'stone', 'rice', 'sturges', or 'sqrt'.\n",
      "    \n",
      "    range : tuple or None, default: None\n",
      "        The lower and upper range of the bins. Lower and upper outliers\n",
      "        are ignored. If not provided, *range* is ``(x.min(), x.max())``.\n",
      "        Range has no effect if *bins* is a sequence.\n",
      "    \n",
      "        If *bins* is a sequence or *range* is specified, autoscaling\n",
      "        is based on the specified bin range instead of the\n",
      "        range of x.\n",
      "    \n",
      "    density : bool, default: False\n",
      "        If ``True``, draw and return a probability density: each bin\n",
      "        will display the bin's raw count divided by the total number of\n",
      "        counts *and the bin width*\n",
      "        (``density = counts / (sum(counts) * np.diff(bins))``),\n",
      "        so that the area under the histogram integrates to 1\n",
      "        (``np.sum(density * np.diff(bins)) == 1``).\n",
      "    \n",
      "        If *stacked* is also ``True``, the sum of the histograms is\n",
      "        normalized to 1.\n",
      "    \n",
      "    weights : (n,) array-like or None, default: None\n",
      "        An array of weights, of the same shape as *x*.  Each value in\n",
      "        *x* only contributes its associated weight towards the bin count\n",
      "        (instead of 1).  If *density* is ``True``, the weights are\n",
      "        normalized, so that the integral of the density over the range\n",
      "        remains 1.\n",
      "    \n",
      "    cumulative : bool or -1, default: False\n",
      "        If ``True``, then a histogram is computed where each bin gives the\n",
      "        counts in that bin plus all bins for smaller values. The last bin\n",
      "        gives the total number of datapoints.\n",
      "    \n",
      "        If *density* is also ``True`` then the histogram is normalized such\n",
      "        that the last bin equals 1.\n",
      "    \n",
      "        If *cumulative* is a number less than 0 (e.g., -1), the direction\n",
      "        of accumulation is reversed.  In this case, if *density* is also\n",
      "        ``True``, then the histogram is normalized such that the first bin\n",
      "        equals 1.\n",
      "    \n",
      "    bottom : array-like, scalar, or None, default: None\n",
      "        Location of the bottom of each bin, i.e. bins are drawn from\n",
      "        ``bottom`` to ``bottom + hist(x, bins)`` If a scalar, the bottom\n",
      "        of each bin is shifted by the same amount. If an array, each bin\n",
      "        is shifted independently and the length of bottom must match the\n",
      "        number of bins. If None, defaults to 0.\n",
      "    \n",
      "    histtype : {'bar', 'barstacked', 'step', 'stepfilled'}, default: 'bar'\n",
      "        The type of histogram to draw.\n",
      "    \n",
      "        - 'bar' is a traditional bar-type histogram.  If multiple data\n",
      "          are given the bars are arranged side by side.\n",
      "        - 'barstacked' is a bar-type histogram where multiple\n",
      "          data are stacked on top of each other.\n",
      "        - 'step' generates a lineplot that is by default unfilled.\n",
      "        - 'stepfilled' generates a lineplot that is by default filled.\n",
      "    \n",
      "    align : {'left', 'mid', 'right'}, default: 'mid'\n",
      "        The horizontal alignment of the histogram bars.\n",
      "    \n",
      "        - 'left': bars are centered on the left bin edges.\n",
      "        - 'mid': bars are centered between the bin edges.\n",
      "        - 'right': bars are centered on the right bin edges.\n",
      "    \n",
      "    orientation : {'vertical', 'horizontal'}, default: 'vertical'\n",
      "        If 'horizontal', `~.Axes.barh` will be used for bar-type histograms\n",
      "        and the *bottom* kwarg will be the left edges.\n",
      "    \n",
      "    rwidth : float or None, default: None\n",
      "        The relative width of the bars as a fraction of the bin width.  If\n",
      "        ``None``, automatically compute the width.\n",
      "    \n",
      "        Ignored if *histtype* is 'step' or 'stepfilled'.\n",
      "    \n",
      "    log : bool, default: False\n",
      "        If ``True``, the histogram axis will be set to a log scale.\n",
      "    \n",
      "    color : color or array-like of colors or None, default: None\n",
      "        Color or sequence of colors, one per dataset.  Default (``None``)\n",
      "        uses the standard line color sequence.\n",
      "    \n",
      "    label : str or None, default: None\n",
      "        String, or sequence of strings to match multiple datasets.  Bar\n",
      "        charts yield multiple patches per dataset, but only the first gets\n",
      "        the label, so that `~.Axes.legend` will work as expected.\n",
      "    \n",
      "    stacked : bool, default: False\n",
      "        If ``True``, multiple data are stacked on top of each other If\n",
      "        ``False`` multiple data are arranged side by side if histtype is\n",
      "        'bar' or on top of each other if histtype is 'step'\n",
      "    \n",
      "    Returns\n",
      "    -------\n",
      "    n : array or list of arrays\n",
      "        The values of the histogram bins. See *density* and *weights* for a\n",
      "        description of the possible semantics.  If input *x* is an array,\n",
      "        then this is an array of length *nbins*. If input is a sequence of\n",
      "        arrays ``[data1, data2, ...]``, then this is a list of arrays with\n",
      "        the values of the histograms for each of the arrays in the same\n",
      "        order.  The dtype of the array *n* (or of its element arrays) will\n",
      "        always be float even if no weighting or normalization is used.\n",
      "    \n",
      "    bins : array\n",
      "        The edges of the bins. Length nbins + 1 (nbins left edges and right\n",
      "        edge of last bin).  Always a single array even when multiple data\n",
      "        sets are passed in.\n",
      "    \n",
      "    patches : `.BarContainer` or list of a single `.Polygon` or list of such objects\n",
      "        Container of individual artists used to create the histogram\n",
      "        or list of such containers if there are multiple input datasets.\n",
      "    \n",
      "    Other Parameters\n",
      "    ----------------\n",
      "    data : indexable object, optional\n",
      "        If given, the following parameters also accept a string ``s``, which is\n",
      "        interpreted as ``data[s]`` (unless this raises an exception):\n",
      "    \n",
      "        *x*, *weights*\n",
      "    \n",
      "    **kwargs\n",
      "        `~matplotlib.patches.Patch` properties\n",
      "    \n",
      "    See Also\n",
      "    --------\n",
      "    hist2d : 2D histogram with rectangular bins\n",
      "    hexbin : 2D histogram with hexagonal bins\n",
      "    \n",
      "    Notes\n",
      "    -----\n",
      "    For large numbers of bins (>1000), plotting can be significantly faster\n",
      "    if *histtype* is set to 'step' or 'stepfilled' rather than 'bar' or\n",
      "    'barstacked'.\n",
      "\n"
     ]
    }
   ],
   "source": [
    "help(plt.hist)"
   ]
  },
  {
   "cell_type": "code",
   "execution_count": 23,
   "id": "56a6ece1",
   "metadata": {},
   "outputs": [
    {
     "data": {
      "image/png": "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\n",
      "text/plain": [
       "<Figure size 640x480 with 1 Axes>"
      ]
     },
     "metadata": {},
     "output_type": "display_data"
    }
   ],
   "source": [
    "values = [43.828, 76.423, 72.301, 42.731, 75.32, 81.235, 79.829, 75.635, 64.062, 79.441, 56.728, 65.554, 74.852, 50.728, 72.39, 73.005, 52.295, 49.58, 59.723, 50.43, 80.653, 44.74100000000001, 50.651, 78.553, 72.961, 72.889, 65.152, 46.462, 55.322, 78.782, 48.328, 75.748, 78.273, 76.486, 78.332, 54.791, 72.235, 74.994, 71.33800000000001, 71.878, 51.57899999999999, 58.04, 52.947, 79.313, 80.657, 56.735, 59.448, 79.406, 60.022, 79.483, 70.259, 56.007, 46.388000000000005, 60.916, 70.19800000000001, 82.208, 73.33800000000001, 81.757, 64.69800000000001, 70.65, 70.964, 59.545, 78.885, 80.745, 80.546, 72.567, 82.603, 72.535, 54.11, 67.297, 78.623, 77.58800000000001, 71.993, 42.592, 45.678, 73.952, 59.443000000000005, 48.303, 74.241, 54.467, 64.164, 72.801, 76.195, 66.803, 74.543, 71.164, 42.082, 62.069, 52.906000000000006, 63.785, 79.762, 80.204, 72.899, 56.867, 46.859, 80.196, 75.64, 65.483, 75.53699999999999, 71.752, 71.421, 71.688, 75.563, 78.098, 78.74600000000001, 76.442, 72.476, 46.242, 65.528, 72.777, 63.062, 74.002, 42.568000000000005, 79.972, 74.663, 77.926, 48.159, 49.339, 80.941, 72.396, 58.556, 39.613, 80.884, 81.70100000000001, 74.143, 78.4, 52.517, 70.616, 58.42, 69.819, 73.923, 71.777, 51.542, 79.425, 78.242, 76.384, 73.747, 74.249, 73.422, 62.698, 42.38399999999999, 43.487]\n",
    "plt.hist(values, bins=10) ##bins komutu kaç satıra böleceğimizi belirtir.\n",
    "plt.show()"
   ]
  },
  {
   "cell_type": "markdown",
   "id": "16ecd81a",
   "metadata": {},
   "source": [
    "--plt.xlabel('Year') --> X eksenindeki grafiğe başlık atama. <br>\n",
    "--plt.xlabel('Pop') --> Y eksenindeki grafiğe başlık atama. <br>\n",
    "--plt.title('World Population Projections') --> Genel grafiğe başlık atama. <br>\n",
    "--plt.yticks([0,2,4,6,8,10]) --> Grafiğin y eksenini istediğimiz sayıdan başlatmak için kullanılıyor. Bu örnekte sıfırdan başlar.<br>"
   ]
  },
  {
   "cell_type": "code",
   "execution_count": 31,
   "id": "488f6692",
   "metadata": {},
   "outputs": [],
   "source": [
    "gdp_cap = [974.5803384, 5937.029525999999, 6223.367465, 4797.231267, 12779.37964, 34435.367439999995, 36126.4927, 29796.04834, 1391.253792, 33692.60508, 1441.284873, 3822.137084, 7446.298803, 12569.85177, 9065.800825, 10680.79282, 1217.032994, 430.0706916, 1713.778686, 2042.09524, 36319.23501, 706.016537, 1704.063724, 13171.63885, 4959.114854, 7006.580419, 986.1478792, 277.5518587, 3632.557798, 9645.06142, 1544.750112, 14619.222719999998, 8948.102923, 22833.30851, 35278.41874, 2082.4815670000003, 6025.374752000001, 6873.262326000001, 5581.180998, 5728.353514, 12154.08975, 641.3695236000001, 690.8055759, 33207.0844, 30470.0167, 13206.48452, 752.7497265, 32170.37442, 1327.60891, 27538.41188, 5186.050003, 942.6542111, 579.2317429999999, 1201.637154, 3548.3308460000003, 39724.97867, 18008.94444, 36180.78919, 2452.210407, 3540.651564, 11605.71449, 4471.061906, 40675.99635, 25523.2771, 28569.7197, 7320.880262000001, 31656.06806, 4519.461171, 1463.249282, 1593.06548, 23348.139730000003, 47306.98978, 10461.05868, 1569.331442, 414.5073415, 12057.49928, 1044.770126, 759.3499101, 12451.6558, 1042.581557, 1803.151496, 10956.99112, 11977.57496, 3095.7722710000003, 9253.896111, 3820.17523, 823.6856205, 944.0, 4811.060429, 1091.359778, 36797.93332, 25185.00911, 2749.320965, 619.6768923999999, 2013.977305, 49357.19017, 22316.19287, 2605.94758, 9809.185636, 4172.838464, 7408.905561, 3190.481016, 15389.924680000002, 20509.64777, 19328.70901, 7670.122558, 10808.47561, 863.0884639000001, 1598.435089, 21654.83194, 1712.472136, 9786.534714, 862.5407561000001, 47143.17964, 18678.31435, 25768.25759, 926.1410683, 9269.657808, 28821.0637, 3970.095407, 2602.394995, 4513.480643, 33859.74835, 37506.41907, 4184.548089, 28718.27684, 1107.482182, 7458.396326999999, 882.9699437999999, 18008.50924, 7092.923025, 8458.276384, 1056.380121, 33203.26128, 42951.65309, 10611.46299, 11415.80569, 2441.576404, 3025.349798, 2280.769906, 1271.211593, 469.70929810000007]\n",
    "life_exp = [43.828, 76.423, 72.301, 42.731, 75.32, 81.235, 79.829, 75.635, 64.062, 79.441, 56.728, 65.554, 74.852, 50.728, 72.39, 73.005, 52.295, 49.58, 59.723, 50.43, 80.653, 44.74100000000001, 50.651, 78.553, 72.961, 72.889, 65.152, 46.462, 55.322, 78.782, 48.328, 75.748, 78.273, 76.486, 78.332, 54.791, 72.235, 74.994, 71.33800000000001, 71.878, 51.57899999999999, 58.04, 52.947, 79.313, 80.657, 56.735, 59.448, 79.406, 60.022, 79.483, 70.259, 56.007, 46.388000000000005, 60.916, 70.19800000000001, 82.208, 73.33800000000001, 81.757, 64.69800000000001, 70.65, 70.964, 59.545, 78.885, 80.745, 80.546, 72.567, 82.603, 72.535, 54.11, 67.297, 78.623, 77.58800000000001, 71.993, 42.592, 45.678, 73.952, 59.443000000000005, 48.303, 74.241, 54.467, 64.164, 72.801, 76.195, 66.803, 74.543, 71.164, 42.082, 62.069, 52.906000000000006, 63.785, 79.762, 80.204, 72.899, 56.867, 46.859, 80.196, 75.64, 65.483, 75.53699999999999, 71.752, 71.421, 71.688, 75.563, 78.098, 78.74600000000001, 76.442, 72.476, 46.242, 65.528, 72.777, 63.062, 74.002, 42.568000000000005, 79.972, 74.663, 77.926, 48.159, 49.339, 80.941, 72.396, 58.556, 39.613, 80.884, 81.70100000000001, 74.143, 78.4, 52.517, 70.616, 58.42, 69.819, 73.923, 71.777, 51.542, 79.425, 78.242, 76.384, 73.747, 74.249, 73.422, 62.698, 42.38399999999999, 43.487]"
   ]
  },
  {
   "cell_type": "code",
   "execution_count": 35,
   "id": "23c5f1b7",
   "metadata": {},
   "outputs": [
    {
     "data": {
      "image/png": "iVBORw0KGgoAAAANSUhEUgAAAjMAAAHJCAYAAABws7ggAAAAOXRFWHRTb2Z0d2FyZQBNYXRwbG90bGliIHZlcnNpb24zLjcuMCwgaHR0cHM6Ly9tYXRwbG90bGliLm9yZy88F64QAAAACXBIWXMAAA9hAAAPYQGoP6dpAABbi0lEQVR4nO3deXxTVf4//le6t9gWKLRpWdoCVamUfQdlLZuKyEf8srggoyKLiiMDwzAO4AgIKqLiMvJzEAdZ3BAdFMuuQBEEirIvlr2l0kJbWii0Ob8/OglNkzT3Jje59yav5+PRh3Jze3MSGu677/M+72MQQggQERER6VSA2gMgIiIicgeDGSIiItI1BjNERESkawxmiIiISNcYzBAREZGuMZghIiIiXWMwQ0RERLrGYIaIiIh0jcEMERER6RqDGfIrX3zxBQwGA1atWmXzWKtWrWAwGPDDDz/YPNa0aVO0bdtWsXEkJSVh9OjRTs/bsmULDAYDtmzZUuN5H3/8MQwGg+UrLCwMRqMRvXr1wty5c5GXl6fMwBVw6tQpGAwGfPzxx2oPxeuWL1+OhQsXSj6/Z8+eaNGihWLPf+zYMUyePBnt2rVD7dq1UbduXXTr1g1ffPGF3fPz8vIwevRo1KtXDxEREejSpQs2btxo99wNGzagS5cuiIiIQL169TB69Gibn7uZM2da/ZxW/1q5cqVir5X8C4MZ8is9e/aEwWDA5s2brY4XFBTgt99+Q61atWweO3fuHH7//Xf06tXLm0N1yZIlS5CZmYn169fj3XffRevWrTFv3jw0b94cGzZsUHt4fk9uMKO0jIwMrF27Fv/3f/+Hzz//HJ9++ilSUlIwbNgwvPzyy1bnlpWVoU+fPti4cSPeeustrFmzBnFxcRgwYAC2bt1qde7WrVsxcOBAxMXFYc2aNXjrrbewYcMG9OnTB2VlZZbznnzySWRmZtp8tWjRAuHh4RgwYIBX3gfyQYLIz6SlpYk77rjD6thXX30lgoODxXPPPSc6duxo9dgnn3wiAIhvv/3W7ecuLS0VQgiRmJgoHn/8cafnb968WQAQmzdvrvG8JUuWCABi9+7dNo+dPn1aNGrUSERGRorc3FxXhq2o7OxsAUAsWbJE7aF43b333isSExMln9+jRw9x1113Kfb8f/zxhzCZTHbHFRERIa5fv2459u677woAYseOHZZjN2/eFKmpqTafkQ4dOojU1FRx8+ZNy7Ht27cLAOK9996rcUzZ2dnCYDCIRx55xNWXRSSYmSG/06tXLxw9ehQ5OTmWY1u2bEGHDh0waNAg7NmzB8XFxVaPBQYG4u677wYAXL9+HdOmTUNycjJCQkLQoEEDTJgwAVeuXLF6nqSkJNx333346quv0KZNG4SFhWHWrFkOx3XkyBEMGDDAkqZ/5plnrMbhqsaNG+ONN95AcXEx/vWvf1k99ssvv2Dw4MGoW7cuwsLC0KZNG3z22WeWx/fv3w+DwYCPPvrI5rrff/89DAYDvvnmG8ux48ePY+TIkYiNjUVoaCiaN2+Od999V9I4t23bhj59+iAyMhIRERHo2rUr1q5da3WOeTpt/fr1eOKJJ1C3bl3UqlUL999/P37//Xerc81TNJmZmejatSvCw8ORlJSEJUuWAADWrl2Ltm3bIiIiAmlpaVi3bp3NmKS8HvNU4IoVKzB9+nQkJCQgKioKffv2xdGjR63Gs3btWpw+fdpqakUug8GAiRMn4j//+Q+aN2+OiIgItGrVCv/973+dfm+9evXsPmfHjh1RWlqKgoICy7HVq1fjjjvuQJcuXSzHgoKC8Mgjj2DXrl04f/48AOD8+fPYvXs3Hn30UQQFBVnO7dq1K26//XasXr26xjH9+9//hhACTz75pNPxEzmkdjRF5G2rV68WAMTy5cstx9LS0sS0adNEcXGxCAoKEmvXrrU8lpycLDp06CCEEMJkMon+/fuLoKAg8dJLL4mMjAzx+uuvi1q1aok2bdpY/WabmJgo4uPjRZMmTcS///1vsXnzZrFr1y7LY1UzM7m5uSI2NlY0aNBALFmyRHz33Xdi1KhRonHjxm5nZoQQ4urVqyIwMFD06dPHcmzTpk0iJCRE3H333WLVqlVi3bp1YvTo0TZZkzZt2ohu3brZXPPhhx8WsbGxlt/GDx48KKKjo0VaWpr45JNPREZGhnjxxRdFQECAmDlzpuX77GVmtmzZIoKDg0W7du3EqlWrxNdffy369esnDAaDWLlypc3rbNSokRgzZoz4/vvvxYcffihiY2NFo0aNxOXLly3n9ujRQ8TExIg77rhDfPTRR+KHH34Q9913nwAgZs2aJdLS0sSKFSvEd999Jzp37ixCQ0PF+fPnLd8v9fWYs2dJSUli1KhRYu3atWLFihWicePGIiUlRZSXl1uu161bN2E0GkVmZqblqyb2MjPm5+rYsaP47LPPxHfffSd69uwpgoKCxMmTJ2u8niM9e/YU9evXt4xVCCGMRqMYNmyYzbn//e9/BQDxww8/CCGEWLdunQBg9Zkxe+ihh0R8fLzD562oqBCNGjUSzZo1c2ncRGYMZsjvFBQUiICAAPH0008LIYS4dOmSMBgMYt26dUIIITp27CgmT54shBDizJkzAoCYMmWKEOLWP9zz58+3uuaqVasEAPHhhx9ajiUmJorAwEBx9OhRmzFUD2amTp0qDAaDyMrKsjovPT1dkWBGCCHi4uJE8+bNLX++8847RZs2baymBoQQ4r777hPx8fGioqJCCCHE22+/LQBYvY6CggIRGhoqXnzxRcux/v37i4YNG4rCwkKr602cOFGEhYWJgoICIYT9YKZz584iNjZWFBcXW46Vl5eLFi1aiIYNG1qmRsyv88EHH7R6DvOUxiuvvGI51qNHDwFA/PLLL5Zj+fn5IjAwUISHh1sFLllZWQKAePvtt2W/HnMwM2jQIKvzPvvsMwHAKmBRYpoJgIiLixNFRUWWY7m5uSIgIEDMnTtX8rXNFi9eLACIt956y+p4cHCwGDt2rM35O3bssPpl4NNPP7V5nWZPP/20CAkJcfjc33//vQDg0riJquI0E/mdOnXqoFWrVpYVQlu3bkVgYCC6desGAOjRo4elCNj8X3Px76ZNmwDAZiXSsGHDUKtWLZuVHi1btsTtt9/udEybN2/GXXfdhVatWlkdHzlypLwXVwMhhOX/T5w4gSNHjmDUqFEAgPLycsvXoEGDkJOTY5kiGTVqFEJDQ61WH61YsQJlZWV44oknAFROvW3cuBEPPvggIiIibK53/fp17Ny50+64SkpK8PPPP+Ohhx7CbbfdZjkeGBiIRx99FOfOnbOarjGPqaquXbsiMTHRpng7Pj4e7dq1s/y5bt26iI2NRevWrZGQkGA53rx5cwDA6dOnXX49gwcPtvpzy5Ytra6ppF69eiEyMtLy57i4OMTGxsp+ru+//x4TJkzAQw89hGeffdbm8Zqmwao/5ujcmq7x0UcfISgoSNLKPqKaMJghv9SrVy8cO3YMFy5cwObNm9GuXTvLjbRHjx7Yt28fCgsLsXnzZgQFBaF79+4AgPz8fAQFBaF+/fpW1zMYDDAajcjPz7c6Hh8fL2k8+fn5MBqNNsftHXNFSUkJ8vPzLTfwixcvAgAmT56M4OBgq6/x48cDAC5dugSgMgAYPHgwPvnkE1RUVACorF3p2LEj7rrrLsv4y8vL8c4779hcb9CgQVbXq+7y5csQQth9r8zjrf6+Onqvqp9Xt25dm/NCQkJsjoeEhACoDGJcfT0xMTFWfw4NDQUAXLt2zWYM7qr+XObnk/NcP/zwA4YOHYr09HR8+umnNkFHTEyMzfsJwFJXY34PzWNxdK69vwOg8v375ptvcO+99yr2c07+K8j5KUS+p1evXliwYAG2bNmCLVu2WG5QACyBy48//mgpDDYHOjExMSgvL8cff/xhFdAIIZCbm4sOHTpYPY/UAs+YmBjk5ubaHLd3zBVr165FRUUFevbsCaCyEBQApk2bhqFDh9r9njvuuMPy/0888QQ+//xzrF+/Ho0bN8bu3bvx/vvvWx6vU6eOJZMyYcIEu9dLTk62e7xOnToICAiwKsg2u3DhgtV4zRy9V82aNbP7HHK583r04IcffsCQIUPQo0cPfPnll5Zgrqq0tDT89ttvNsfNx8z9b8z//e2336w+R+Zjjvrk/Oc//8GNGzdY+EuKYGaG/NI999yDwMBAfPHFFzh48KDlJg8A0dHRaN26NZYuXYpTp05Z9Zfp06cPAGDZsmVW1/vyyy9RUlJieVyuXr164eDBg9i/f7/V8eXLl7t0varOnDmDyZMnIzo6GmPHjgVQGaikpKRg//79aN++vd2vqtMY/fr1Q4MGDbBkyRIsWbIEYWFhGDFihOXxiIgI9OrVC/v27UPLli3tXs9eNgEAatWqhU6dOuGrr76yyiyYTCYsW7YMDRs2tJmq+/TTT63+vGPHDpw+fdrq79Ed7ryemsjNnnhCRkYGhgwZgu7du+Prr7+2ZJCqe/DBB3HkyBH8/PPPlmPl5eVYtmwZOnXqZMmaNWjQAB07dsSyZcssmTsA2LlzJ44ePeowWP7oo4+QkJCAgQMHKvjqyF8xM0N+KSoqCm3btsXXX3+NgIAAS72MWY8ePSzNzaoGM+np6ejfvz+mTp2KoqIidOvWDb/++itmzJiBNm3a4NFHH3VpPJMmTcK///1v3HvvvXjllVcQFxeHTz/9FEeOHJF1nQMHDlhqO/Ly8vDTTz9hyZIlCAwMxOrVq62ySf/6178wcOBA9O/fH6NHj0aDBg1QUFCAw4cPY+/evfj8888t5wYGBuKxxx7DggULEBUVhaFDhyI6Otrqud966y10794dd999N8aNG4ekpCQUFxfjxIkT+Pbbby31RvbMnTsX6enp6NWrFyZPnoyQkBC89957OHDgAFasWGGT4frll1/w5JNPYtiwYTh79iymT5+OBg0aWKbIlODO63EkLS0NX331Fd5//320a9cOAQEBaN++vWJjdmbbtm0YMmQIjEYj/va3vyErK8vq8dTUVERFRQEAxowZg3fffRfDhg3Dq6++itjYWLz33ns4evSoTQPGefPmIT09HcOGDcP48eORl5eHv/71r2jRooWlrqqqn3/+GQcPHsTf/vY3BAYGeuz1kh9RuQCZSDVTpkwRAET79u1tHvv6668FABESEiJKSkqsHrt27ZqYOnWqSExMFMHBwSI+Pl6MGzfOalmwEJUrlu699167z22vad6hQ4dEenq6CAsLE3Xr1hV/+tOfxJo1a2StZjJ/hYSEiNjYWNGjRw8xZ84ckZeXZ/f79u/fb1liHRwcLIxGo+jdu7f44IMPbM49duyY5frr16+3e73s7GwxZswY0aBBAxEcHCzq168vunbtarXKyFHTvJ9++kn07t1b1KpVS4SHh4vOnTvbNCo0v86MjAzx6KOPitq1a4vw8HAxaNAgcfz4catzHTWcc/T3AkBMmDBB9usxr2b6/PPPbb63+ussKCgQDz30kKhdu7YwGAzC2T/BjlYzVR+n+XU5a8Q4Y8YMq5+T6l/Vf85yc3PFY489JurWrSvCwsJE586dHf7dZ2RkiM6dO1t+fh977DFx8eJFu+c+9dRTwmAwuLyUnKg6gxBVljgQEWnYxx9/jCeeeAK7d+/2akaDiLSNNTNERESkawxmiIiISNc4zURERES6xswMERER6RqDGSIiItI1BjNERESkaz7fNM9kMuHChQuIjIyU3FqeiIiI1CWEQHFxMRISEhAQUHPuxeeDmQsXLqBRo0ZqD4OIiIhccPbsWTRs2LDGc3w+mDHvL3P27FlLm24iIiLStqKiIjRq1MhqnzhHfD6YMU8tRUVFMZghIiLSGSklIiwAJiIiIl1jMENERES6xmCGiIiIdI3BDBEREekagxkiIiLSNQYzREREpGsMZoiIiEjXGMwQERGRrvl80zwiIiI9qzAJ7MouQF7xdcRGhqFjcl0EBnCvwaoYzBAREWnUugM5mPXtIeQUXrcci48Ow4z7UzGgRbyKI9MWTjMRERFp0LoDORi3bK9VIAMAuYXXMW7ZXqw7kKPSyLSHwQwREZHGVJgEZn17CMLOY+Zjs749hAqTvTOcXzvzZD7WZJ1H5sl8l66hNZxmIiIi0phd2QU2GZmqBICcwuvYlV2ALk1jJF/XV6etmJkhIiLSmLxix4GMK+cBvj1txWCGiIhIY2IjwxQ9z5PTVlrAaSYiIiKN6ZhcF/HRYcgtvG43ADEAMEZXLtOuqvoy7naJdbDn9GVsP3HJI9NWWsFghoiISGMCAwyYcX8qxi3bCwNgFdCYO8zMuD/Vqt+MvXqYAAMgJ9kiZ9pKSzjNREREpEEDWsTj/UfawhhtPZVkjA7D+4+0tSrYdVQPI3fWSOq0ldYwM0NERKRRA1rEIz3VWGMH4JrqYaRyNG2lFwxmiIiINCwwwOCwjqXCJPDx9uwa62GccTRtpScMZoiIiHTIXo2MK4w+0GeGwQwREZGKXNlI0lwj487U0sReTdGtWX2f2LiSwQwREZFKXOnI626NjLk+5oX0O3QfxJhxNRMREZHCpOx/5GpHXmdbHdTEF+pj7GFmhoiISEFSsi3OOvIaAExffQDXblTAGB1uNRW0/lCu5LFU7zPjC/Ux9jCYISIiUoijWhZztsXcH0bKRpL5JTfwwmf7AdwKhtJTjfg664Lk8ZgEULdWMB5s3QB9U40+UR9jD6eZiIiIFCBn/6MNMrIrwK1gaNGm4ygouSHrey+X3MS/t59C4bUbPhnIAAxmiIiIFCEl25JTeB07T+ZjddZ5Wdc2B0NLtp+SPS5PbSQppS7IWzjNREREpACp+xpl/n4JBSU3ZV9fALhyTf73mb9XyY0kXVmF5UnMzBARESng1KVSiWe6N9VTOzzY5Su4s5GkORPzz28P4hkXVmF5kqrBTHl5Of7+978jOTkZ4eHhaNKkCV5++WWYTCbLOUIIzJw5EwkJCQgPD0fPnj1x8OBBFUdNRERkrcIksGLXGafnGaNC3c6MPNEtGYBrIZGrG0muO5CD7vM2YcTinfjIwVSXp6azpFA1mJk3bx4++OADLFq0CIcPH8b8+fPx2muv4Z133rGcM3/+fCxYsACLFi3C7t27YTQakZ6ejuLiYhVHTkREdMuu7ALkFjnPeozo2Bidm8QgPjpMdjBiQOVUzsTezezupm1wcsF4FzeSdNQPx56q01nepGrNTGZmJh544AHce++9AICkpCSsWLECv/zyC4DKrMzChQsxffp0DB06FACwdOlSxMXFYfny5Rg7dqxqYyciIjKTOn2TVK8WAgMMmHF/KsYt2wsDIKmTb/Vmd9V30z51qQRvbjhe4zUGt4qXvZrJ1W7D7kxnuULVzEz37t2xceNGHDt2DACwf/9+bNu2DYMGDQIAZGdnIzc3F/369bN8T2hoKHr06IEdO3bYvWZZWRmKioqsvoiIiDxJ6vRNbGQYKkwC0eEheKJbEurUCrF6PD46DGPvSUZ8taxLXFQoJvVNQVm5CduPX8JPx/7Am+uPYfuJP1A3IkTSFNeHP2bLrmdxtduwq9NZrlI1MzN16lQUFhbizjvvRGBgICoqKjB79myMGDECAJCbW7kOPy4uzur74uLicPr0abvXnDt3LmbNmuXZgRMREVXRMbku4qPDkFt43W4Ww7wf0uWSMnSft8kqQLDX1G7KgOZVsi6lWLHrjMPMy6LNJyWNUaCyniU91Sg5QyM3w2J+na5MZ7lD1czMqlWrsGzZMixfvhx79+7F0qVL8frrr2Pp0qVW5xmqTQQKIWyOmU2bNg2FhYWWr7Nnz3ps/ERERAAsU0eAbWGu+c+DW8VjwvJ9NpkOe03tAgMM6NI0BqFBAVi44Zikehwp5NazyMmwqLnvk6rBzF/+8hf89a9/xfDhw5GWloZHH30UL7zwAubOnQsAMBqNAG5laMzy8vJssjVmoaGhiIqKsvoiIiLytAEt4u0W5hqjw/DuyLb4Zn+OpO7AZu7uju2InGyLOeMkJTQxRodZtmvwNlWnmUpLSxEQYB1PBQYGWpZmJycnw2g0Yv369WjTpg0A4MaNG9i6dSvmzZvn9fESERHVpHphbmxk5ZSL1O7AVZvaubM7dk3M2ZYKk7AZZ/WMSk3FyuY/j+mWhHSV931SNZi5//77MXv2bDRu3Bh33XUX9u3bhwULFmDMmDEAKqeXJk2ahDlz5iAlJQUpKSmYM2cOIiIiMHLkSDWHTkTkM6Tc1HyNJ1+zeYqoKqnZkKrnKb0iqGo9i5wOvuaMU/XztbQDt6rBzDvvvIOXXnoJ48ePR15eHhISEjB27Fj84x//sJwzZcoUXLt2DePHj8fly5fRqVMnZGRkIDIyUsWRExH5Bq21pfcGJV6z3GBIzmonud8jRdV6lvWHciXt7F2Vo4yTVoJegxBCvZ2hvKCoqAjR0dEoLCxk/QwRURXmZmjVbwLm25On6h/UzAQp8ZpdCYYqTALd521yutpp29TelvfC2ffYUyciCI93ScbHO05Z7eNkHl96qtFmNZWzcahFzv2bG00SEfmhmopLBSpvanKX8UqhZiZIidfsKBiqKasB1Fx7Yn7+4R0ayfoee2YPScOglgl4tk+K3YAx82S+7NodPeBGk0REfsK8UeCarPP4eHu25JuaUhy1xffWBoVyinDtcRYMATXvS+RotZPZmxuOo/u8TVbvg7Pvqeq+lvG4+b+/YwDo0jQGD7RugC5NYyzBmdQ6nO0n/vD6/kruYGaGiMgP2MuISKFUEapamaCqXCnCrcqVFUnVmWtPFm06gTc3HLN53F6Gp2q9yoZDufhq3zlcLi23fE+tkEAEBwbgv7/m4L+/VgZCjrJdUutwFm0+iS/3ntdN7RQzM0REPk7ORoHVKVWE6m5WRAlSX8vxi8XIPJlvk5lwNxiqauVu+9sPOMrwmFdIvXT/Xfjl7/2w4qnOeGt4a7zQNwUlNyqs6mMAx9kuOX1jvJUxUwKDGSIiH+Zq4zXzDs1KtaVXMhBwldQb+aLNJzFi8U6bKR+5K5KqTutVDY7cDezMgc19LROwcrf9Lvc1BUWOOhVLvYYWMZghIvJhrjRe80RbeleWJitNzo0csM1MOAuGqgaA6w7koPu8TRixeCeeX5llFRwpFdi5GhTJqcPxRsZMCQxmiIh8mCuZDk+0pZcTCHiS3Bs5cCszIWX/pap9XBwVOp+6VCJprM4CO3eCogEt4rFtam9M7NXM5WtoCQuAiYh8mNRMx0v3Nke9yFCP9X1x1hYf8N4GhVULarefuIRFm084PLd6Ua+zbrjmPi41FTqv2HUGxqgwXCyqueeMs8DO3WxXYIAB3ZrVq/H1V7+GVrtFM5ghIvJh5oyIs2Zto7sle/ympKW2+Oa6E1eyGzV1w5XSxyW3qAwv9L0dCzcccyuwk/p3W1NQJOcaWu4WzWCGiMiHaSkjAmivLb6r2Q17+y8B0qdjkupFuB3YKfF3K/UarmyB4E0MZoiIfJyWMiKA40BADUpkN6qSExx1aRrjdmCnxN+tElNnnu4R5Az3ZiIi8hNarXdQm7kPD2A/MyEn6+DKHkxKUOLv1tE1Mk/mY8TinU6/f8VTnRUNUrk3ExER2dBSRkRLlMxcqTWtp8TfrbtTZ2queGIwQ0REfk/JWh6tTeu5Sws9gpxhMENERARlM1daK3R2h9J1RZ7AYIaISGdY+6IeOe+9r0zraW1FnD0MZoiIPMQTQYdavT4YQKn33muB1qfOuJqJiMgDPHHjM6+6qf6PtiurbuQ+r9TX4qtBj1rvvdZ48+9Xzv2bwQwRkcI8ceMzL/l11F3WU0t+5bwWX81cqPXe+zs5929uNElEpKAKk8Csbw85bDAG3Nq4UA5Xd0h2h5zXYg56HG2uaN55Wo/UeO9JHgYzREQK8tSNT41eH1Jfy87f8z0SwGmFHvqs+DsGM0RECvLUjU+NXh9Sxyhlc0W5AVyFSSDzZD7WZJ1H5sl8VQMhPfRZ8XdczUREpCBP3fjU6PUhfYzSAg2pwZG92htjVChGdGyMpHq1vF5Y3DG5LoxRocgtKrP7uJLvva8WUHsagxkiIgV5KujwRq+P6jfSdol1JL2WLk3qYdHmk06vLyU4clRwnFtUhjc3HLf82ZuFxesP5eJ6ucnuY0r2WfHVAmpv4DQTEZGCzEEHcOtGZ+bujc/c68MYbR0UGKPD3F4avO5ADrrP24QRi3fi+ZVZGLF4J3q8thmDW8Vbjd2s6mvp3DQG8dFhNudUPTc+Ogwmk6hx2qimguPqvFVYbA6urpTetPt4dESwIsuyfbmA2hu4NJuIyAM8+Vu20lMRzpZfP31PMr7Zn1Pja6lp52kBoHZEsFVAYO+9kLo7c9Vre3JJtLMl2UDl63D3+bn02z7umk1EpDJP7s2jZJt8Z8uvDQC+2Z+DrX/phT2nLzt8LY46xNaOCMbl0ps2mQ1zxqFqVkNuUXTVwmJPbBvgbDUXFHp+OSvgfGF7BE9gMENE5CGuBB3eLgCVeiPdc/qy09dSPYCrd1soXvwsy+F1Dahcsp2eakRggMHl1UCeWhLtrSXZXPrtPgYzREQa4WxqyhOBjtI30qoBXObJfIcrgADbjIOz4mlHPLUk2ltLsrn0230MZoiINMDhKp7/TcdIqVtxhSdvpHIDpZpWbNkjd2WY3GDQW8vh1Vh272u4momISGXO6lYEgH/9mK3oShdzU7rcwmuoWyvE6UokV26krgRKjlZs2RsXIH1lmL3VWt3nbarxvfPkyjQ1nseXcTUTEZHK5K7iqcqVlS72prMcXRtwfUdo8yodZxkHe2OvmkU5dakUK3adQW6Ra1kpdzf+9Fb/F/aZscZds6tgMENEWrcm6zyeX5nl1jVWPNVZUrGxoxu7PUrcSGtasg1ID5RcrRdSatmztwqz2QH4Fi7NJiLF6fkfWa2PXYnCTin1KVKa0tWtFYyX7rsLxihl3qf0VCMm9U3Bku2ncOXareXZRpmBkqvL0ZVa9qzkcviaeOt5fA2DGSJySs/pbz2M3dVVPFVJCYik9E0pKLkJY1SYIjdUe+997fBgPNEtGRN7N/NKQMllz/6BBcBEVCM9t1nXy9hrKgB1Rk6BrtQb9vcHctzaqbrCJPDWhuN4xs57X3jtJhZuOIb1h3JdurZcXPbsHxjMEJFDzlbZAJVNz1y96XmS3sYudRVPVXJXuki9YX+SeVrSah971h3IQbdXN+LNDcfsPu7t996c9fLEai3SDgYzROSQnHoDrdHj2Ae0iMe2qb3xQt/bJZ0vd4NJZzf26qRksMxLvNdkncdbG47hmWV7a2yUB3j3veeyZ//AmhkickjP9QZ6HvvK3WdqfLx2RDDeHdEWnZvGyLoJy21KZ2/LgaqkLvF2xFvvvaN9o+QWIZN2MZghIoc8UW/grZVFeq2VkFKke6X0JgICDC69b45u7I44Wu0jZ4m3I9587z258Sepj8EMETmkdJt1b64s0muLeG9klKre2L8/kINPMk/Lej4pS7xr4s33XuvL8kkZrJkhIoeUrDfw9soivdZKeCujZO5nMlBiEFn1+aRkj5zxxnvvyhYGpE8MZoioRo5W2cgpPlVrZZESY/c2b6++kfp87RLrWAp9t5+45PLzxXvpvdfLsnxSBrczICJJpKbr7Z23K7tA0t5DUlvye2rsSn2fu9zdS8jV5wPsbzlgb8duV7zQNwUTe6d4/D1UagsDUhe3MyAixUlps+6oJmZQC6Ok5/DU6hZXWsSr3Tk4OiIYV0pvWh2rHRGMuUPTFH/+mlb7DG4Vjw9/zHar0NfbHZeV2sIAYM2NXjCYISJFOMom5BZex0fbT0m6hlZWFtX0WsYt2+vRaZKaVgldrhbcKMneap92iXXQ47XNsgIZ821+Ut/bkVQvQpUAQKkiarUDWpKOwQwRuU1KTUyAARDCfm8TtVYW2futG0CNr6WmvitKjMfZKqG/rf4Nve+MQ0iQ8iWP1TNYmSfzZU8taaF3ixJF1GoGtCQfgxkicpuU1S3m2t7qzdqUXlkkdVrA0W/dwzs0VmyKQi6pG0F2nrsRcx5s4dLNVM60iZxpv9rhwXh3VFt0biKvkZ8nuLss31lw7smAllzDYIaI3Cb1pjemWxK+P5DrsS6sUqcFavqt29GeQtVJfc1Vg4d6t4UCArhUUmY3kJB6zYKSGy5lB+ROm8iZ9rty7SYCDK418lNaTZ2OpQTPStbckHcwmCEit0m96aWnGjH93lSPFFRKnRaQMiUmhZTX7Kzdf/VAQm7NkJzsgCvTJh2T68IYFep0ryUzLW0N4c4WBnreCsNfMZghIrfJSeu7srLIGTnTAu42fJNa3yOl3X/1QMLZ+1iV3BU5rkybBAYYMLxDIyzceMLJaCpppYDbzNUtDPS6FYY/Y9M8InKb2t125UwLyPlt2pXXUmES2H7iEv765W+SAhLgVsPAqu+jVFJej6s7iK87kIOPdzjf6gCorJnR2tYQwK2i5gdaN0AXiRtzertxIbmPwQwRKULNbrtSA5TtJy6hXq1QSee+0DdF9msxt88f9f/9jCvXpC2jrh5ImN/HurWCJX2/o+xAhUlU6dj7h6RrVX0fzZklqa/jiW5JmqiXUYLawTnJx2kmIlKMq2l9dxuTSU33L9p8Al/sOYfaEcEoLL1Z45TYxN6V3WqljsvdXaSrBhIDWsSj951x6Dx3IwpKbtg9v6bpLme1Oo6Y30e5G0nWiQjGxN4psp5L69ypuSHvYzBDRIqSWxOjRGMyObUmF4tunSNlpYuU1+LuLtKAbUAWEhSAOQ+2qHGbAXvZAVeCquqBkZy6IgOAuUPTfDJL4WpwTt7HaSYiUo1SmwHWNC1QnbngtU5EMOKirKecXJ0Sc6eouKb6C0dTd3VqBePdkW1sxulKUGUvMJI6bVc7Itjnm8e5UnND3sfMDBGpQunGZI6mBewRqNwa4NMnOyHAYHD7t+4Nh3Jlfw8grf5iQIt4mEzA39ccsEw5FZTcxD/XHkZAgMEqkHAlqLI3bSJ12u7dEW3RLaWerOcj8gQGM0SkCk9sBlhWbsLrD7XCjt8v4d3NJ52O4dLVMjzQuoHcoVtZdyBH8t5T1Umpv1h3IAcTlkvrDyM1ozKxVzOkxN3mMICTutS+MxvGkUYwmCEiVXhyM0B3VwJJZc4uSVE7IhjvDG+DAIPBYQdgR9eXmr2S+nq6NatXY4Aot4Mud5YmtTGYISJVeHIzwIKSmpcTK7WxpZxpnVeHpuHu2+srev3q2St39ySqSupqHu4sTVrAYIaIVOHJzQCrX8dTG1vK2ZPKlRu73OyVu3sSVedsNQ93liat4GomIlKF3MZkVZvAZZ7Mx87f8yVlRerUCrH6s5JN/OTsSeXJ61c9T+nmhY5W80jZ48rc2ZjI05iZISLVuDOVUTtcWl3MS/c2hzE63CP1HEpO67hyfaCyFqf69b3RH4U7S5OWMJghIlW5OpUhtc2+MTrcYzdTpad1HF3/mf81zrPnSulNrD+Ua5Nx8cSGnlVxZ2nSEk4zEZHqXJnKcMYTmwFWn+qqMAmP70mVnmpE7QjHWSjziiZvT+dwZ2nSEmZmiEizXO2s64nNAJ2t2vHUtM6u7AJcKXWchVJrOsfTU2xEcjAzQ0SaJbmtfrX6GaV36pay7YKn2t5rdTqHO0uTlqgazCQlJcFgMNh8TZgwAQAghMDMmTORkJCA8PBw9OzZEwcPHlRzyETkRfVuC3V+EoB3RrTBiqc6463hrbHiqc7YNrW3YoGM2qt2tDyd4+kpNiXYmxok36PqNNPu3btRUVFh+fOBAweQnp6OYcOGAQDmz5+PBQsW4OOPP8btt9+OV155Benp6Th69CgiIyPVGjYReYvE+06AwXPFrmqv2tH6dI6Wd5ZmQz//oWpmpn79+jAajZav//73v2jatCl69OgBIQQWLlyI6dOnY+jQoWjRogWWLl2K0tJSLF++XM1hE5GXXCopU/Q8V6g9zaOH6Rwt7iyt1I7spA+aqZm5ceMGli1bhjFjxsBgMCA7Oxu5ubno16+f5ZzQ0FD06NEDO3bscHidsrIyFBUVWX0RkT5pYYpFC2PQw3SOlqg9NUjep5nVTF9//TWuXLmC0aNHAwByc3MBAHFxcVbnxcXF4fTp0w6vM3fuXMyaNctj4yQi79HCFIsWxgBoezpHa9SeGiTv00xm5qOPPsLAgQORkJBgddxgsP6gCiFsjlU1bdo0FBYWWr7Onj3rkfESkedpYYpFC2OoOhatTedokdpTg+R9mghmTp8+jQ0bNuDJJ5+0HDMaK/cyMWdozPLy8myyNVWFhoYiKirK6ouI9EsLUyxaGANJp4WpQfIuTUwzLVmyBLGxsbj33nstx5KTk2E0GrF+/Xq0adMGQGVdzdatWzFv3jy1hkpEKtDCFIsWxkDSaGVqkLxH9WDGZDJhyZIlePzxxxEUdGs4BoMBkyZNwpw5c5CSkoKUlBTMmTMHERERGDlypIojJiI1eHqvIb2MgZzz9J5ZpD2qBzMbNmzAmTNnMGbMGJvHpkyZgmvXrmH8+PG4fPkyOnXqhIyMDPaYISKiGkndkZ18g0EI4dNr04qKihAdHY3CwkLWzxAR+ZkKk+DUoE7JuX+rnpkhIiLyFE4N+gdNrGYiIiIichWDGSIiItI1BjNERESkawxmiIiISNcYzBAREZGuMZghIiIiXWMwQ0RERLrGYIaIiIh0TXYwM3r0aPz444+eGAsR/U+FSSDzZD7WZJ1H5sl8VJh8ulE3EZFbZHcALi4uRr9+/dCoUSM88cQTePzxx9GgQQNPjI3IL607kGOzn0w895MhInJIdmbmyy+/xPnz5zFx4kR8/vnnSEpKwsCBA/HFF1/g5s2bnhgjkd9YdyAH45bttQpkACC38DrGLduLdQdyVBoZEZF2uVQzExMTg+effx779u3Drl270KxZMzz66KNISEjACy+8gOPHjys9TiKfV2ESmPXtIdibUDIfm/XtIU45ERFV41YBcE5ODjIyMpCRkYHAwEAMGjQIBw8eRGpqKt58802lxkjkF3ZlF9hkZKoSAHIKr2NXdoH3BuVBrAsiIqXIrpm5efMmvvnmGyxZsgQZGRlo2bIlXnjhBYwaNQqRkZEAgJUrV2LcuHF44YUXFB8wka/KK3YcyLhynpaxLoiIlCQ7mImPj4fJZMKIESOwa9cutG7d2uac/v37o3bt2goMj8h/xEaGKXqeVpnrgqrnYcx1Qe8/0pYBDRHJIjuYefPNNzFs2DCEhTn+B7VOnTrIzs52a2BE/qZjcl3ER4cht/C63boZAwBjdBg6Jtf19tAU46wuyIDKuqD0VCMCAwxeHh0R6ZXsmpnBgwejtLTU5nhBQQGKiooUGRSRPwoMMGDG/akAKm/qVZn/POP+VF3f5P2tLoiIvEN2MDN8+HCsXLnS5vhnn32G4cOHKzIoIn81oEU83n+kLYzR1plPY3SYT0y/+FNdEBF5j+xppp9//hkLFiywOd6zZ09Mnz5dkUER+bMBLeKRnmrEruwC5BVfR2xk5dSSnjMyZv5SF0RE3iU7mCkrK0N5ebnN8Zs3b+LatWuKDIrI3wUGGNClaYzaw1CcP9QFEZH3yZ5m6tChAz788EOb4x988AHatWunyKCIyDf5Q10QEXmf7MzM7Nmz0bdvX+zfvx99+vQBAGzcuBG7d+9GRkaG4gMkIt9irguq3mfGyD4zROQigxBCdtvNrKwsvPbaa8jKykJ4eDhatmyJadOmISUlxRNjdEtRURGio6NRWFiIqKgotYdDJEmFSeiiZsadcSr5GvXyfhGRdHLu3y4FM3rCYIb0Ri/dcbUyTq2Mg4iU5fFgxmQy4cSJE8jLy4PJZLJ67J577pF7OY9iMEN64qg7rjnHoJXl2VoZp1bGQUTKk3P/ll0zs3PnTowcORKnT59G9TjIYDCgoqJC7iWJvEbL0xF66Y6rlXFqZRxEpD7ZwcwzzzyD9u3bY+3atYiPj4fBwH8kSB+0Ph0hpzuumsu2tTJOrYyDiNQnO5g5fvw4vvjiCzRr1swT4yHyCD1sbqiX7rhaGadWxkFE6pPdZ6ZTp044ceKEJ8ZC5BHOpiOAyumICpO6tfBa745bYRLIPJmP4xeLJZ3v6XFq/f0iIu+RnZl59tln8eKLLyI3NxdpaWkIDg62erxly5aKDY5ICXqZjtByd1x7U3SOeGucWn6/iMi7ZAcz//d//wcAGDNmjOWYwWCAEIIFwKRJepmOMHfHHbdsLwyA1Q1aze64jqbo7PHmOLX6fhGR98kOZrKzsz0xDiKP0dN0hNa649Y0RWePt8eptfeLiNQhO5hJTEz0xDiIPEZv0xFyds329FJzZ1N0ZhN7NUO3ZvVUWeruy7uME5E0soMZs0OHDuHMmTO4ceOG1fHBgwe7PSgiJWlhOkJu0CFl12xvLDWXOvWWEnebqvVGvrrLOBFJIzuY+f333/Hggw/it99+s9TKALD0m2HNDGmRmtMRngg6vLXUXE9TdETkv2QHM88//zySk5OxYcMGNGnSBLt27UJ+fj5efPFFvP76654YI5EipE5HKDl144mgw5udb/U2RUdE/kl2MJOZmYlNmzahfv36CAgIQEBAALp37465c+fiueeew759+zwxTiJFOJuOUDKL4qmgw5tLzbUwRUdE5IzspnkVFRW47bbbAAD16tXDhQsXAFQWBh89elTZ0RF5kTmLUj1QMGdR1h3IkXU9OUGHHN5eam6eojNGW08lGaPDNNE5mYhIdmamRYsW+PXXX9GkSRN06tQJ8+fPR0hICD788EM0adLEE2Mk8jhPZFE8FXSoUcfCFUNEpGWyg5m///3vKCkpAQC88soruO+++3D33XcjJiYGK1euVHyARN7giakbTwUdatWxcMUQEWmV7GCmf//+lv9v0qQJDh06hIKCAtSpU4c7aJNueSKL4qmgg3UsRETWZNfMjBkzBsXF1hvN1a1bF6WlpVZbHBDpiSeyKOagA7gVZJi5GnSYN3ssKzdhUt8UxEWFWj3OOhYi8kcGYW4UI1FgYCBycnIQGxtrdfzSpUswGo0oLy9XdIDuKioqQnR0NAoLCxEVFaX2cEijKkwC3edtcppF2Ta1t+yMh1IrpOxdxxgVhhEdGyOpXgTrWIjIp8i5f0ueZioqKoIQAkIIFBcXIyzs1m+oFRUV+O6772wCHCK98OTUjRLFs4761Vwsuo6FG47h/Ufasp6FiPyW5GCmdu3aMBgMMBgMuP32220eNxgMmDVrlqKDI/ImT3YJdqd41ptN8szPx1VLRKQnkoOZzZs3QwiB3r1748svv0TdureKFkNCQpCYmIiEhASPDJLIW7S4BNmbTfK8sd8TEZHSJAczPXr0AABkZ2ejcePGXLlEPktrS5C91STPW/s9EREpTfZqpk2bNuGLL76wOf75559j6dKligyKiG7xRpM8Z1NZQOVUVoVJ1noBIiKvkB3MvPrqq6hXr57N8djYWMyZM0eRQRHRLeZ+NY5yoQZUTgW50yTPU1svEBF5g+xg5vTp00hOTrY5npiYiDNnzigyKCKlmPuyrMk6j8yT+brMLHiiX0113t7viYhISbI7AMfGxuLXX39FUlKS1fH9+/cjJkY7dQZEvlTM6smVVoA6+z0RESlFdjAzfPhwPPfcc4iMjMQ999wDANi6dSuef/55DB8+XPEBErnCF4tZPbnSSq39noiIlCA7mHnllVdw+vRp9OnTB0FBld9uMpnw2GOPsWaGNMHbfVm8yVMrrbjfExHpmeztDMyOHTuG/fv3Izw8HGlpaUhMTFR6bIrgdgb+J/NkPkYs3un0vBVPddbUEmwt8KWpOSLSN49sZ1BdUlIShBBo2rSpJUNDpAUsZnWdFpsGEhE5I3s1U2lpKf70pz8hIiICd911l2UF03PPPYdXX31V8QESycViVveYp7IeaN0AXZrGMJAhIs2THcxMmzYN+/fvx5YtW6w2m+zbty9WrVql6OCIXOGNvixERKQdsoOZr7/+GosWLUL37t2ttjRITU3FyZMnFR0ckSu80ZeFiIi0Q3Yw88cffyA2NtbmeElJCfdrIs0w92UxRltPJRmjw9xelu0LjfiIiHyJ7MrdDh06YO3atXj22WcBwBLALF68GF26dFF2dERu8EQxK1f7EBFpj+xgZu7cuRgwYAAOHTqE8vJyvPXWWzh48CAyMzOxdetWT4yRyGVK9mXxxUZ8RES+QPY0U9euXbF9+3aUlpaiadOmyMjIQFxcHDIzM9GuXTtPjJFIddxVmohIu1xqEJOWloalS5cqPRYizZKzqzQb8REReZdLwUxFRQVWr16Nw4cPw2AwoHnz5njggQfYPI98FhvxERFpl+zo48CBA3jggQeQm5uLO+64A0Dl1gb169fHN998g7S0NMUHSaQ2NuIjItIu2TUzTz75JO666y6cO3cOe/fuxd69e3H27Fm0bNkSTz/9tCfGSKQ6uY34uHybiMh7ZAcz+/fvx9y5c1GnTh3LsTp16mD27NnIysqSPYDz58/jkUceQUxMDCIiItC6dWvs2bPH8rgQAjNnzkRCQgLCw8PRs2dPHDx4UPbzELlDTiO+dQdy0H3eJoxYvBPPr8zCiMU70X3eJqw7kOPVMRMR+QvZwcwdd9yBixcv2hzPy8tDs2bNZF3r8uXL6NatG4KDg/H999/j0KFDeOONN1C7dm3LOfPnz8eCBQuwaNEi7N69G0ajEenp6SguLpY7dCK3SGnEZ16+Xb1Y2Lx8292AhhkfIiJbBiGErH8Nv/vuO0yZMgUzZ85E586dAQA7d+7Eyy+/jFdffRXdu3e3nOtsy+6//vWv2L59O3766Se7jwshkJCQgEmTJmHq1KkAgLKyMsTFxWHevHkYO3as0/HK2UKcSIoKk7DbiK/CJNB93iaHq54MqAx8tk3t7VLjPjbsIyJ/Iuf+LTuYCQi4lcwxd/81X6Lqnw0GAyoqKmq8VmpqKvr3749z585h69ataNCgAcaPH4+nnnoKAPD777+jadOm2Lt3L9q0aWP5vgceeAC1a9e2uzy8rKwMZWVllj8XFRWhUaNGDGZ0wlGgoIfnzDyZjxGLdzo9b8VTnWUv33bUsM88Sjbsk0+NnzUikk5OMCN7NdPmzZtdHlh1v//+O95//338+c9/xt/+9jfs2rULzz33HEJDQ/HYY48hNzcXABAXF2f1fXFxcTh9+rTda86dOxezZs1SbIzkPWpkHpR8Tk8t33bWsM+AyoZ96alG3owlYpaLyLfIDmZ69Oih2JObTCa0b98ec+bMAQC0adMGBw8exPvvv4/HHnvMcl71DSzNmR97pk2bhj//+c+WP5szM6RtamwVoPRzemr5Nhv2KYvbUhD5HtkFwC+99JLd6aPCwkKMGDFC1rXi4+ORmppqdax58+Y4c+YMAMBoNAKAJUNjlpeXZ5OtMQsNDUVUVJTVF2mbGlsFeOI55S7flooN+5TDbSmIfJPsYOaTTz5Bt27dcPLkScuxLVu2IC0tDadOnZJ1rW7duuHo0aNWx44dO4bExEQAQHJyMoxGI9avX295/MaNG9i6dSu6du0qd+ikUXIyD1p+TjnLt+Vgwz7lqPGzRkSeJzuY+fXXX5GUlITWrVtj8eLF+Mtf/oJ+/fph9OjR2LZtm6xrvfDCC9i5cyfmzJmDEydOYPny5fjwww8xYcIEAJXTS5MmTcKcOXOwevVqHDhwAKNHj0ZERARGjhwpd+ikUWpkHjz1nFKWb8vlqYyPP2KWi8g3ya6ZiY6OxsqVKzF9+nSMHTsWQUFB+P7779GnTx/ZT96hQwesXr0a06ZNw8svv4zk5GQsXLgQo0aNspwzZcoUXLt2DePHj8fly5fRqVMnZGRkIDIyUvbzkTapkXnw5HMOaBGP9FSjYitlzBmfccv2wgBYTZG4k/HxR8xyEfkm2UuzAeCdd97B1KlT8eCDD2LPnj0IDAzE8uXL0apVK0+M0S3sM6N95v4suYXX7dYyuNufRSvP6S4trsDR2/JmPf69E/krjy7NHjhwIHbv3o1PPvkEDz30EK5du4Y///nP6Ny5M2bNmoUpU6a4PHDyT0pkHuTeVPWY7VA64+MuLQZXzujx752InJOdmUlPT8fSpUuRkJBgdXzt2rV48sknkZOjrf1nmJnRD1dvju7cVPV4Q9YCvTfx4987kfZ5tANwTS5duoR69eopdTlFMJjRF7kZFiVuqnqbKlGbp7dt8Bb+vRNpm0emmXbt2oV27dohMDAQgG3jurKyMmzatAkPP/ywi8MmX+LqjSIwwCC58ZtSnXHlPCf5ThM//r0T+Q7JwUyXLl2Qk5OD2NhYAJWrmrKystCkSRMAwJUrVzBixAgGM+S1FL6v3FT1hsubiUhrJPeZqT4bZW92SsEZK9Ip87RP9SDD3Cp+3QHlaqp4U1UHlzcTkdbIbppXE0f7JZF/8HareN5U1cEmfkSkNYoGM+TfvN0qnjdVdXhq2wYiIlfJ6jNz6NAhy6aPQggcOXIEV69eBVC5kon8m7enfdgzRD3mbRuq10YZubyZiFQgK5jp06ePVV3MfffdB6Byeqn66ibyP2pM+/Cmqh6tNfEjIv8lOZjJzs725DjIB5infZy1ild62oc3VfVweTMRaYHkYCYxMdGT4yAfoOa0D2+qRET+iwXApJgKk0B0eAjGdEtCnVrBVo8Zo8M03+KeiIj0SfZGk0T22GuUV7dWCIa0TkB6qpHTPkRE5DEMZshtjvZHulxyA0u2n2IgUw33BCJ/x88AKY3BDLlFqf2R/AV3ayZ/x88AeYJLNTPl5eXYsGED/vWvf6G4uBgAcOHCBUvPGfIf3m6Up2fe3OqBSIv4GSBPkR3MnD59GmlpaXjggQcwYcIE/PHHHwCA+fPnY/LkyYoPkLSN+yNJ4+2tHoi0hp8B8iTZwczzzz+P9u3b4/LlywgPD7ccf/DBB7Fx40ZFB0fax/2RpGEGi/wdPwPkSbJrZrZt24bt27cjJCTE6nhiYiLOnz+v2MBIH9RqlCeVVgoNmcEif8fPAHmS7GDGZDKhoqLC5vi5c+cQGRmpyKBIP7S8P5KWCg2ZwSJ/x88AeZLsaab09HQsXLjQ8meDwYCrV69ixowZGDRokJJjI50w749kjLb+R0jNRnlaKzTkDt/k7/gZIE8yiKo7R0pw4cIF9OrVC4GBgTh+/Djat2+P48ePo169evjxxx8RGxvrqbG6pKioCNHR0SgsLERUVJTaw/FpWpnSqTAJdJ+3yeH8vHnqa9vU3l4dnznAAuxnsNghmXwdPwMkh5z7t+xgBgCuXbuGlStXYs+ePTCZTGjbti1GjRplVRCsFQxm/E/myXyMWLzT6Xkrnurs9f2ctDT1RaQGfgZIKsWDmbZt22Ljxo2oU6cOXn75ZUyePBkRERGKDdiTGMz4nzVZ5/H8yiyn5701vDUeaN3A8wOqRisZLCK18DNAUsi5f0sqAD58+DBKSkpQp04dzJo1C88884xughnyP1ovNOQO3+7hjVD/+BkgpUkKZlq3bo0nnngC3bt3hxACr7/+Om677Ta75/7jH/9QdIBEcml9uTi5jlMURGSPpGmmo0ePYsaMGTh58iT27t2L1NRUBAXZxkEGgwF79+71yEBdxWkm/8RCQ9/jaENT/p0S+SaPFgAHBAQgNzdXc6uWHGEw47/4W7zv0OoKNSLyHMVrZqoymUwuD4zImwa0iEd6qpH1FdXoseZETit81mIQ+R9Jwcw333yDgQMHIjg4GN98802N5w4ePFiRgREpgYWG1vSarWIrfCKqiaRgZsiQIZappSFDhjg8z2Aw2N3qgEjL9JipcIWjmhNzV2Qt15xofYUaEalLUjBTdWqJ00zkS/SaqZCrwiQw69tDdld3CVTWnMz69hDSU42aDOS4Qo2IaiJ7byZHzp49izFjxih1OSKP09r+TZ4kp+ZEi8wbmgKw2dtH7Q1NiUh9igUzBQUFWLp0qVKXI/IoZ5kKoDJTUWGSvduH5OfPPJmPNVnnkXky32PPY+YLNSda3NCUiLRB9momIl+g5uoYNaa2fKXmhCvUiMgeBjPkl9TKVKhVhOtLNSdcoUZE1Sk2zUSkJ2pkKtSc2mLNCRH5MsmZmaFDh9b4+JUrV9wdC5HXqJGpULvxm7nmpPoUl9EHV28RkX+RHMxER0c7ffyxxx5ze0BE3mDOVIxbthcG2N+/SelMhRaKcFlzQkS+SHIws2TJEk+Og8jrvJ2p0EoRLmtOiMjXsACY/Jo3MxW+VIRLRKQlDGbI73krU6HG1BYRkT/gaibyOm83jNMSNn7TB3/+GSXSI2ZmyKv8ZS+kmrAIV9v4M0qkPwYhhE//ylFUVITo6GgUFhYiKipK7eH4NUcN48y3cGYmSG38GSXSDjn3b04zkVeovReSXJxm8D96+xklols4zUReoXbDODk4zeCf9PQzSkTWmJkhr9BCwzgpzNMM1W9q5r2T1h3IAcDMjS/Sy88oEdliZoa8QisN42ribJrBgMppBpNJ4J9rDzNz42P08DNKRPYxM0NeYW4Y52i9jgGVAYGaDeOkTjOMX77PaeaG9EcPP6NEZB+DGfIKPeza7M70AQtE9U8PP6NEZB+DGfIarTeMc3f6oGqBKOmT1n9Gicg+1syQV2m5YZyzvZOkYoGovmn5Z5SI7GMwQ16nxV2bK0wCu7ILMKiFER9tP2XzePW9lGrCAlH90+LPqN6YP1MMCMkbGMyQ37PXVybAAFQtfTFGh+Gle1Pxz7WHuOs1kRPs1UTexmCG/Jqj9vXmTT7GdEtCeqrR8ltlQAC46zVRDRx9pswr/lh7RJ7AAmDyW1L6ynx/INcqPc4CUSLHuCUEqYWZGfJbrravZ4EokX3cEoLUwmCG/JY77etZIEpki1tCkFo4zUR+i+3riZTFzxSphcEM+S09tq/nBpekZc4+U0DlSsHLJWVeGxP5B04zkd8yt6/Xy+okLnclrav6mXLEJIAJy/fh/QADf25JMczMkF/Ty+ok83JXdza4ZFaHvGFAi3i8O7ItnP0OwFVNpCRmZsjvaX11kpQl5LO+PYT0VKPDMTOrQ95Up1YIaopTuKqJlMbMDBFurU56oHUDdGkao5lABpC33NUeJbI6RHJwVRN5G4MZIo1z58bAJmakBq5qIm9TNZiZOXMmDAaD1ZfRaLQ8LoTAzJkzkZCQgPDwcPTs2RMHDx5UccRE3ufOjcHdrA6RK/S4UpD0TfXMzF133YWcnBzL12+//WZ5bP78+ViwYAEWLVqE3bt3w2g0Ij09HcXFxSqOmMi73LkxMN1PajCvagJg83OrxZWCpH+qBzNBQUEwGo2Wr/r16wOozMosXLgQ06dPx9ChQ9GiRQssXboUpaWlWL58ucqj1i6uWPE97twYmO4ntehlpSD5BtVXMx0/fhwJCQkIDQ1Fp06dMGfOHDRp0gTZ2dnIzc1Fv379LOeGhoaiR48e2LFjB8aOHWv3emVlZSgru9WQqaioyOOvQSu4YsV3mW8M1f9+jU7+fs1ZndzC63brZgz/uwbT/eQJWl8pSL5D1WCmU6dO+OSTT3D77bfj4sWLeOWVV9C1a1ccPHgQubm5AIC4uDir74mLi8Pp06cdXnPu3LmYNWuWR8etReYVK9VvWOYVK/xNSP9cuTHorTEgeU+FSXglyOA+ZuQNBiGEZuYhSkpK0LRpU0yZMgWdO3dGt27dcOHCBcTH37oJP/XUUzh79izWrVtn9xr2MjONGjVCYWEhoqKiPP4a1FBhEug+b5PDQk/zb9/bpvbmTctPMWtHVfHngfSgqKgI0dHRku7fqk8zVVWrVi2kpaXh+PHjGDJkCAAgNzfXKpjJy8uzydZUFRoaitDQUE8PVVPkrFjhb0j+iel+MmMWl3yR6gXAVZWVleHw4cOIj49HcnIyjEYj1q9fb3n8xo0b2Lp1K7p27ariKLWHK1ZICi03BiTvYN8h8lWqBjOTJ0/G1q1bkZ2djZ9//hkPPfQQioqK8Pjjj8NgMGDSpEmYM2cOVq9ejQMHDmD06NGIiIjAyJEj1Ry25nDFChFJwb5D5KtUnWY6d+4cRowYgUuXLqF+/fro3Lkzdu7cicTERADAlClTcO3aNYwfPx6XL19Gp06dkJGRgcjISDWHrTlcsUJEUjCLS75KUwXAniCngEjPzPPggP0VK5wHJ6LMk/kYsXin0/NWPNWZ9XWkOjn3b03VzJDr2KCKiJzhNgPkqzS1monc4ysrVrzV/0Jr/PV1k/ew7xD5Kk4zkab4a/8Lf33dpA7+vJEeyLl/M5ghzXDU/8KVuh89ZTmUfN1EUunpM0L+SbdN88h/Oet/YUBl/4v0VKPTf3D19Funkq+bSA5uM0C+hAXApAlK9b8wZzmqX8vc3XTdgRwlhqsY9v0gInIfgxnSBCX6X+ixuyn7fhARuY/BDGmCEl2M9ZjlYPdmIiL3MZghTVCi/4Uesxzs+0FE5D4GM6QJ5v4XAGxu7FL7X+gxy6HE6yYi8ncMZkgz3O1irNcsB7s3ExG5h31mSHPc6X+h5z2q2PeDiOgWNs2rgsGM/9FTnxkiIrKPTfPIr/nKHlVKYtaHiHwZgxnySexuegszVUTk61gATOTD9NYRmYjIFczMuMjf0/b+/vr1gPs+EZG/YDDjAn9P2/v769cLOR2ROSVHRHrGaSaZ/D1tr7XXX2ESyDyZjzVZ55F5Ml9T+y6pTY8dkYmIXMHMjAz+nrbX2utnhqhmeuyITETkCmZmZNDjRoZK0tLr11qGSIv02hGZiEguBjMy+HvaXiuv31mGCKjMEPn7lBP3fSIif8FgRgYtpu29WTOildevpQyR1nHfJyLyB6yZkcGcts8tvG43K2BA5U3CW2l7b9eMaOX1ayVDpBfsiExEvo6ZGRm0lLZXo2ZEK69fKxkiPTF3RH6gdQN0aRrDQIaIfAqDGZm0kLZXs2ZEC6+fha1ERFQVp5lcoHbaXu1maGq/fnOGaNyyvTAAVkEdC1uJiPwPgxkXqbmRoRZqRtTeyNGcIapeM2RknxkiIr/DYEaHWDNSSe0MERERaQODGR3SyqoidymxWaXaGSIiIlIfgxkd8oWaEW5FQERESuFqJp3SwqoiV3ErAiIiUhIzMzqmx5oRrW1WSURE+sdgRuf0VjOi9rJyIiLyPZxmIq/SwrJyIiLyLQxmyKu4rJyIiJTGaSbyKjWXlSuxFJyIiLSHwQx5lVrLyrkUnIjId3GaibzO28vKuRSciMi3MTPjR7Q0zeKtZeVcCk5E5PsYzPgJLU6zeGNZOZeCExH5Pk4z+QF/nmbhUnAiIt/HYMbHOZtmASqnWSpM9s7QPy4FJyLyfQxmfJycaRZfZF4K7qgaxoDK6Tat7zBORESOMZjxcf4+zWJeCg7AJqDRyw7jRERUMwYzPo7TLPreYZzUUWESyDyZjzVZ55F5Mt9np2GJfAVXM/k4NTvueoPU5eZ62WFcS8vn/ZUWV/4RUc0MQgif/pWjqKgI0dHRKCwsRFRUlNrDUYV5NRNgv+OuXrMTvnbT8bXXo0fmz0r1fxT1/lkh0iM5929OM/kBX5xm0dpyc3enJbT2evyRv6/8I9IzTjP5Cb1Ms0ihta6+7mZUtPZ6/BUbLBLpFzMzfsTccfeB1g3QpWmMLm+MFSaBj7dna2a5uRIZFX9fPq8V/r7yj0jPmJkh3bCXAamJp286SmVUeBPVBq78I9IvZmZIFxxlQGri6ZuOUhkV3kS1gQ0WifSLwQxpXk0ZEHu8ddNRKqPCm6g2sMEikX4xmCHNc5YBqcqbNx2lMiq8iWqHL678I/IHrJkhzZNTK2L0Yl8WJRsSmm+i1WuCvPl6qJIvrfwj8hcMZkjzpGZAXrq3OUZ3S/baTcecURm3bC8MsN+QUE5GhTdR7TCv/CMifeA0E2me1JoSbwYyZkpPS/jC8nkiIm9jZoY0T+kMiNKYUSEiUhf3ZiLd4N5FRET+Q879m5kZ0g1mQIiIyB4GM6QrLMwkIqLqWABMREREusZghoiIiHSNwQwRERHpGoMZIiIi0jUGM0RERKRrDGaIiIhI1zQTzMydOxcGgwGTJk2yHBNCYObMmUhISEB4eDh69uyJgwcPqjdIIiIi0hxNBDO7d+/Ghx9+iJYtW1odnz9/PhYsWIBFixZh9+7dMBqNSE9PR3FxsUojJSJfUmESyDyZjzVZ55F5Mh8VJp9uiE7ks1Rvmnf16lWMGjUKixcvxiuvvGI5LoTAwoULMX36dAwdOhQAsHTpUsTFxWH58uUYO3as3euVlZWhrKzM8ueioiLPvgAi0iVuj0HkO1TPzEyYMAH33nsv+vbta3U8Ozsbubm56Nevn+VYaGgoevTogR07dji83ty5cxEdHW35atSokcfGTkT6tO5ADsYt22sVyABAbuF1jFu2F+sO5Kg0MiJyharBzMqVK7F3717MnTvX5rHc3FwAQFxcnNXxuLg4y2P2TJs2DYWFhZavs2fPKjtoItK1CpPArG8Pwd6EkvnYrG8PccqJSEdUm2Y6e/Ysnn/+eWRkZCAsLMzheQaD9SaCQgibY1WFhoYiNDRUsXESkW/ZlV1gk5GpSgDIKbyOXdkF3AeMSCdUy8zs2bMHeXl5aNeuHYKCghAUFIStW7fi7bffRlBQkCUjUz0Lk5eXZ5OtISKSKq/YcSDjynlEpD7Vgpk+ffrgt99+Q1ZWluWrffv2GDVqFLKystCkSRMYjUasX7/e8j03btzA1q1b0bVrV7WGTUQ6FxvpOBPsynlEpD7VppkiIyPRokULq2O1atVCTEyM5fikSZMwZ84cpKSkICUlBXPmzEFERARGjhypxpCJyAd0TK6L+Ogw5BZet1s3YwBgjA5Dx+S63h4aEblI9aXZNZkyZQquXbuG8ePH4/Lly+jUqRMyMjIQGRmp9tCISKcCAwyYcX8qxi3bCwNgFdCYq/Fm3J+KwADHtXlEpC0GIYRPl+wXFRUhOjoahYWFiIqKUns4RKQR7DNDpG1y7t+azswQEXnKgBbxSE81Yld2AfKKryM2snJqiRkZIv1hMENEfiswwMDl10Q+QPUOwERERETuYDBDREREusZghoiIiHSNwQwRERHpGoMZIiIi0jUGM0RERKRrDGaIiIhI1xjMEBERka4xmCEiIiJd8/kOwOatp4qKilQeCREREUllvm9L2ULS54OZ4uJiAECjRo1UHgkRERHJVVxcjOjo6BrP8flds00mEy5cuIDIyEgYDN7bQK5Dhw7YvXu3rp7D3eu58v1yv0fq+c7OKyoqQqNGjXD27Fm/2U3dGz+TcujtM+JPnw+AnxG16e3z4e717H2vEALFxcVISEhAQEDNVTE+n5kJCAhAw4YNvf68gYGBHv8HQOnncPd6rny/3O+Rer7U86KiovzmH2pv/EzKobfPiD9+PgB+RtSit8+Hu9dz9L3OMjJmLAD2kAkTJujuOdy9nivfL/d7pJ7vjfdfb7T2nujtM8LPh+/T0vuit8+Hu9dzdyw+P81EZE9RURGio6NRWFiomd/EiLSEnxHSE2ZmyC+FhoZixowZCA0NVXsoRJrEzwjpCTMzREREpGvMzBAREZGuMZghIiIiXWMwQ0RERLrGYIaIiIh0jcEMERER6RqDGaJqiouL0aFDB7Ru3RppaWlYvHix2kMi0pzS0lIkJiZi8uTJag+FyPe3MyCSKyIiAlu3bkVERARKS0vRokULDB06FDExMWoPjUgzZs+ejU6dOqk9DCIAzMwQ2QgMDERERAQA4Pr166ioqJC0BT2Rvzh+/DiOHDmCQYMGqT0UIgAMZsgH/fjjj7j//vuRkJAAg8GAr7/+2uac9957D8nJyQgLC0O7du3w008/WT1+5coVtGrVCg0bNsSUKVNQr149L42eyLOU+HxMnjwZc+fO9dKIiZxjMEM+p6SkBK1atcKiRYvsPr5q1SpMmjQJ06dPx759+3D33Xdj4MCBOHPmjOWc2rVrY//+/cjOzsby5ctx8eJFbw2fyKPc/XysWbMGt99+O26//XZvDpuoRtzOgHyawWDA6tWrMWTIEMuxTp06oW3btnj//fctx5o3b44hQ4bY/W1z3Lhx6N27N4YNG+aNIRN5jSufj2nTpmHZsmUIDAzE1atXcfPmTbz44ov4xz/+ocIrIKrEzAz5lRs3bmDPnj3o16+f1fF+/fphx44dAICLFy+iqKgIQOXOwT/++CPuuOMOr4+VyNukfD7mzp2Ls2fP4tSpU3j99dfx1FNPMZAh1XE1E/mVS5cuoaKiAnFxcVbH4+LikJubCwA4d+4c/vSnP0EIASEEJk6ciJYtW6oxXCKvkvL5INIiBjPklwwGg9WfhRCWY+3atUNWVpYKoyLShpo+H1WNHj3aSyMiqhmnmciv1KtXD4GBgTa/Zebl5dn8Nkrkb/j5IL1iMEN+JSQkBO3atcP69eutjq9fvx5du3ZVaVRE2sDPB+kVp5nI51y9ehUnTpyw/Dk7OxtZWVmoW7cuGjdujD//+c949NFH0b59e3Tp0gUffvghzpw5g2eeeUbFURN5Bz8f5JMEkY/ZvHmzAGDz9fjjj1vOeffdd0ViYqIICQkRbdu2FVu3blVvwERexM8H+SL2mSEiIiJdY80MERER6RqDGSIiItI1BjNERESkawxmiIiISNcYzBAREZGuMZghIiIiXWMwQ0RERLrGYIaIiIh0jcEMERER6RqDGSIiBc2cOROtW7dWexhEfoXBDJEfys3NxfPPP49mzZohLCwMcXFx6N69Oz744AOUlpZazktKSoLBYIDBYEB4eDiSkpLw8MMPY9OmTVbXO3XqlOU8g8GAOnXq4J577sHWrVsdjmHLli1W31O/fn0MHDgQ+/fv99hrfvbZZ9GkSROEhoaiUaNGuP/++7Fx40ZFn2fy5MlW1xw9ejSGDBmi6HMQkTUGM0R+5vfff0ebNm2QkZGBOXPmYN++fdiwYQNeeOEFfPvtt9iwYYPV+S+//DJycnJw9OhRfPLJJ6hduzb69u2L2bNn21x7w4YNyMnJwdatWxEVFYVBgwYhOzu7xvEcPXoUOTk5WLt2LS5fvowBAwagsLDQpdd248YNu8dPnTqFdu3aYdOmTZg/fz5+++03rFu3Dr169cKECRNcei5HbrvtNsTExCh6TSJyQu2dLonIu/r37y8aNmworl69avdxk8lk+f/ExETx5ptv2pzzj3/8QwQEBIgjR44IIYTIzs4WAMS+ffss55w7d04AEB988IHd5zHv3nz58mXLsW3btgkAYt26dUIIIbZv3y7uvvtuERYWJho2bCieffZZq3EnJiaKf/7zn+Lxxx8XUVFR4rHHHrP7XAMHDhQNGjSw+5qrPv8bb7whWrRoISIiIkTDhg3FuHHjRHFxseXxJUuWiOjoaLF69WqRkpIiQkNDRd++fcWZM2cs58yYMUO0atXK8v+otjv15s2bhRBCTJkyRaSkpIjw8HCRnJws/v73v4sbN27YHT8R1YyZGSI/kp+fj4yMDEyYMAG1atWye47BYHB6neeffx5CCKxZs8bhOREREQCAmzdvSh5feHi45Xt+++039O/fH0OHDsWvv/6KVatWYdu2bZg4caLV97z22mto0aIF9uzZg5deesnmmgUFBVi3bp3D11y7dm3L/wcEBODtt9/GgQMHsHTpUmzatAlTpkyxOr+0tBSzZ8/G0qVLsX37dhQVFWH48OF2X8/kyZPx8MMPY8CAAcjJyUFOTg66du0KAIiMjMTHH3+MQ4cO4a233sLixYvx5ptvSn6viKgKtaMpIvKenTt3CgDiq6++sjoeExMjatWqJWrVqiWmTJliOe4oMyOEEHFxcWLcuHFCCNvMzNWrV8XYsWNFYGCg+PXXX+1+f/XMzKVLl8TgwYNFZGSkuHjxonj00UfF008/bfU9P/30kwgICBDXrl2zjG/IkCE1vuaff/7Z7muW4rPPPhMxMTGWPy9ZskQAEDt37rQcO3z4sAAgfv75ZyGEdWZGCCEef/xx8cADDzh9rvnz54t27drJHiMRCRGkZiBFROqonn3ZtWsXTCYTRo0ahbKyMknXEELYXKdr164ICAhAaWkp4uPj8fHHHyMtLa3G6zRs2BAAUFJSgpSUFHz++eeIjY3Fnj17cOLECXz66adWz2kymZCdnY3mzZsDANq3b+90nPZesz2bN2/GnDlzcOjQIRQVFaG8vBzXr19HSUmJJasTFBRk9Zx33nknateujcOHD6Njx45On8Psiy++wMKFC3HixAlcvXoV5eXliIqKkvz9RHQLgxkiP9KsWTMYDAYcOXLE6niTJk0A3JrmcSY/Px9//PEHkpOTrY6vWrUKqampqF27tuQi2J9++glRUVGoX7++1c3cZDJh7NixeO6552y+p3Hjxpb/dzRdZpaSkgKDwYDDhw/XuKro9OnTGDRoEJ555hn885//RN26dbFt2zb86U9/spkqsxcYSQmWzHbu3Inhw4dj1qxZ6N+/P6Kjo7Fy5Uq88cYbkq9BRLcwmCHyIzExMUhPT8eiRYvw7LPPOg0EHHnrrbcQEBBgExw0atQITZs2lXWt5ORkq7oVs7Zt2+LgwYNo1qyZS2M0q1u3Lvr37493330Xzz33nM1rvnLlCmrXro1ffvkF5eXleOONNxAQUFlO+Nlnn9lcr7y8HL/88oslC3P06FFcuXIFd955p93nDwkJQUVFhdWx7du3IzExEdOnT7ccO336tFuvk8ifsQCYyM+89957KC8vR/v27bFq1SocPnwYR48exbJly3DkyBEEBgZanV9cXIzc3FycPXsWP/74I55++mm88sormD17ttuBRk2mTp2KzMxMTJgwAVlZWTh+/Di++eYbPPvss7Kv9d5776GiogIdO3bEl19+iePHj+Pw4cN4++230aVLFwBA06ZNUV5ejnfeeQe///47/vOf/+CDDz6wuVZwcDCeffZZ/Pzzz9i7dy+eeOIJdO7c2eEUU1JSEn799VccPXoUly5dws2bN9GsWTOcOXMGK1euxMmTJ/H2229j9erVsl8XEf2PyjU7RKSCCxcuiIkTJ4rk5GQRHBwsbrvtNtGxY0fx2muviZKSEst5iYmJliXFISEhonHjxuLhhx8WmzZtsrqevaXZzthbml3drl27RHp6urjttttErVq1RMuWLcXs2bOtxueoQNnea54wYYJITEwUISEhokGDBmLw4MGWpdJCCLFgwQIRHx8vwsPDRf/+/cUnn3xiNUbz0uwvv/xSNGnSRISEhIjevXuLU6dOWa5RvQA4Ly/P8hpQZWn2X/7yFxETEyNuu+028f/+3/8Tb775poiOjpb0WojImkGI/1XHERFRjT7++GNMmjQJV65cUXsoRFQFp5mIiIhI1xjMEBERka5xmomIiIh0jZkZIiIi0jUGM0RERKRrDGaIiIhI1xjMEBERka4xmCEiIiJdYzBDREREusZghoiIiHSNwQwRERHp2v8PD0kOSntrhqoAAAAASUVORK5CYII=\n",
      "text/plain": [
       "<Figure size 640x480 with 1 Axes>"
      ]
     },
     "metadata": {},
     "output_type": "display_data"
    }
   ],
   "source": [
    "plt.scatter(gdp_cap, life_exp)\n",
    "plt.xscale('log')\n",
    "xlab = 'GDP Per Capita'\n",
    "ylab = 'Life Expectancy'\n",
    "title = 'World Development In 2007'\n",
    "plt.xlabel(xlab)\n",
    "plt.ylabel(ylab)\n",
    "plt.title(title)\n",
    "plt.show()"
   ]
  },
  {
   "cell_type": "markdown",
   "id": "731845a3",
   "metadata": {},
   "source": [
    "<h2>Dictionary</h2>"
   ]
  },
  {
   "cell_type": "markdown",
   "id": "930cee56",
   "metadata": {},
   "source": [
    "--Dictionary, pythonda bir değerin karşısına bir değer atamak için kullanılabilen bir metoddur. <br>"
   ]
  },
  {
   "cell_type": "code",
   "execution_count": 37,
   "id": "43598e52",
   "metadata": {},
   "outputs": [],
   "source": [
    "world = {\"albania\":30.55,\"turkey\":85.23,\"usa\":113.2}"
   ]
  },
  {
   "cell_type": "code",
   "execution_count": 39,
   "id": "67e0ca83",
   "metadata": {},
   "outputs": [
    {
     "data": {
      "text/plain": [
       "30.55"
      ]
     },
     "execution_count": 39,
     "metadata": {},
     "output_type": "execute_result"
    }
   ],
   "source": [
    "world[\"albania\"]"
   ]
  },
  {
   "cell_type": "code",
   "execution_count": 2,
   "id": "b75b86b2",
   "metadata": {},
   "outputs": [
    {
     "name": "stdout",
     "output_type": "stream",
     "text": [
      "{'spain': 'madrid', 'france': 'paris', 'germany': 'berlin', 'norway': 'oslo'}\n"
     ]
    }
   ],
   "source": [
    "# Definition of countries and capital\n",
    "countries = ['spain', 'france', 'germany', 'norway']\n",
    "capitals = ['madrid', 'paris', 'berlin', 'oslo']\n",
    "\n",
    "# From string in countries and capitals, create dictionary europe\n",
    "europe = {'spain':'madrid', 'france':'paris', 'germany':'berlin', 'norway':'oslo' }\n",
    "\n",
    "# Print europe\n",
    "print(europe)"
   ]
  },
  {
   "cell_type": "code",
   "execution_count": 3,
   "id": "5f5784eb",
   "metadata": {},
   "outputs": [],
   "source": [
    "del europe['spain'] ##bir elemanı silmek için kullanılır."
   ]
  },
  {
   "cell_type": "code",
   "execution_count": 5,
   "id": "c8e8f0ce",
   "metadata": {},
   "outputs": [
    {
     "name": "stdout",
     "output_type": "stream",
     "text": [
      "True\n",
      "{'spain': 'madrid', 'france': 'paris', 'germany': 'berlin', 'norway': 'oslo', 'italy': 'rome', 'poland': 'warsaw'}\n"
     ]
    }
   ],
   "source": [
    "# Definition of dictionary\n",
    "europe = {'spain':'madrid', 'france':'paris', 'germany':'berlin', 'norway':'oslo' }\n",
    "\n",
    "# Add italy to europe\n",
    "\n",
    "europe['italy'] = 'rome'\n",
    "\n",
    "# Print out italy in europe\n",
    "\n",
    "print('italy' in europe)\n",
    "\n",
    "# Add poland to europe\n",
    "\n",
    "europe.update({'poland':'warsaw'})\n",
    "\n",
    "# Print europe\n",
    "print(europe)"
   ]
  },
  {
   "cell_type": "code",
   "execution_count": 6,
   "id": "949c8c74",
   "metadata": {},
   "outputs": [
    {
     "name": "stdout",
     "output_type": "stream",
     "text": [
      "{'spain': 'madrid', 'france': 'paris', 'germany': 'berlin', 'norway': 'oslo', 'italy': 'rome', 'poland': 'warsaw'}\n"
     ]
    }
   ],
   "source": [
    "# Definition of dictionary\n",
    "europe = {'spain':'madrid', 'france':'paris', 'germany':'bonn',\n",
    "          'norway':'oslo', 'italy':'rome', 'poland':'warsaw',\n",
    "          'australia':'vienna' }\n",
    "\n",
    "# Update capital of germany\n",
    "\n",
    "europe.update({'germany':'berlin'})\n",
    "\n",
    "# Remove australia\n",
    "\n",
    "del europe['australia']\n",
    "\n",
    "# Print europe\n",
    "\n",
    "print(europe)"
   ]
  },
  {
   "cell_type": "code",
   "execution_count": 7,
   "id": "1eee0a5e",
   "metadata": {},
   "outputs": [
    {
     "name": "stdout",
     "output_type": "stream",
     "text": [
      "{'spain': {'capital': 'madrid', 'population': 46.77}, 'france': {'capital': 'paris', 'population': 66.03}, 'germany': {'capital': 'berlin', 'population': 80.62}, 'norway': {'capital': 'oslo', 'population': 5.084}, 'italy': {'capital': 'rome', 'population': 59.83}}\n"
     ]
    }
   ],
   "source": [
    "# Dictionary of dictionaries\n",
    "europe = { 'spain': { 'capital':'madrid', 'population':46.77 },\n",
    "           'france': { 'capital':'paris', 'population':66.03 },\n",
    "           'germany': { 'capital':'berlin', 'population':80.62 },\n",
    "           'norway': { 'capital':'oslo', 'population':5.084 } }\n",
    "\n",
    "\n",
    "# Print out the capital of France\n",
    "\n",
    "europe['france']['capital']\n",
    "\n",
    "# Create sub-dictionary data\n",
    "\n",
    "data = ({'capital':'rome','population': 59.83})\n",
    "# Add data to europe under key 'italy'\n",
    "\n",
    "europe['italy'] = data\n",
    "\n",
    "# Print europe\n",
    "print(europe)"
   ]
  },
  {
   "cell_type": "markdown",
   "id": "a7a7d467",
   "metadata": {},
   "source": [
    "<h2>Pandas</h2>"
   ]
  },
  {
   "cell_type": "markdown",
   "id": "1b25dda3",
   "metadata": {},
   "source": [
    "--Pandas dataframelerden oluşan bir tablo bütünüdür. Satır ve sütunları vardır."
   ]
  },
  {
   "cell_type": "code",
   "execution_count": 9,
   "id": "0810f302",
   "metadata": {},
   "outputs": [],
   "source": [
    "import pandas as pd"
   ]
  },
  {
   "cell_type": "code",
   "execution_count": 11,
   "id": "753da093",
   "metadata": {},
   "outputs": [],
   "source": [
    "dict = {\n",
    "    \"country\":[\"Brazil\",\"Russia\",\"Türkiye\",\"USA\",\"China\"],\n",
    "    \"capital\":[\"Brasilia\",\"Moscow\",\"Ankara\",\"Washington\",\"Beijing\"],\n",
    "    \"area\": [8.516,17.10,3.286,9.597,1.221],\n",
    "    \"population\": [200.4,143.5,1252,1357,52.98]\n",
    "}"
   ]
  },
  {
   "cell_type": "code",
   "execution_count": 12,
   "id": "9a5b137b",
   "metadata": {},
   "outputs": [
    {
     "data": {
      "text/plain": [
       "{'country': ['Brazil', 'Russia', 'Türkiye', 'USA', 'China'],\n",
       " 'capital': ['Brasilia', 'Moscow', 'Ankara', 'Washington', 'Beijing'],\n",
       " 'area': [8.516, 17.1, 3.286, 9.597, 1.221],\n",
       " 'population': [200.4, 143.5, 1252, 1357, 52.98]}"
      ]
     },
     "execution_count": 12,
     "metadata": {},
     "output_type": "execute_result"
    }
   ],
   "source": [
    "dict"
   ]
  },
  {
   "cell_type": "code",
   "execution_count": 14,
   "id": "9ca09890",
   "metadata": {},
   "outputs": [],
   "source": [
    "brics = pd.DataFrame(dict)"
   ]
  },
  {
   "cell_type": "code",
   "execution_count": 15,
   "id": "5a7fcbf9",
   "metadata": {},
   "outputs": [
    {
     "data": {
      "text/html": [
       "<div>\n",
       "<style scoped>\n",
       "    .dataframe tbody tr th:only-of-type {\n",
       "        vertical-align: middle;\n",
       "    }\n",
       "\n",
       "    .dataframe tbody tr th {\n",
       "        vertical-align: top;\n",
       "    }\n",
       "\n",
       "    .dataframe thead th {\n",
       "        text-align: right;\n",
       "    }\n",
       "</style>\n",
       "<table border=\"1\" class=\"dataframe\">\n",
       "  <thead>\n",
       "    <tr style=\"text-align: right;\">\n",
       "      <th></th>\n",
       "      <th>country</th>\n",
       "      <th>capital</th>\n",
       "      <th>area</th>\n",
       "      <th>population</th>\n",
       "    </tr>\n",
       "  </thead>\n",
       "  <tbody>\n",
       "    <tr>\n",
       "      <th>0</th>\n",
       "      <td>Brazil</td>\n",
       "      <td>Brasilia</td>\n",
       "      <td>8.516</td>\n",
       "      <td>200.40</td>\n",
       "    </tr>\n",
       "    <tr>\n",
       "      <th>1</th>\n",
       "      <td>Russia</td>\n",
       "      <td>Moscow</td>\n",
       "      <td>17.100</td>\n",
       "      <td>143.50</td>\n",
       "    </tr>\n",
       "    <tr>\n",
       "      <th>2</th>\n",
       "      <td>Türkiye</td>\n",
       "      <td>Ankara</td>\n",
       "      <td>3.286</td>\n",
       "      <td>1252.00</td>\n",
       "    </tr>\n",
       "    <tr>\n",
       "      <th>3</th>\n",
       "      <td>USA</td>\n",
       "      <td>Washington</td>\n",
       "      <td>9.597</td>\n",
       "      <td>1357.00</td>\n",
       "    </tr>\n",
       "    <tr>\n",
       "      <th>4</th>\n",
       "      <td>China</td>\n",
       "      <td>Beijing</td>\n",
       "      <td>1.221</td>\n",
       "      <td>52.98</td>\n",
       "    </tr>\n",
       "  </tbody>\n",
       "</table>\n",
       "</div>"
      ],
      "text/plain": [
       "   country     capital    area  population\n",
       "0   Brazil    Brasilia   8.516      200.40\n",
       "1   Russia      Moscow  17.100      143.50\n",
       "2  Türkiye      Ankara   3.286     1252.00\n",
       "3      USA  Washington   9.597     1357.00\n",
       "4    China     Beijing   1.221       52.98"
      ]
     },
     "execution_count": 15,
     "metadata": {},
     "output_type": "execute_result"
    }
   ],
   "source": [
    "brics"
   ]
  },
  {
   "cell_type": "code",
   "execution_count": 25,
   "id": "7bae11f5",
   "metadata": {},
   "outputs": [
    {
     "data": {
      "text/html": [
       "<div>\n",
       "<style scoped>\n",
       "    .dataframe tbody tr th:only-of-type {\n",
       "        vertical-align: middle;\n",
       "    }\n",
       "\n",
       "    .dataframe tbody tr th {\n",
       "        vertical-align: top;\n",
       "    }\n",
       "\n",
       "    .dataframe thead th {\n",
       "        text-align: right;\n",
       "    }\n",
       "</style>\n",
       "<table border=\"1\" class=\"dataframe\">\n",
       "  <thead>\n",
       "    <tr style=\"text-align: right;\">\n",
       "      <th></th>\n",
       "      <th>country</th>\n",
       "      <th>capital</th>\n",
       "      <th>area</th>\n",
       "      <th>population</th>\n",
       "    </tr>\n",
       "  </thead>\n",
       "  <tbody>\n",
       "    <tr>\n",
       "      <th>4</th>\n",
       "      <td>China</td>\n",
       "      <td>Beijing</td>\n",
       "      <td>1.221</td>\n",
       "      <td>52.98</td>\n",
       "    </tr>\n",
       "  </tbody>\n",
       "</table>\n",
       "</div>"
      ],
      "text/plain": [
       "  country  capital   area  population\n",
       "4   China  Beijing  1.221       52.98"
      ]
     },
     "execution_count": 25,
     "metadata": {},
     "output_type": "execute_result"
    }
   ],
   "source": [
    "brics[4:]"
   ]
  },
  {
   "cell_type": "code",
   "execution_count": 26,
   "id": "59e584ce",
   "metadata": {},
   "outputs": [],
   "source": [
    "brics.index = ['BR','RU','TR','USA','CH']"
   ]
  },
  {
   "cell_type": "code",
   "execution_count": 27,
   "id": "9ba676f4",
   "metadata": {},
   "outputs": [
    {
     "data": {
      "text/html": [
       "<div>\n",
       "<style scoped>\n",
       "    .dataframe tbody tr th:only-of-type {\n",
       "        vertical-align: middle;\n",
       "    }\n",
       "\n",
       "    .dataframe tbody tr th {\n",
       "        vertical-align: top;\n",
       "    }\n",
       "\n",
       "    .dataframe thead th {\n",
       "        text-align: right;\n",
       "    }\n",
       "</style>\n",
       "<table border=\"1\" class=\"dataframe\">\n",
       "  <thead>\n",
       "    <tr style=\"text-align: right;\">\n",
       "      <th></th>\n",
       "      <th>country</th>\n",
       "      <th>capital</th>\n",
       "      <th>area</th>\n",
       "      <th>population</th>\n",
       "    </tr>\n",
       "  </thead>\n",
       "  <tbody>\n",
       "    <tr>\n",
       "      <th>BR</th>\n",
       "      <td>Brazil</td>\n",
       "      <td>Brasilia</td>\n",
       "      <td>8.516</td>\n",
       "      <td>200.40</td>\n",
       "    </tr>\n",
       "    <tr>\n",
       "      <th>RU</th>\n",
       "      <td>Russia</td>\n",
       "      <td>Moscow</td>\n",
       "      <td>17.100</td>\n",
       "      <td>143.50</td>\n",
       "    </tr>\n",
       "    <tr>\n",
       "      <th>TR</th>\n",
       "      <td>Türkiye</td>\n",
       "      <td>Ankara</td>\n",
       "      <td>3.286</td>\n",
       "      <td>1252.00</td>\n",
       "    </tr>\n",
       "    <tr>\n",
       "      <th>USA</th>\n",
       "      <td>USA</td>\n",
       "      <td>Washington</td>\n",
       "      <td>9.597</td>\n",
       "      <td>1357.00</td>\n",
       "    </tr>\n",
       "    <tr>\n",
       "      <th>CH</th>\n",
       "      <td>China</td>\n",
       "      <td>Beijing</td>\n",
       "      <td>1.221</td>\n",
       "      <td>52.98</td>\n",
       "    </tr>\n",
       "  </tbody>\n",
       "</table>\n",
       "</div>"
      ],
      "text/plain": [
       "     country     capital    area  population\n",
       "BR    Brazil    Brasilia   8.516      200.40\n",
       "RU    Russia      Moscow  17.100      143.50\n",
       "TR   Türkiye      Ankara   3.286     1252.00\n",
       "USA      USA  Washington   9.597     1357.00\n",
       "CH     China     Beijing   1.221       52.98"
      ]
     },
     "execution_count": 27,
     "metadata": {},
     "output_type": "execute_result"
    }
   ],
   "source": [
    "brics"
   ]
  },
  {
   "cell_type": "code",
   "execution_count": 38,
   "id": "985dcc5b",
   "metadata": {},
   "outputs": [],
   "source": [
    "index_name=brics.index.name"
   ]
  },
  {
   "cell_type": "code",
   "execution_count": 42,
   "id": "f4adfcc6",
   "metadata": {},
   "outputs": [],
   "source": [
    "brics.index.name = 'Country Code' ##index satırına başlık atadık."
   ]
  },
  {
   "cell_type": "code",
   "execution_count": 43,
   "id": "9f32e593",
   "metadata": {
    "scrolled": false
   },
   "outputs": [
    {
     "data": {
      "text/html": [
       "<div>\n",
       "<style scoped>\n",
       "    .dataframe tbody tr th:only-of-type {\n",
       "        vertical-align: middle;\n",
       "    }\n",
       "\n",
       "    .dataframe tbody tr th {\n",
       "        vertical-align: top;\n",
       "    }\n",
       "\n",
       "    .dataframe thead th {\n",
       "        text-align: right;\n",
       "    }\n",
       "</style>\n",
       "<table border=\"1\" class=\"dataframe\">\n",
       "  <thead>\n",
       "    <tr style=\"text-align: right;\">\n",
       "      <th></th>\n",
       "      <th>country</th>\n",
       "      <th>capital</th>\n",
       "      <th>area</th>\n",
       "      <th>population</th>\n",
       "    </tr>\n",
       "    <tr>\n",
       "      <th>Country Code</th>\n",
       "      <th></th>\n",
       "      <th></th>\n",
       "      <th></th>\n",
       "      <th></th>\n",
       "    </tr>\n",
       "  </thead>\n",
       "  <tbody>\n",
       "    <tr>\n",
       "      <th>BR</th>\n",
       "      <td>Brazil</td>\n",
       "      <td>Brasilia</td>\n",
       "      <td>8.516</td>\n",
       "      <td>200.40</td>\n",
       "    </tr>\n",
       "    <tr>\n",
       "      <th>RU</th>\n",
       "      <td>Russia</td>\n",
       "      <td>Moscow</td>\n",
       "      <td>17.100</td>\n",
       "      <td>143.50</td>\n",
       "    </tr>\n",
       "    <tr>\n",
       "      <th>TR</th>\n",
       "      <td>Türkiye</td>\n",
       "      <td>Ankara</td>\n",
       "      <td>3.286</td>\n",
       "      <td>1252.00</td>\n",
       "    </tr>\n",
       "    <tr>\n",
       "      <th>USA</th>\n",
       "      <td>USA</td>\n",
       "      <td>Washington</td>\n",
       "      <td>9.597</td>\n",
       "      <td>1357.00</td>\n",
       "    </tr>\n",
       "    <tr>\n",
       "      <th>CH</th>\n",
       "      <td>China</td>\n",
       "      <td>Beijing</td>\n",
       "      <td>1.221</td>\n",
       "      <td>52.98</td>\n",
       "    </tr>\n",
       "  </tbody>\n",
       "</table>\n",
       "</div>"
      ],
      "text/plain": [
       "              country     capital    area  population\n",
       "Country Code                                         \n",
       "BR             Brazil    Brasilia   8.516      200.40\n",
       "RU             Russia      Moscow  17.100      143.50\n",
       "TR            Türkiye      Ankara   3.286     1252.00\n",
       "USA               USA  Washington   9.597     1357.00\n",
       "CH              China     Beijing   1.221       52.98"
      ]
     },
     "execution_count": 43,
     "metadata": {},
     "output_type": "execute_result"
    }
   ],
   "source": [
    "brics"
   ]
  },
  {
   "cell_type": "code",
   "execution_count": 52,
   "id": "3df4d335",
   "metadata": {},
   "outputs": [
    {
     "name": "stdout",
     "output_type": "stream",
     "text": [
      "                    country  drives_right  cars_per_cap\n",
      "Country Code                                           \n",
      "USA           United States          True           809\n",
      "AU                Australia         False           731\n",
      "JP                    Japan         False           588\n",
      "IN                    India         False            18\n",
      "RU                   Russia          True           200\n",
      "MR                  Morocco          True            70\n",
      "EG                    Egypt          True            45\n"
     ]
    }
   ],
   "source": [
    "# Pre-defined lists\n",
    "names = ['United States', 'Australia', 'Japan', 'India', 'Russia', 'Morocco', 'Egypt']\n",
    "dr =  [True, False, False, False, True, True, True]\n",
    "cpc = [809, 731, 588, 18, 200, 70, 45]\n",
    "\n",
    "# Import pandas as pd\n",
    "\n",
    "import pandas as pd\n",
    "\n",
    "# Create dictionary my_dict with three key:value pairs: my_dict\n",
    "\n",
    "my_dict = {\n",
    "    'country': names,\n",
    "    'drives_right': dr,\n",
    "    'cars_per_cap': cpc\n",
    "}\n",
    "\n",
    "# Build a DataFrame cars from my_dict: cars\n",
    "\n",
    "cars = pd.DataFrame(my_dict)\n",
    "\n",
    "# Chane index name\n",
    "\n",
    "cars.index = ['USA','AU','JP','IN','RU','MR','EG',]\n",
    "\n",
    "index_name = cars.index.name\n",
    "\n",
    "cars.index.name = 'Country Code'\n",
    "\n",
    "print(cars)"
   ]
  },
  {
   "cell_type": "code",
   "execution_count": null,
   "id": "fa94e34f",
   "metadata": {},
   "outputs": [],
   "source": [
    "import pandas as pd\n",
    "\n",
    "# Build cars DataFrame\n",
    "names = ['United States', 'Australia', 'Japan', 'India', 'Russia', 'Morocco', 'Egypt']\n",
    "dr =  [True, False, False, False, True, True, True]\n",
    "cpc = [809, 731, 588, 18, 200, 70, 45]\n",
    "cars_dict = { 'country':names, 'drives_right':dr, 'cars_per_cap':cpc }\n",
    "cars = pd.DataFrame(cars_dict)\n",
    "print(cars)\n",
    "\n",
    "# Definition of row_labels\n",
    "row_labels = ['US', 'AUS', 'JPN', 'IN', 'RU', 'MOR', 'EG']\n",
    "\n",
    "# Specify row labels of cars\n",
    "\n",
    "cars.index = row_labels\n",
    "\n",
    "# Print cars again\n",
    "print(cars)"
   ]
  },
  {
   "cell_type": "code",
   "execution_count": 54,
   "id": "7445573c",
   "metadata": {},
   "outputs": [
    {
     "data": {
      "text/html": [
       "<div>\n",
       "<style scoped>\n",
       "    .dataframe tbody tr th:only-of-type {\n",
       "        vertical-align: middle;\n",
       "    }\n",
       "\n",
       "    .dataframe tbody tr th {\n",
       "        vertical-align: top;\n",
       "    }\n",
       "\n",
       "    .dataframe thead th {\n",
       "        text-align: right;\n",
       "    }\n",
       "</style>\n",
       "<table border=\"1\" class=\"dataframe\">\n",
       "  <thead>\n",
       "    <tr style=\"text-align: right;\">\n",
       "      <th></th>\n",
       "      <th>country</th>\n",
       "      <th>capital</th>\n",
       "    </tr>\n",
       "    <tr>\n",
       "      <th>Country Code</th>\n",
       "      <th></th>\n",
       "      <th></th>\n",
       "    </tr>\n",
       "  </thead>\n",
       "  <tbody>\n",
       "    <tr>\n",
       "      <th>BR</th>\n",
       "      <td>Brazil</td>\n",
       "      <td>Brasilia</td>\n",
       "    </tr>\n",
       "    <tr>\n",
       "      <th>RU</th>\n",
       "      <td>Russia</td>\n",
       "      <td>Moscow</td>\n",
       "    </tr>\n",
       "    <tr>\n",
       "      <th>TR</th>\n",
       "      <td>Türkiye</td>\n",
       "      <td>Ankara</td>\n",
       "    </tr>\n",
       "    <tr>\n",
       "      <th>USA</th>\n",
       "      <td>USA</td>\n",
       "      <td>Washington</td>\n",
       "    </tr>\n",
       "    <tr>\n",
       "      <th>CH</th>\n",
       "      <td>China</td>\n",
       "      <td>Beijing</td>\n",
       "    </tr>\n",
       "  </tbody>\n",
       "</table>\n",
       "</div>"
      ],
      "text/plain": [
       "              country     capital\n",
       "Country Code                     \n",
       "BR             Brazil    Brasilia\n",
       "RU             Russia      Moscow\n",
       "TR            Türkiye      Ankara\n",
       "USA               USA  Washington\n",
       "CH              China     Beijing"
      ]
     },
     "execution_count": 54,
     "metadata": {},
     "output_type": "execute_result"
    }
   ],
   "source": [
    "brics[[\"country\",\"capital\"]]"
   ]
  },
  {
   "cell_type": "code",
   "execution_count": 63,
   "id": "054c453a",
   "metadata": {},
   "outputs": [
    {
     "data": {
      "text/html": [
       "<div>\n",
       "<style scoped>\n",
       "    .dataframe tbody tr th:only-of-type {\n",
       "        vertical-align: middle;\n",
       "    }\n",
       "\n",
       "    .dataframe tbody tr th {\n",
       "        vertical-align: top;\n",
       "    }\n",
       "\n",
       "    .dataframe thead th {\n",
       "        text-align: right;\n",
       "    }\n",
       "</style>\n",
       "<table border=\"1\" class=\"dataframe\">\n",
       "  <thead>\n",
       "    <tr style=\"text-align: right;\">\n",
       "      <th></th>\n",
       "      <th>country</th>\n",
       "      <th>capital</th>\n",
       "      <th>area</th>\n",
       "      <th>population</th>\n",
       "    </tr>\n",
       "    <tr>\n",
       "      <th>Country Code</th>\n",
       "      <th></th>\n",
       "      <th></th>\n",
       "      <th></th>\n",
       "      <th></th>\n",
       "    </tr>\n",
       "  </thead>\n",
       "  <tbody>\n",
       "    <tr>\n",
       "      <th>RU</th>\n",
       "      <td>Russia</td>\n",
       "      <td>Moscow</td>\n",
       "      <td>17.100</td>\n",
       "      <td>143.50</td>\n",
       "    </tr>\n",
       "    <tr>\n",
       "      <th>CH</th>\n",
       "      <td>China</td>\n",
       "      <td>Beijing</td>\n",
       "      <td>1.221</td>\n",
       "      <td>52.98</td>\n",
       "    </tr>\n",
       "  </tbody>\n",
       "</table>\n",
       "</div>"
      ],
      "text/plain": [
       "             country  capital    area  population\n",
       "Country Code                                     \n",
       "RU            Russia   Moscow  17.100      143.50\n",
       "CH             China  Beijing   1.221       52.98"
      ]
     },
     "execution_count": 63,
     "metadata": {},
     "output_type": "execute_result"
    }
   ],
   "source": [
    "brics.loc[[\"RU\",\"CH\"]] ##satır etiketlerini kullanarak, satır çağırabildiğiniz listelerdir."
   ]
  },
  {
   "cell_type": "code",
   "execution_count": 64,
   "id": "3407fde7",
   "metadata": {},
   "outputs": [
    {
     "data": {
      "text/html": [
       "<div>\n",
       "<style scoped>\n",
       "    .dataframe tbody tr th:only-of-type {\n",
       "        vertical-align: middle;\n",
       "    }\n",
       "\n",
       "    .dataframe tbody tr th {\n",
       "        vertical-align: top;\n",
       "    }\n",
       "\n",
       "    .dataframe thead th {\n",
       "        text-align: right;\n",
       "    }\n",
       "</style>\n",
       "<table border=\"1\" class=\"dataframe\">\n",
       "  <thead>\n",
       "    <tr style=\"text-align: right;\">\n",
       "      <th></th>\n",
       "      <th>country</th>\n",
       "      <th>population</th>\n",
       "    </tr>\n",
       "    <tr>\n",
       "      <th>Country Code</th>\n",
       "      <th></th>\n",
       "      <th></th>\n",
       "    </tr>\n",
       "  </thead>\n",
       "  <tbody>\n",
       "    <tr>\n",
       "      <th>RU</th>\n",
       "      <td>Russia</td>\n",
       "      <td>143.50</td>\n",
       "    </tr>\n",
       "    <tr>\n",
       "      <th>CH</th>\n",
       "      <td>China</td>\n",
       "      <td>52.98</td>\n",
       "    </tr>\n",
       "  </tbody>\n",
       "</table>\n",
       "</div>"
      ],
      "text/plain": [
       "             country  population\n",
       "Country Code                    \n",
       "RU            Russia      143.50\n",
       "CH             China       52.98"
      ]
     },
     "execution_count": 64,
     "metadata": {},
     "output_type": "execute_result"
    }
   ],
   "source": [
    "brics.loc[[\"RU\",\"CH\"],['country','population']]"
   ]
  },
  {
   "cell_type": "code",
   "execution_count": 60,
   "id": "3c55e1b7",
   "metadata": {},
   "outputs": [
    {
     "data": {
      "text/html": [
       "<div>\n",
       "<style scoped>\n",
       "    .dataframe tbody tr th:only-of-type {\n",
       "        vertical-align: middle;\n",
       "    }\n",
       "\n",
       "    .dataframe tbody tr th {\n",
       "        vertical-align: top;\n",
       "    }\n",
       "\n",
       "    .dataframe thead th {\n",
       "        text-align: right;\n",
       "    }\n",
       "</style>\n",
       "<table border=\"1\" class=\"dataframe\">\n",
       "  <thead>\n",
       "    <tr style=\"text-align: right;\">\n",
       "      <th></th>\n",
       "      <th>country</th>\n",
       "      <th>capital</th>\n",
       "      <th>area</th>\n",
       "      <th>population</th>\n",
       "    </tr>\n",
       "    <tr>\n",
       "      <th>Country Code</th>\n",
       "      <th></th>\n",
       "      <th></th>\n",
       "      <th></th>\n",
       "      <th></th>\n",
       "    </tr>\n",
       "  </thead>\n",
       "  <tbody>\n",
       "    <tr>\n",
       "      <th>RU</th>\n",
       "      <td>Russia</td>\n",
       "      <td>Moscow</td>\n",
       "      <td>17.1</td>\n",
       "      <td>143.5</td>\n",
       "    </tr>\n",
       "  </tbody>\n",
       "</table>\n",
       "</div>"
      ],
      "text/plain": [
       "             country capital  area  population\n",
       "Country Code                                  \n",
       "RU            Russia  Moscow  17.1       143.5"
      ]
     },
     "execution_count": 60,
     "metadata": {},
     "output_type": "execute_result"
    }
   ],
   "source": [
    "brics.iloc[[1]] ##index kullanarak, satır çağırabildiğin metod."
   ]
  },
  {
   "cell_type": "code",
   "execution_count": 67,
   "id": "4b2ecca7",
   "metadata": {},
   "outputs": [
    {
     "data": {
      "text/html": [
       "<div>\n",
       "<style scoped>\n",
       "    .dataframe tbody tr th:only-of-type {\n",
       "        vertical-align: middle;\n",
       "    }\n",
       "\n",
       "    .dataframe tbody tr th {\n",
       "        vertical-align: top;\n",
       "    }\n",
       "\n",
       "    .dataframe thead th {\n",
       "        text-align: right;\n",
       "    }\n",
       "</style>\n",
       "<table border=\"1\" class=\"dataframe\">\n",
       "  <thead>\n",
       "    <tr style=\"text-align: right;\">\n",
       "      <th></th>\n",
       "      <th>country</th>\n",
       "      <th>capital</th>\n",
       "      <th>area</th>\n",
       "      <th>population</th>\n",
       "    </tr>\n",
       "    <tr>\n",
       "      <th>Country Code</th>\n",
       "      <th></th>\n",
       "      <th></th>\n",
       "      <th></th>\n",
       "      <th></th>\n",
       "    </tr>\n",
       "  </thead>\n",
       "  <tbody>\n",
       "    <tr>\n",
       "      <th>RU</th>\n",
       "      <td>Russia</td>\n",
       "      <td>Moscow</td>\n",
       "      <td>17.100</td>\n",
       "      <td>143.5</td>\n",
       "    </tr>\n",
       "    <tr>\n",
       "      <th>TR</th>\n",
       "      <td>Türkiye</td>\n",
       "      <td>Ankara</td>\n",
       "      <td>3.286</td>\n",
       "      <td>1252.0</td>\n",
       "    </tr>\n",
       "    <tr>\n",
       "      <th>USA</th>\n",
       "      <td>USA</td>\n",
       "      <td>Washington</td>\n",
       "      <td>9.597</td>\n",
       "      <td>1357.0</td>\n",
       "    </tr>\n",
       "  </tbody>\n",
       "</table>\n",
       "</div>"
      ],
      "text/plain": [
       "              country     capital    area  population\n",
       "Country Code                                         \n",
       "RU             Russia      Moscow  17.100       143.5\n",
       "TR            Türkiye      Ankara   3.286      1252.0\n",
       "USA               USA  Washington   9.597      1357.0"
      ]
     },
     "execution_count": 67,
     "metadata": {},
     "output_type": "execute_result"
    }
   ],
   "source": [
    "brics.iloc[[1,2,3]]"
   ]
  },
  {
   "cell_type": "code",
   "execution_count": 71,
   "id": "437c2840",
   "metadata": {
    "scrolled": true
   },
   "outputs": [
    {
     "data": {
      "text/html": [
       "<div>\n",
       "<style scoped>\n",
       "    .dataframe tbody tr th:only-of-type {\n",
       "        vertical-align: middle;\n",
       "    }\n",
       "\n",
       "    .dataframe tbody tr th {\n",
       "        vertical-align: top;\n",
       "    }\n",
       "\n",
       "    .dataframe thead th {\n",
       "        text-align: right;\n",
       "    }\n",
       "</style>\n",
       "<table border=\"1\" class=\"dataframe\">\n",
       "  <thead>\n",
       "    <tr style=\"text-align: right;\">\n",
       "      <th></th>\n",
       "      <th>country</th>\n",
       "      <th>population</th>\n",
       "    </tr>\n",
       "    <tr>\n",
       "      <th>Country Code</th>\n",
       "      <th></th>\n",
       "      <th></th>\n",
       "    </tr>\n",
       "  </thead>\n",
       "  <tbody>\n",
       "    <tr>\n",
       "      <th>RU</th>\n",
       "      <td>Russia</td>\n",
       "      <td>143.5</td>\n",
       "    </tr>\n",
       "    <tr>\n",
       "      <th>TR</th>\n",
       "      <td>Türkiye</td>\n",
       "      <td>1252.0</td>\n",
       "    </tr>\n",
       "    <tr>\n",
       "      <th>USA</th>\n",
       "      <td>USA</td>\n",
       "      <td>1357.0</td>\n",
       "    </tr>\n",
       "  </tbody>\n",
       "</table>\n",
       "</div>"
      ],
      "text/plain": [
       "              country  population\n",
       "Country Code                     \n",
       "RU             Russia       143.5\n",
       "TR            Türkiye      1252.0\n",
       "USA               USA      1357.0"
      ]
     },
     "execution_count": 71,
     "metadata": {},
     "output_type": "execute_result"
    }
   ],
   "source": [
    "brics.iloc[[1,2,3],[0,3]]"
   ]
  },
  {
   "cell_type": "markdown",
   "id": "366c3869",
   "metadata": {},
   "source": [
    "<h3>Boolean</h3>"
   ]
  },
  {
   "cell_type": "code",
   "execution_count": null,
   "id": "2446fc4f",
   "metadata": {},
   "outputs": [],
   "source": [
    "--Mantıksal veri tipidir.\n",
    "    -İki değer taşır: True ya da False."
   ]
  },
  {
   "cell_type": "code",
   "execution_count": 3,
   "id": "a355a8b4",
   "metadata": {},
   "outputs": [
    {
     "data": {
      "text/plain": [
       "True"
      ]
     },
     "execution_count": 3,
     "metadata": {},
     "output_type": "execute_result"
    }
   ],
   "source": [
    "2==2"
   ]
  },
  {
   "cell_type": "code",
   "execution_count": 7,
   "id": "d261ad8b",
   "metadata": {},
   "outputs": [
    {
     "data": {
      "text/plain": [
       "False"
      ]
     },
     "execution_count": 7,
     "metadata": {},
     "output_type": "execute_result"
    }
   ],
   "source": [
    "2 >=3"
   ]
  },
  {
   "cell_type": "code",
   "execution_count": 8,
   "id": "8cf5f21a",
   "metadata": {},
   "outputs": [
    {
     "name": "stdout",
     "output_type": "stream",
     "text": [
      "False\n"
     ]
    },
    {
     "data": {
      "text/plain": [
       "True"
      ]
     },
     "execution_count": 8,
     "metadata": {},
     "output_type": "execute_result"
    }
   ],
   "source": [
    "# Comparison of booleans\n",
    "print(True == False)\n",
    "\n",
    "\n",
    "# Comparison of integers\n",
    "-5*15 != 75\n",
    "\n",
    "# Comparison of strings\n",
    "\"pyscript\" == \"PyScript\"\n",
    "# Compare a boolean with an integer\n",
    "True == 1"
   ]
  },
  {
   "cell_type": "code",
   "execution_count": 9,
   "id": "175daac6",
   "metadata": {},
   "outputs": [
    {
     "name": "stdout",
     "output_type": "stream",
     "text": [
      "False\n",
      "test <= y\n",
      "True\n"
     ]
    }
   ],
   "source": [
    "# Comparison of integers\n",
    "x = -3 * 6\n",
    "\n",
    "\n",
    "# Comparison of strings\n",
    "y = \"test\"\n",
    "\n",
    "\n",
    "# Comparison of booleans\n",
    "print(x >= -10)\n",
    "print(\"test <= y\")\n",
    "print(True > False)"
   ]
  },
  {
   "cell_type": "code",
   "execution_count": 10,
   "id": "85da9b47",
   "metadata": {},
   "outputs": [
    {
     "name": "stdout",
     "output_type": "stream",
     "text": [
      "[ True  True False False]\n",
      "[False  True  True False]\n"
     ]
    }
   ],
   "source": [
    "# Create arrays\n",
    "import numpy as np\n",
    "my_house = np.array([18.0, 20.0, 10.75, 9.50])\n",
    "your_house = np.array([14.0, 24.0, 14.25, 9.0])\n",
    "\n",
    "# my_house greater than or equal to 18\n",
    "print(my_house >= 18)\n",
    "\n",
    "# my_house less than your_house\n",
    "print(my_house < your_house)"
   ]
  },
  {
   "cell_type": "markdown",
   "id": "bb931b08",
   "metadata": {},
   "source": [
    "--Numpy arrayinde boolean elde etmek için aşağıdaki fonksiyonlar kullanılır.<br>\n",
    "    -logical_and()<br>\n",
    "    -logical_or()<br>\n",
    "    -logical_not()<br>\n",
    "       "
   ]
  },
  {
   "cell_type": "code",
   "execution_count": 11,
   "id": "52eac8ca",
   "metadata": {},
   "outputs": [
    {
     "name": "stdout",
     "output_type": "stream",
     "text": [
      "False\n",
      "True\n",
      "True\n"
     ]
    }
   ],
   "source": [
    "# Define variables\n",
    "my_kitchen = 18.0\n",
    "your_kitchen = 14.0\n",
    "\n",
    "# my_kitchen bigger than 10 and smaller than 18?\n",
    "print(my_kitchen > 10 and my_kitchen < 18)\n",
    "\n",
    "\n",
    "# my_kitchen smaller than 14 or bigger than 17?\n",
    "print(my_kitchen < 14 or my_kitchen > 17)\n",
    "\n",
    "# Double my_kitchen smaller than triple your_kitchen?\n",
    "print((my_kitchen*2) < (your_kitchen*3))"
   ]
  },
  {
   "cell_type": "code",
   "execution_count": 12,
   "id": "f435bdfc",
   "metadata": {},
   "outputs": [
    {
     "name": "stdout",
     "output_type": "stream",
     "text": [
      "[False  True False  True]\n",
      "[False False False  True]\n"
     ]
    }
   ],
   "source": [
    "# Create arrays\n",
    "import numpy as np\n",
    "my_house = np.array([18.0, 20.0, 10.75, 9.50])\n",
    "your_house = np.array([14.0, 24.0, 14.25, 9.0])\n",
    "\n",
    "# my_house greater than 18.5 or smaller than 10\n",
    "print(np.logical_or(my_house > 18.5, my_house < 10))\n",
    "\n",
    "# Both my_house and your_house smaller than 11\n",
    "print(np.logical_and(my_house < 11, your_house < 11))"
   ]
  },
  {
   "cell_type": "markdown",
   "id": "0e7e9144",
   "metadata": {},
   "source": [
    "<h3>IF, ELSE, ELIF</h3>"
   ]
  },
  {
   "cell_type": "markdown",
   "id": "e8db0ac1",
   "metadata": {},
   "source": [
    "IF, ELSE ve ELIF metodları, koşulu test etmemize yarayan metodlardır."
   ]
  },
  {
   "cell_type": "code",
   "execution_count": 2,
   "id": "7294f8ef",
   "metadata": {},
   "outputs": [
    {
     "name": "stdout",
     "output_type": "stream",
     "text": [
      "looking around in the kitchen.\n"
     ]
    }
   ],
   "source": [
    "# Define variables\n",
    "room = \"kit\"\n",
    "area = 14.0\n",
    "\n",
    "# if statement for room\n",
    "if room == \"kit\" :\n",
    "    print(\"looking around in the kitchen.\")\n",
    "\n",
    "# if statement for area\n",
    "if area > 15:\n",
    "    print(\"big place!\")"
   ]
  },
  {
   "cell_type": "code",
   "execution_count": 3,
   "id": "cb57ac6a",
   "metadata": {},
   "outputs": [
    {
     "name": "stdout",
     "output_type": "stream",
     "text": [
      "looking around in the kitchen.\n",
      "pretty small.\n"
     ]
    }
   ],
   "source": [
    "# Define variables\n",
    "room = \"kit\"\n",
    "area = 14.0\n",
    "\n",
    "# if-else construct for room\n",
    "if room == \"kit\" :\n",
    "    print(\"looking around in the kitchen.\")\n",
    "else :\n",
    "    print(\"looking around elsewhere.\")\n",
    "\n",
    "# if-else construct for area\n",
    "if area > 15 :\n",
    "    print(\"big place!\")\n",
    "else: print(\"pretty small.\")"
   ]
  },
  {
   "cell_type": "code",
   "execution_count": 4,
   "id": "65811a37",
   "metadata": {},
   "outputs": [
    {
     "name": "stdout",
     "output_type": "stream",
     "text": [
      "looking around in the bedroom.\n",
      "medium size, nice!\n"
     ]
    }
   ],
   "source": [
    "# Define variables\n",
    "room = \"bed\"\n",
    "area = 14.0\n",
    "\n",
    "# if-elif-else construct for room\n",
    "if room == \"kit\" :\n",
    "    print(\"looking around in the kitchen.\")\n",
    "elif room == \"bed\":\n",
    "    print(\"looking around in the bedroom.\")\n",
    "else :\n",
    "    print(\"looking around elsewhere.\")\n",
    "\n",
    "# if-elif-else construct for area\n",
    "if area > 15 :\n",
    "    print(\"big place!\")\n",
    "elif area > 10:\n",
    "    print(\"medium size, nice!\")\n",
    "else :\n",
    "    print(\"pretty small.\")"
   ]
  },
  {
   "cell_type": "code",
   "execution_count": null,
   "id": "2135a66c",
   "metadata": {},
   "outputs": [],
   "source": [
    "# Import cars data\n",
    "import pandas as pd\n",
    "cars = pd.read_csv('cars.csv', index_col = 0)\n",
    "\n",
    "# Convert code to a one-liner\n",
    "sel = cars[cars['drives_right']]\n",
    "\n",
    "# Print sel\n",
    "print(sel)"
   ]
  },
  {
   "cell_type": "raw",
   "id": "fe259d5c",
   "metadata": {},
   "source": [
    "**Loop**\n",
    "--Verilen sorgu doğru oldukça sürekli olarak devam eden, sonsuza kadar gidebilen programları içerir.\n",
    "--İki türlü loop türü vardır;\n",
    " --While Döngüsü: Önceden belirlenmiş bir koşul bozulana kadar devam eder. Koşul bozulduktan sonra ilk kontrolde döngü terk edilir."
   ]
  },
  {
   "cell_type": "code",
   "execution_count": 12,
   "id": "7794d310",
   "metadata": {},
   "outputs": [
    {
     "name": "stdout",
     "output_type": "stream",
     "text": [
      "2\n",
      "X değeri artıyor...\n",
      "3\n",
      "X değeri artıyor...\n",
      "4\n",
      "X değeri artıyor...\n",
      "5\n",
      "X değeri artıyor...\n"
     ]
    }
   ],
   "source": [
    "x = 1\n",
    "\n",
    "while x < 5:\n",
    "    x +=1\n",
    "    print(x)\n",
    "    print(\"X değeri artıyor...\")"
   ]
  },
  {
   "cell_type": "code",
   "execution_count": 14,
   "id": "86ea6247",
   "metadata": {},
   "outputs": [
    {
     "name": "stdout",
     "output_type": "stream",
     "text": [
      "2\n",
      "4\n",
      "6\n",
      "8\n",
      "10\n",
      "12\n",
      "14\n",
      "16\n",
      "18\n",
      "20\n",
      "22\n",
      "24\n",
      "26\n",
      "28\n",
      "30\n",
      "32\n",
      "34\n",
      "36\n",
      "38\n",
      "40\n",
      "42\n",
      "44\n",
      "46\n",
      "48\n",
      "50\n"
     ]
    }
   ],
   "source": [
    "a = 0\n",
    "while a < 50:\n",
    "    a += 1\n",
    "    if a % 2 == 0:\n",
    "        print(a)"
   ]
  },
  {
   "cell_type": "raw",
   "id": "4ad2b688",
   "metadata": {},
   "source": [
    "--For Döngüsü:\n",
    "  -Yazım metodu aşağıdaki gibidir:\n",
    "      for değişken_adı in değişken:\n",
    "          yapılacak_işlem\n",
    "--Metodun açıklaması --> değişken içindeki her bir öğeyi değişken_adı olarak adlandır: ve bu öğelerle bir işlem yap.\n",
    "\n",
    "**For ve While arasındaki farklar**\n",
    "--While ile for döngüsünün çalışma mantıkları birbirinden farklıdır. for döngüsü, üzerinde döngü kurulabilecek veri tiplerinin her bir öğesinin üzerinden tek tek geçerek bu öğeler üzerinde bir işlem yapar, while döngüsü ise herhangi bir ifadenin boolean değerini döndürür ve false olana dek işlem devam eder."
   ]
  },
  {
   "cell_type": "code",
   "execution_count": 15,
   "id": "bdde39d9",
   "metadata": {},
   "outputs": [
    {
     "name": "stdout",
     "output_type": "stream",
     "text": [
      "i\n",
      "s\n",
      "t\n",
      "i\n",
      "h\n",
      "z\n",
      "a\n"
     ]
    }
   ],
   "source": [
    "for s in \"istihza\":\n",
    "    print(s)"
   ]
  },
  {
   "cell_type": "code",
   "execution_count": 17,
   "id": "59143fbf",
   "metadata": {},
   "outputs": [
    {
     "name": "stdout",
     "output_type": "stream",
     "text": [
      "Parolanız: tİto\n",
      "parolada Türkçe karakter kullanılamaz\n"
     ]
    }
   ],
   "source": [
    "tr_harfler = \"şçöğüİı\"\n",
    "\n",
    "parola = input(\"Parolanız: \")\n",
    "\n",
    "for karakter in parola:\n",
    "    if karakter in tr_harfler:\n",
    "        print(\"parolada Türkçe karakter kullanılamaz\")"
   ]
  },
  {
   "cell_type": "code",
   "execution_count": null,
   "id": "77c8c96f",
   "metadata": {},
   "outputs": [],
   "source": [
    "while True:\n",
    "    parola = input(\"lütfen bir parola belirle: \")\n",
    "    \n",
    "    if not parola: \n",
    "        print(\"parola bölümü boş geçilemez\")\n",
    "    elif len(parola) >8:\n",
    "        print(\"parola 8 karakterden az olmalı\")\n",
    "    elif len(parola)< 3:\n",
    "        print(\"parola 3 karakterden fazla olmalı\")\n",
    "    else:\n",
    "        print(\"yeni parolanız\",parola)\n",
    "        break"
   ]
  },
  {
   "cell_type": "code",
   "execution_count": null,
   "id": "2540d191",
   "metadata": {},
   "outputs": [],
   "source": [
    "# areas list\n",
    "areas = [11.25, 18.0, 20.0, 10.75, 9.50]\n",
    "\n",
    "# Code the for loop\n",
    "for i in areas:\n",
    "    print(i)"
   ]
  },
  {
   "cell_type": "code",
   "execution_count": null,
   "id": "4f03f1c5",
   "metadata": {},
   "outputs": [],
   "source": [
    "# areas list\n",
    "areas = [11.25, 18.0, 20.0, 10.75, 9.50]\n",
    "\n",
    "# Change for loop to use enumerate() and update print()\n",
    "for index, area in enumerate(areas) :\n",
    "    print(\"room \" +str(index) + \": \" + str(area))"
   ]
  },
  {
   "cell_type": "code",
   "execution_count": null,
   "id": "f3f61363",
   "metadata": {},
   "outputs": [],
   "source": [
    "# house list of lists\n",
    "house = [[\"hallway\", 11.25], \n",
    "         [\"kitchen\", 18.0], \n",
    "         [\"living room\", 20.0], \n",
    "         [\"bedroom\", 10.75], \n",
    "         [\"bathroom\", 9.50]]\n",
    "         \n",
    "# Build a for loop from scratch\n",
    "\n",
    "for room in house:\n",
    "      print(\"the \" + room[0] + \" is \" + str(room[1]) + \" sqm\")\n"
   ]
  },
  {
   "cell_type": "code",
   "execution_count": null,
   "id": "2437e70e",
   "metadata": {},
   "outputs": [],
   "source": [
    "# Definition of dictionary\n",
    "europe = {'spain':'madrid', 'france':'paris', 'germany':'berlin',\n",
    "          'norway':'oslo', 'italy':'rome', 'poland':'warsaw', 'austria':'vienna' }\n",
    "          \n",
    "# Iterate over europe\n",
    "for x, y in europe.items():\n",
    "    print(\"the capital of \" + x + \" is \" + y)"
   ]
  },
  {
   "cell_type": "code",
   "execution_count": null,
   "id": "3285644f",
   "metadata": {},
   "outputs": [],
   "source": [
    "# Import numpy as np\n",
    "import numpy as np\n",
    "\n",
    "# For loop over np_height\n",
    "\n",
    "for i in np_height: \n",
    "    print( str(i) + \" inches\")\n",
    "\n",
    "# For loop over np_baseball\n",
    "for x in np.nditer(np_baseball):\n",
    "    print(x)"
   ]
  },
  {
   "cell_type": "code",
   "execution_count": null,
   "id": "627e5d40",
   "metadata": {},
   "outputs": [],
   "source": [
    "##Hacker Statistic"
   ]
  },
  {
   "cell_type": "code",
   "execution_count": 1,
   "id": "3e1bc6a1",
   "metadata": {},
   "outputs": [],
   "source": [
    "import numpy as np\n",
    "import pandas as pd"
   ]
  },
  {
   "cell_type": "code",
   "execution_count": 2,
   "id": "c7a2a8b6",
   "metadata": {},
   "outputs": [
    {
     "data": {
      "text/plain": [
       "0.9328415760445006"
      ]
     },
     "execution_count": 2,
     "metadata": {},
     "output_type": "execute_result"
    }
   ],
   "source": [
    "np.random.rand() ##random bir sayı vermeye yarıyor. 0 ile 1 arasında. "
   ]
  },
  {
   "cell_type": "code",
   "execution_count": 6,
   "id": "3c5f2768",
   "metadata": {},
   "outputs": [
    {
     "name": "stdout",
     "output_type": "stream",
     "text": [
      "0\n"
     ]
    }
   ],
   "source": [
    "np.random.seed(123)\n",
    "coin = np.random.randint(0,2) ## 0 ile 2 arasında(2 dahil değil) bir sayı)\n",
    "print(coin)"
   ]
  },
  {
   "cell_type": "code",
   "execution_count": 11,
   "id": "edc90894",
   "metadata": {},
   "outputs": [
    {
     "name": "stdout",
     "output_type": "stream",
     "text": [
      "heads\n"
     ]
    }
   ],
   "source": [
    "if coin == 0:\n",
    "    print(\"heads\")\n",
    "else: print(\"tails\")"
   ]
  },
  {
   "cell_type": "code",
   "execution_count": null,
   "id": "353c43ee",
   "metadata": {},
   "outputs": [],
   "source": [
    "# NumPy is imported, seed is set\n",
    "\n",
    "# Starting step\n",
    "step = 50\n",
    "\n",
    "# Roll the dice\n",
    "dice = np.random.randint(1,7)\n",
    "\n",
    "# Finish the control construct\n",
    "if dice <= 2 :\n",
    "    step = step - 1\n",
    "elif dice <= 5 :\n",
    "    step = step + 1\n",
    "else :\n",
    "    step = step + np.random.randint(1,7)\n",
    "\n",
    "# Print out dice and step\n",
    "print(dice)\n",
    "print(step)"
   ]
  }
 ],
 "metadata": {
  "kernelspec": {
   "display_name": "Python 3 (ipykernel)",
   "language": "python",
   "name": "python3"
  },
  "language_info": {
   "codemirror_mode": {
    "name": "ipython",
    "version": 3
   },
   "file_extension": ".py",
   "mimetype": "text/x-python",
   "name": "python",
   "nbconvert_exporter": "python",
   "pygments_lexer": "ipython3",
   "version": "3.10.9"
  }
 },
 "nbformat": 4,
 "nbformat_minor": 5
}
